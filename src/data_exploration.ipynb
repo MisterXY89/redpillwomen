{
 "cells": [
  {
   "cell_type": "markdown",
   "metadata": {},
   "source": [
    "# Exploring r/redpillwomen submisions and comments"
   ]
  },
  {
   "cell_type": "markdown",
   "metadata": {},
   "source": [
    "## Libraries & Setup"
   ]
  },
  {
   "cell_type": "markdown",
   "metadata": {},
   "source": [
    "### Install"
   ]
  },
  {
   "cell_type": "code",
   "execution_count": 1,
   "metadata": {},
   "outputs": [
    {
     "name": "stdout",
     "output_type": "stream",
     "text": [
      "Requirement already satisfied: pandas in /Users/tilmankerl/Documents/UNI/SICSS/reddit-pills/.venv/lib/python3.9/site-packages (2.0.3)\n",
      "Requirement already satisfied: numpy==1.24 in /Users/tilmankerl/Documents/UNI/SICSS/reddit-pills/.venv/lib/python3.9/site-packages (1.24.0)\n",
      "Requirement already satisfied: matplotlib in /Users/tilmankerl/Documents/UNI/SICSS/reddit-pills/.venv/lib/python3.9/site-packages (3.7.2)\n",
      "Requirement already satisfied: seaborn in /Users/tilmankerl/Documents/UNI/SICSS/reddit-pills/.venv/lib/python3.9/site-packages (0.12.1)\n",
      "Requirement already satisfied: python-dateutil>=2.8.2 in /Users/tilmankerl/Documents/UNI/SICSS/reddit-pills/.venv/lib/python3.9/site-packages (from pandas) (2.8.2)\n",
      "Requirement already satisfied: pytz>=2020.1 in /Users/tilmankerl/Documents/UNI/SICSS/reddit-pills/.venv/lib/python3.9/site-packages (from pandas) (2023.3)\n",
      "Requirement already satisfied: tzdata>=2022.1 in /Users/tilmankerl/Documents/UNI/SICSS/reddit-pills/.venv/lib/python3.9/site-packages (from pandas) (2023.3)\n",
      "Requirement already satisfied: contourpy>=1.0.1 in /Users/tilmankerl/Documents/UNI/SICSS/reddit-pills/.venv/lib/python3.9/site-packages (from matplotlib) (1.1.0)\n",
      "Requirement already satisfied: cycler>=0.10 in /Users/tilmankerl/Documents/UNI/SICSS/reddit-pills/.venv/lib/python3.9/site-packages (from matplotlib) (0.11.0)\n",
      "Requirement already satisfied: fonttools>=4.22.0 in /Users/tilmankerl/Documents/UNI/SICSS/reddit-pills/.venv/lib/python3.9/site-packages (from matplotlib) (4.41.1)\n",
      "Requirement already satisfied: kiwisolver>=1.0.1 in /Users/tilmankerl/Documents/UNI/SICSS/reddit-pills/.venv/lib/python3.9/site-packages (from matplotlib) (1.4.4)\n",
      "Requirement already satisfied: packaging>=20.0 in /Users/tilmankerl/Documents/UNI/SICSS/reddit-pills/.venv/lib/python3.9/site-packages (from matplotlib) (23.1)\n",
      "Requirement already satisfied: pillow>=6.2.0 in /Users/tilmankerl/Documents/UNI/SICSS/reddit-pills/.venv/lib/python3.9/site-packages (from matplotlib) (10.0.0)\n",
      "Requirement already satisfied: pyparsing<3.1,>=2.3.1 in /Users/tilmankerl/Documents/UNI/SICSS/reddit-pills/.venv/lib/python3.9/site-packages (from matplotlib) (3.0.9)\n",
      "Requirement already satisfied: importlib-resources>=3.2.0 in /Users/tilmankerl/Documents/UNI/SICSS/reddit-pills/.venv/lib/python3.9/site-packages (from matplotlib) (6.0.0)\n",
      "Requirement already satisfied: zipp>=3.1.0 in /Users/tilmankerl/Documents/UNI/SICSS/reddit-pills/.venv/lib/python3.9/site-packages (from importlib-resources>=3.2.0->matplotlib) (3.16.2)\n",
      "Requirement already satisfied: six>=1.5 in /Users/tilmankerl/Documents/UNI/SICSS/reddit-pills/.venv/lib/python3.9/site-packages (from python-dateutil>=2.8.2->pandas) (1.16.0)\n",
      "Note: you may need to restart the kernel to use updated packages.\n"
     ]
    }
   ],
   "source": [
    "%pip install pandas numpy==1.24 matplotlib seaborn"
   ]
  },
  {
   "cell_type": "code",
   "execution_count": 2,
   "metadata": {},
   "outputs": [
    {
     "name": "stdout",
     "output_type": "stream",
     "text": [
      "Requirement already satisfied: nbformat in /Users/tilmankerl/Documents/UNI/SICSS/reddit-pills/.venv/lib/python3.9/site-packages (5.9.2)\n",
      "Requirement already satisfied: fastjsonschema in /Users/tilmankerl/Documents/UNI/SICSS/reddit-pills/.venv/lib/python3.9/site-packages (from nbformat) (2.18.0)\n",
      "Requirement already satisfied: jsonschema>=2.6 in /Users/tilmankerl/Documents/UNI/SICSS/reddit-pills/.venv/lib/python3.9/site-packages (from nbformat) (4.18.4)\n",
      "Requirement already satisfied: jupyter-core in /Users/tilmankerl/Documents/UNI/SICSS/reddit-pills/.venv/lib/python3.9/site-packages (from nbformat) (5.3.1)\n",
      "Requirement already satisfied: traitlets>=5.1 in /Users/tilmankerl/Documents/UNI/SICSS/reddit-pills/.venv/lib/python3.9/site-packages (from nbformat) (5.9.0)\n",
      "Requirement already satisfied: attrs>=22.2.0 in /Users/tilmankerl/Documents/UNI/SICSS/reddit-pills/.venv/lib/python3.9/site-packages (from jsonschema>=2.6->nbformat) (23.1.0)\n",
      "Requirement already satisfied: jsonschema-specifications>=2023.03.6 in /Users/tilmankerl/Documents/UNI/SICSS/reddit-pills/.venv/lib/python3.9/site-packages (from jsonschema>=2.6->nbformat) (2023.7.1)\n",
      "Requirement already satisfied: referencing>=0.28.4 in /Users/tilmankerl/Documents/UNI/SICSS/reddit-pills/.venv/lib/python3.9/site-packages (from jsonschema>=2.6->nbformat) (0.30.0)\n",
      "Requirement already satisfied: rpds-py>=0.7.1 in /Users/tilmankerl/Documents/UNI/SICSS/reddit-pills/.venv/lib/python3.9/site-packages (from jsonschema>=2.6->nbformat) (0.9.2)\n",
      "Requirement already satisfied: platformdirs>=2.5 in /Users/tilmankerl/Documents/UNI/SICSS/reddit-pills/.venv/lib/python3.9/site-packages (from jupyter-core->nbformat) (3.10.0)\n",
      "Note: you may need to restart the kernel to use updated packages.\n"
     ]
    }
   ],
   "source": [
    "%pip install --upgrade nbformat"
   ]
  },
  {
   "cell_type": "code",
   "execution_count": 3,
   "metadata": {},
   "outputs": [
    {
     "name": "stdout",
     "output_type": "stream",
     "text": [
      "Requirement already satisfied: bertopic in /Users/tilmankerl/Documents/UNI/SICSS/reddit-pills/.venv/lib/python3.9/site-packages (0.15.0)\n",
      "Requirement already satisfied: numpy>=1.20.0 in /Users/tilmankerl/Documents/UNI/SICSS/reddit-pills/.venv/lib/python3.9/site-packages (from bertopic) (1.24.0)\n",
      "Requirement already satisfied: hdbscan>=0.8.29 in /Users/tilmankerl/Documents/UNI/SICSS/reddit-pills/.venv/lib/python3.9/site-packages (from bertopic) (0.8.33)\n",
      "Requirement already satisfied: umap-learn>=0.5.0 in /Users/tilmankerl/Documents/UNI/SICSS/reddit-pills/.venv/lib/python3.9/site-packages (from bertopic) (0.5.3)\n",
      "Requirement already satisfied: pandas>=1.1.5 in /Users/tilmankerl/Documents/UNI/SICSS/reddit-pills/.venv/lib/python3.9/site-packages (from bertopic) (2.0.3)\n",
      "Requirement already satisfied: scikit-learn>=0.22.2.post1 in /Users/tilmankerl/Documents/UNI/SICSS/reddit-pills/.venv/lib/python3.9/site-packages (from bertopic) (1.3.0)\n",
      "Requirement already satisfied: tqdm>=4.41.1 in /Users/tilmankerl/Documents/UNI/SICSS/reddit-pills/.venv/lib/python3.9/site-packages (from bertopic) (4.65.0)\n",
      "Requirement already satisfied: sentence-transformers>=0.4.1 in /Users/tilmankerl/Documents/UNI/SICSS/reddit-pills/.venv/lib/python3.9/site-packages (from bertopic) (2.2.2)\n",
      "Requirement already satisfied: plotly>=4.7.0 in /Users/tilmankerl/Documents/UNI/SICSS/reddit-pills/.venv/lib/python3.9/site-packages (from bertopic) (5.15.0)\n",
      "Requirement already satisfied: cython<3,>=0.27 in /Users/tilmankerl/Documents/UNI/SICSS/reddit-pills/.venv/lib/python3.9/site-packages (from hdbscan>=0.8.29->bertopic) (0.29.36)\n",
      "Requirement already satisfied: scipy>=1.0 in /Users/tilmankerl/Documents/UNI/SICSS/reddit-pills/.venv/lib/python3.9/site-packages (from hdbscan>=0.8.29->bertopic) (1.11.1)\n",
      "Requirement already satisfied: joblib>=1.0 in /Users/tilmankerl/Documents/UNI/SICSS/reddit-pills/.venv/lib/python3.9/site-packages (from hdbscan>=0.8.29->bertopic) (1.3.1)\n",
      "Requirement already satisfied: python-dateutil>=2.8.2 in /Users/tilmankerl/Documents/UNI/SICSS/reddit-pills/.venv/lib/python3.9/site-packages (from pandas>=1.1.5->bertopic) (2.8.2)\n",
      "Requirement already satisfied: pytz>=2020.1 in /Users/tilmankerl/Documents/UNI/SICSS/reddit-pills/.venv/lib/python3.9/site-packages (from pandas>=1.1.5->bertopic) (2023.3)\n",
      "Requirement already satisfied: tzdata>=2022.1 in /Users/tilmankerl/Documents/UNI/SICSS/reddit-pills/.venv/lib/python3.9/site-packages (from pandas>=1.1.5->bertopic) (2023.3)\n",
      "Requirement already satisfied: tenacity>=6.2.0 in /Users/tilmankerl/Documents/UNI/SICSS/reddit-pills/.venv/lib/python3.9/site-packages (from plotly>=4.7.0->bertopic) (8.2.2)\n",
      "Requirement already satisfied: packaging in /Users/tilmankerl/Documents/UNI/SICSS/reddit-pills/.venv/lib/python3.9/site-packages (from plotly>=4.7.0->bertopic) (23.1)\n",
      "Requirement already satisfied: threadpoolctl>=2.0.0 in /Users/tilmankerl/Documents/UNI/SICSS/reddit-pills/.venv/lib/python3.9/site-packages (from scikit-learn>=0.22.2.post1->bertopic) (3.2.0)\n",
      "Requirement already satisfied: transformers<5.0.0,>=4.6.0 in /Users/tilmankerl/Documents/UNI/SICSS/reddit-pills/.venv/lib/python3.9/site-packages (from sentence-transformers>=0.4.1->bertopic) (4.31.0)\n",
      "Requirement already satisfied: torch>=1.6.0 in /Users/tilmankerl/Documents/UNI/SICSS/reddit-pills/.venv/lib/python3.9/site-packages (from sentence-transformers>=0.4.1->bertopic) (2.0.1)\n",
      "Requirement already satisfied: torchvision in /Users/tilmankerl/Documents/UNI/SICSS/reddit-pills/.venv/lib/python3.9/site-packages (from sentence-transformers>=0.4.1->bertopic) (0.15.2)\n",
      "Requirement already satisfied: nltk in /Users/tilmankerl/Documents/UNI/SICSS/reddit-pills/.venv/lib/python3.9/site-packages (from sentence-transformers>=0.4.1->bertopic) (3.8.1)\n",
      "Requirement already satisfied: sentencepiece in /Users/tilmankerl/Documents/UNI/SICSS/reddit-pills/.venv/lib/python3.9/site-packages (from sentence-transformers>=0.4.1->bertopic) (0.1.99)\n",
      "Requirement already satisfied: huggingface-hub>=0.4.0 in /Users/tilmankerl/Documents/UNI/SICSS/reddit-pills/.venv/lib/python3.9/site-packages (from sentence-transformers>=0.4.1->bertopic) (0.16.4)\n",
      "Requirement already satisfied: numba>=0.49 in /Users/tilmankerl/Documents/UNI/SICSS/reddit-pills/.venv/lib/python3.9/site-packages (from umap-learn>=0.5.0->bertopic) (0.57.1)\n",
      "Requirement already satisfied: pynndescent>=0.5 in /Users/tilmankerl/Documents/UNI/SICSS/reddit-pills/.venv/lib/python3.9/site-packages (from umap-learn>=0.5.0->bertopic) (0.5.10)\n",
      "Requirement already satisfied: filelock in /Users/tilmankerl/Documents/UNI/SICSS/reddit-pills/.venv/lib/python3.9/site-packages (from huggingface-hub>=0.4.0->sentence-transformers>=0.4.1->bertopic) (3.12.2)\n",
      "Requirement already satisfied: fsspec in /Users/tilmankerl/Documents/UNI/SICSS/reddit-pills/.venv/lib/python3.9/site-packages (from huggingface-hub>=0.4.0->sentence-transformers>=0.4.1->bertopic) (2023.6.0)\n",
      "Requirement already satisfied: requests in /Users/tilmankerl/Documents/UNI/SICSS/reddit-pills/.venv/lib/python3.9/site-packages (from huggingface-hub>=0.4.0->sentence-transformers>=0.4.1->bertopic) (2.31.0)\n",
      "Requirement already satisfied: pyyaml>=5.1 in /Users/tilmankerl/Documents/UNI/SICSS/reddit-pills/.venv/lib/python3.9/site-packages (from huggingface-hub>=0.4.0->sentence-transformers>=0.4.1->bertopic) (6.0.1)\n",
      "Requirement already satisfied: typing-extensions>=3.7.4.3 in /Users/tilmankerl/Documents/UNI/SICSS/reddit-pills/.venv/lib/python3.9/site-packages (from huggingface-hub>=0.4.0->sentence-transformers>=0.4.1->bertopic) (4.7.1)\n",
      "Requirement already satisfied: llvmlite<0.41,>=0.40.0dev0 in /Users/tilmankerl/Documents/UNI/SICSS/reddit-pills/.venv/lib/python3.9/site-packages (from numba>=0.49->umap-learn>=0.5.0->bertopic) (0.40.1)\n",
      "Requirement already satisfied: six>=1.5 in /Users/tilmankerl/Documents/UNI/SICSS/reddit-pills/.venv/lib/python3.9/site-packages (from python-dateutil>=2.8.2->pandas>=1.1.5->bertopic) (1.16.0)\n",
      "Requirement already satisfied: sympy in /Users/tilmankerl/Documents/UNI/SICSS/reddit-pills/.venv/lib/python3.9/site-packages (from torch>=1.6.0->sentence-transformers>=0.4.1->bertopic) (1.12)\n",
      "Requirement already satisfied: networkx in /Users/tilmankerl/Documents/UNI/SICSS/reddit-pills/.venv/lib/python3.9/site-packages (from torch>=1.6.0->sentence-transformers>=0.4.1->bertopic) (3.1)\n",
      "Requirement already satisfied: jinja2 in /Users/tilmankerl/Documents/UNI/SICSS/reddit-pills/.venv/lib/python3.9/site-packages (from torch>=1.6.0->sentence-transformers>=0.4.1->bertopic) (3.1.2)\n",
      "Requirement already satisfied: regex!=2019.12.17 in /Users/tilmankerl/Documents/UNI/SICSS/reddit-pills/.venv/lib/python3.9/site-packages (from transformers<5.0.0,>=4.6.0->sentence-transformers>=0.4.1->bertopic) (2023.6.3)\n",
      "Requirement already satisfied: tokenizers!=0.11.3,<0.14,>=0.11.1 in /Users/tilmankerl/Documents/UNI/SICSS/reddit-pills/.venv/lib/python3.9/site-packages (from transformers<5.0.0,>=4.6.0->sentence-transformers>=0.4.1->bertopic) (0.13.3)\n",
      "Requirement already satisfied: safetensors>=0.3.1 in /Users/tilmankerl/Documents/UNI/SICSS/reddit-pills/.venv/lib/python3.9/site-packages (from transformers<5.0.0,>=4.6.0->sentence-transformers>=0.4.1->bertopic) (0.3.1)\n",
      "Requirement already satisfied: click in /Users/tilmankerl/Documents/UNI/SICSS/reddit-pills/.venv/lib/python3.9/site-packages (from nltk->sentence-transformers>=0.4.1->bertopic) (8.1.6)\n",
      "Requirement already satisfied: pillow!=8.3.*,>=5.3.0 in /Users/tilmankerl/Documents/UNI/SICSS/reddit-pills/.venv/lib/python3.9/site-packages (from torchvision->sentence-transformers>=0.4.1->bertopic) (10.0.0)\n",
      "Requirement already satisfied: MarkupSafe>=2.0 in /Users/tilmankerl/Documents/UNI/SICSS/reddit-pills/.venv/lib/python3.9/site-packages (from jinja2->torch>=1.6.0->sentence-transformers>=0.4.1->bertopic) (2.1.3)\n",
      "Requirement already satisfied: charset-normalizer<4,>=2 in /Users/tilmankerl/Documents/UNI/SICSS/reddit-pills/.venv/lib/python3.9/site-packages (from requests->huggingface-hub>=0.4.0->sentence-transformers>=0.4.1->bertopic) (3.2.0)\n",
      "Requirement already satisfied: idna<4,>=2.5 in /Users/tilmankerl/Documents/UNI/SICSS/reddit-pills/.venv/lib/python3.9/site-packages (from requests->huggingface-hub>=0.4.0->sentence-transformers>=0.4.1->bertopic) (3.4)\n",
      "Requirement already satisfied: urllib3<3,>=1.21.1 in /Users/tilmankerl/Documents/UNI/SICSS/reddit-pills/.venv/lib/python3.9/site-packages (from requests->huggingface-hub>=0.4.0->sentence-transformers>=0.4.1->bertopic) (2.0.4)\n",
      "Requirement already satisfied: certifi>=2017.4.17 in /Users/tilmankerl/Documents/UNI/SICSS/reddit-pills/.venv/lib/python3.9/site-packages (from requests->huggingface-hub>=0.4.0->sentence-transformers>=0.4.1->bertopic) (2023.7.22)\n",
      "Requirement already satisfied: mpmath>=0.19 in /Users/tilmankerl/Documents/UNI/SICSS/reddit-pills/.venv/lib/python3.9/site-packages (from sympy->torch>=1.6.0->sentence-transformers>=0.4.1->bertopic) (1.3.0)\n",
      "Note: you may need to restart the kernel to use updated packages.\n"
     ]
    }
   ],
   "source": [
    "%pip install bertopic #[spacy]"
   ]
  },
  {
   "cell_type": "code",
   "execution_count": 4,
   "metadata": {},
   "outputs": [],
   "source": [
    "# %pip install NewsSentiment"
   ]
  },
  {
   "cell_type": "code",
   "execution_count": 5,
   "metadata": {},
   "outputs": [
    {
     "name": "stdout",
     "output_type": "stream",
     "text": [
      "Requirement already satisfied: sentence-transformers in /Users/tilmankerl/Documents/UNI/SICSS/reddit-pills/.venv/lib/python3.9/site-packages (2.2.2)\n",
      "Requirement already satisfied: transformers<5.0.0,>=4.6.0 in /Users/tilmankerl/Documents/UNI/SICSS/reddit-pills/.venv/lib/python3.9/site-packages (from sentence-transformers) (4.31.0)\n",
      "Requirement already satisfied: tqdm in /Users/tilmankerl/Documents/UNI/SICSS/reddit-pills/.venv/lib/python3.9/site-packages (from sentence-transformers) (4.65.0)\n",
      "Requirement already satisfied: torch>=1.6.0 in /Users/tilmankerl/Documents/UNI/SICSS/reddit-pills/.venv/lib/python3.9/site-packages (from sentence-transformers) (2.0.1)\n",
      "Requirement already satisfied: torchvision in /Users/tilmankerl/Documents/UNI/SICSS/reddit-pills/.venv/lib/python3.9/site-packages (from sentence-transformers) (0.15.2)\n",
      "Requirement already satisfied: numpy in /Users/tilmankerl/Documents/UNI/SICSS/reddit-pills/.venv/lib/python3.9/site-packages (from sentence-transformers) (1.24.0)\n",
      "Requirement already satisfied: scikit-learn in /Users/tilmankerl/Documents/UNI/SICSS/reddit-pills/.venv/lib/python3.9/site-packages (from sentence-transformers) (1.3.0)\n",
      "Requirement already satisfied: scipy in /Users/tilmankerl/Documents/UNI/SICSS/reddit-pills/.venv/lib/python3.9/site-packages (from sentence-transformers) (1.11.1)\n",
      "Requirement already satisfied: nltk in /Users/tilmankerl/Documents/UNI/SICSS/reddit-pills/.venv/lib/python3.9/site-packages (from sentence-transformers) (3.8.1)\n",
      "Requirement already satisfied: sentencepiece in /Users/tilmankerl/Documents/UNI/SICSS/reddit-pills/.venv/lib/python3.9/site-packages (from sentence-transformers) (0.1.99)\n",
      "Requirement already satisfied: huggingface-hub>=0.4.0 in /Users/tilmankerl/Documents/UNI/SICSS/reddit-pills/.venv/lib/python3.9/site-packages (from sentence-transformers) (0.16.4)\n",
      "Requirement already satisfied: filelock in /Users/tilmankerl/Documents/UNI/SICSS/reddit-pills/.venv/lib/python3.9/site-packages (from huggingface-hub>=0.4.0->sentence-transformers) (3.12.2)\n",
      "Requirement already satisfied: fsspec in /Users/tilmankerl/Documents/UNI/SICSS/reddit-pills/.venv/lib/python3.9/site-packages (from huggingface-hub>=0.4.0->sentence-transformers) (2023.6.0)\n",
      "Requirement already satisfied: requests in /Users/tilmankerl/Documents/UNI/SICSS/reddit-pills/.venv/lib/python3.9/site-packages (from huggingface-hub>=0.4.0->sentence-transformers) (2.31.0)\n",
      "Requirement already satisfied: pyyaml>=5.1 in /Users/tilmankerl/Documents/UNI/SICSS/reddit-pills/.venv/lib/python3.9/site-packages (from huggingface-hub>=0.4.0->sentence-transformers) (6.0.1)\n",
      "Requirement already satisfied: typing-extensions>=3.7.4.3 in /Users/tilmankerl/Documents/UNI/SICSS/reddit-pills/.venv/lib/python3.9/site-packages (from huggingface-hub>=0.4.0->sentence-transformers) (4.7.1)\n",
      "Requirement already satisfied: packaging>=20.9 in /Users/tilmankerl/Documents/UNI/SICSS/reddit-pills/.venv/lib/python3.9/site-packages (from huggingface-hub>=0.4.0->sentence-transformers) (23.1)\n",
      "Requirement already satisfied: sympy in /Users/tilmankerl/Documents/UNI/SICSS/reddit-pills/.venv/lib/python3.9/site-packages (from torch>=1.6.0->sentence-transformers) (1.12)\n",
      "Requirement already satisfied: networkx in /Users/tilmankerl/Documents/UNI/SICSS/reddit-pills/.venv/lib/python3.9/site-packages (from torch>=1.6.0->sentence-transformers) (3.1)\n",
      "Requirement already satisfied: jinja2 in /Users/tilmankerl/Documents/UNI/SICSS/reddit-pills/.venv/lib/python3.9/site-packages (from torch>=1.6.0->sentence-transformers) (3.1.2)\n",
      "Requirement already satisfied: regex!=2019.12.17 in /Users/tilmankerl/Documents/UNI/SICSS/reddit-pills/.venv/lib/python3.9/site-packages (from transformers<5.0.0,>=4.6.0->sentence-transformers) (2023.6.3)\n",
      "Requirement already satisfied: tokenizers!=0.11.3,<0.14,>=0.11.1 in /Users/tilmankerl/Documents/UNI/SICSS/reddit-pills/.venv/lib/python3.9/site-packages (from transformers<5.0.0,>=4.6.0->sentence-transformers) (0.13.3)\n",
      "Requirement already satisfied: safetensors>=0.3.1 in /Users/tilmankerl/Documents/UNI/SICSS/reddit-pills/.venv/lib/python3.9/site-packages (from transformers<5.0.0,>=4.6.0->sentence-transformers) (0.3.1)\n",
      "Requirement already satisfied: click in /Users/tilmankerl/Documents/UNI/SICSS/reddit-pills/.venv/lib/python3.9/site-packages (from nltk->sentence-transformers) (8.1.6)\n",
      "Requirement already satisfied: joblib in /Users/tilmankerl/Documents/UNI/SICSS/reddit-pills/.venv/lib/python3.9/site-packages (from nltk->sentence-transformers) (1.3.1)\n",
      "Requirement already satisfied: threadpoolctl>=2.0.0 in /Users/tilmankerl/Documents/UNI/SICSS/reddit-pills/.venv/lib/python3.9/site-packages (from scikit-learn->sentence-transformers) (3.2.0)\n",
      "Requirement already satisfied: pillow!=8.3.*,>=5.3.0 in /Users/tilmankerl/Documents/UNI/SICSS/reddit-pills/.venv/lib/python3.9/site-packages (from torchvision->sentence-transformers) (10.0.0)\n",
      "Requirement already satisfied: MarkupSafe>=2.0 in /Users/tilmankerl/Documents/UNI/SICSS/reddit-pills/.venv/lib/python3.9/site-packages (from jinja2->torch>=1.6.0->sentence-transformers) (2.1.3)\n",
      "Requirement already satisfied: charset-normalizer<4,>=2 in /Users/tilmankerl/Documents/UNI/SICSS/reddit-pills/.venv/lib/python3.9/site-packages (from requests->huggingface-hub>=0.4.0->sentence-transformers) (3.2.0)\n",
      "Requirement already satisfied: idna<4,>=2.5 in /Users/tilmankerl/Documents/UNI/SICSS/reddit-pills/.venv/lib/python3.9/site-packages (from requests->huggingface-hub>=0.4.0->sentence-transformers) (3.4)\n",
      "Requirement already satisfied: urllib3<3,>=1.21.1 in /Users/tilmankerl/Documents/UNI/SICSS/reddit-pills/.venv/lib/python3.9/site-packages (from requests->huggingface-hub>=0.4.0->sentence-transformers) (2.0.4)\n",
      "Requirement already satisfied: certifi>=2017.4.17 in /Users/tilmankerl/Documents/UNI/SICSS/reddit-pills/.venv/lib/python3.9/site-packages (from requests->huggingface-hub>=0.4.0->sentence-transformers) (2023.7.22)\n",
      "Requirement already satisfied: mpmath>=0.19 in /Users/tilmankerl/Documents/UNI/SICSS/reddit-pills/.venv/lib/python3.9/site-packages (from sympy->torch>=1.6.0->sentence-transformers) (1.3.0)\n",
      "Note: you may need to restart the kernel to use updated packages.\n"
     ]
    }
   ],
   "source": [
    "%pip install -U sentence-transformers"
   ]
  },
  {
   "cell_type": "markdown",
   "metadata": {},
   "source": [
    "### Imports"
   ]
  },
  {
   "cell_type": "code",
   "execution_count": 6,
   "metadata": {},
   "outputs": [],
   "source": [
    "import os\n",
    "from pathlib import Path\n",
    "\n",
    "import numpy as np\n",
    "import pandas as pd\n",
    "import matplotlib.pyplot as plt\n",
    "\n",
    "import seaborn as sns"
   ]
  },
  {
   "cell_type": "code",
   "execution_count": 7,
   "metadata": {},
   "outputs": [
    {
     "name": "stderr",
     "output_type": "stream",
     "text": [
      "/Users/tilmankerl/Documents/UNI/SICSS/reddit-pills/.venv/lib/python3.9/site-packages/umap/distances.py:1063: NumbaDeprecationWarning: The 'nopython' keyword argument was not supplied to the 'numba.jit' decorator. The implicit default value for this argument is currently False, but it will be changed to True in Numba 0.59.0. See https://numba.readthedocs.io/en/stable/reference/deprecation.html#deprecation-of-object-mode-fall-back-behaviour-when-using-jit for details.\n",
      "  @numba.jit()\n",
      "/Users/tilmankerl/Documents/UNI/SICSS/reddit-pills/.venv/lib/python3.9/site-packages/umap/distances.py:1071: NumbaDeprecationWarning: The 'nopython' keyword argument was not supplied to the 'numba.jit' decorator. The implicit default value for this argument is currently False, but it will be changed to True in Numba 0.59.0. See https://numba.readthedocs.io/en/stable/reference/deprecation.html#deprecation-of-object-mode-fall-back-behaviour-when-using-jit for details.\n",
      "  @numba.jit()\n",
      "/Users/tilmankerl/Documents/UNI/SICSS/reddit-pills/.venv/lib/python3.9/site-packages/umap/distances.py:1086: NumbaDeprecationWarning: The 'nopython' keyword argument was not supplied to the 'numba.jit' decorator. The implicit default value for this argument is currently False, but it will be changed to True in Numba 0.59.0. See https://numba.readthedocs.io/en/stable/reference/deprecation.html#deprecation-of-object-mode-fall-back-behaviour-when-using-jit for details.\n",
      "  @numba.jit()\n",
      "/Users/tilmankerl/Documents/UNI/SICSS/reddit-pills/.venv/lib/python3.9/site-packages/tqdm/auto.py:21: TqdmWarning: IProgress not found. Please update jupyter and ipywidgets. See https://ipywidgets.readthedocs.io/en/stable/user_install.html\n",
      "  from .autonotebook import tqdm as notebook_tqdm\n",
      "/Users/tilmankerl/Documents/UNI/SICSS/reddit-pills/.venv/lib/python3.9/site-packages/umap/umap_.py:660: NumbaDeprecationWarning: The 'nopython' keyword argument was not supplied to the 'numba.jit' decorator. The implicit default value for this argument is currently False, but it will be changed to True in Numba 0.59.0. See https://numba.readthedocs.io/en/stable/reference/deprecation.html#deprecation-of-object-mode-fall-back-behaviour-when-using-jit for details.\n",
      "  @numba.jit()\n",
      "/Users/tilmankerl/Documents/UNI/SICSS/reddit-pills/.venv/lib/python3.9/site-packages/urllib3/__init__.py:34: NotOpenSSLWarning: urllib3 v2.0 only supports OpenSSL 1.1.1+, currently the 'ssl' module is compiled with 'LibreSSL 2.8.3'. See: https://github.com/urllib3/urllib3/issues/3020\n",
      "  warnings.warn(\n"
     ]
    }
   ],
   "source": [
    "from bertopic import BERTopic\n",
    "from bertopic.representation import KeyBERTInspired"
   ]
  },
  {
   "cell_type": "markdown",
   "metadata": {},
   "source": [
    "### General configs"
   ]
  },
  {
   "cell_type": "code",
   "execution_count": 8,
   "metadata": {},
   "outputs": [],
   "source": [
    "# matplotlib theme\n",
    "plt.style.use('ggplot')"
   ]
  },
  {
   "cell_type": "markdown",
   "metadata": {},
   "source": [
    "### Data loading"
   ]
  },
  {
   "cell_type": "code",
   "execution_count": 9,
   "metadata": {},
   "outputs": [
    {
     "name": "stdout",
     "output_type": "stream",
     "text": [
      "/Users/tilmankerl/Documents/UNI/SICSS/reddit-pills/data\n"
     ]
    }
   ],
   "source": [
    "# get DATA_DIR\n",
    "DATA_DIR = os.path.join(Path(os.path.abspath(\"\")).parent, \"data\")\n",
    "print(DATA_DIR)"
   ]
  },
  {
   "cell_type": "code",
   "execution_count": 10,
   "metadata": {},
   "outputs": [],
   "source": [
    "submission_redpill = pd.read_csv(\n",
    "    f\"{DATA_DIR}/output/RedPillWomen_submissions.csv\",\n",
    "    names=[\"score\", \"date\", \"title\", 'author_flair_text','link_flair_text','locked','over_18', \"author\",\"link\", \"body\"]\n",
    ")\n",
    "comments_redpill = pd.read_csv(\n",
    "    f\"{DATA_DIR}/output/RedPillWomen_comments.csv\",\n",
    "    names=[\"score\", \"date\", \"is_submitter\", \"author\",\"link\", \"body\"]\n",
    ")"
   ]
  },
  {
   "cell_type": "code",
   "execution_count": 11,
   "metadata": {},
   "outputs": [],
   "source": [
    "# feature types\n",
    "submission_redpill.date = pd.to_datetime(submission_redpill.date)\n",
    "comments_redpill.date = pd.to_datetime(comments_redpill.date)\n",
    "\n",
    "# introduce month and year columns + month_year column\n",
    "submission_redpill['month'] = submission_redpill.date.dt.month\n",
    "submission_redpill['year'] = submission_redpill.date.dt.year\n",
    "submission_redpill['month_year'] = submission_redpill.date.dt.to_period('M')"
   ]
  },
  {
   "cell_type": "code",
   "execution_count": 12,
   "metadata": {},
   "outputs": [
    {
     "name": "stdout",
     "output_type": "stream",
     "text": [
      "2013-06-17 00:00:00 2022-12-31 00:00:00\n"
     ]
    }
   ],
   "source": [
    "print(\n",
    "    submission_redpill.date.min(),\n",
    "    submission_redpill.date.max()\n",
    ")"
   ]
  },
  {
   "cell_type": "markdown",
   "metadata": {},
   "source": [
    "## Exploration"
   ]
  },
  {
   "cell_type": "markdown",
   "metadata": {},
   "source": [
    "### Submissions"
   ]
  },
  {
   "cell_type": "markdown",
   "metadata": {},
   "source": [
    "We start our exploraiton by looking into NA values and duplicates."
   ]
  },
  {
   "cell_type": "code",
   "execution_count": 13,
   "metadata": {},
   "outputs": [
    {
     "data": {
      "text/html": [
       "<div>\n",
       "<style scoped>\n",
       "    .dataframe tbody tr th:only-of-type {\n",
       "        vertical-align: middle;\n",
       "    }\n",
       "\n",
       "    .dataframe tbody tr th {\n",
       "        vertical-align: top;\n",
       "    }\n",
       "\n",
       "    .dataframe thead th {\n",
       "        text-align: right;\n",
       "    }\n",
       "</style>\n",
       "<table border=\"1\" class=\"dataframe\">\n",
       "  <thead>\n",
       "    <tr style=\"text-align: right;\">\n",
       "      <th></th>\n",
       "      <th>score</th>\n",
       "      <th>date</th>\n",
       "      <th>title</th>\n",
       "      <th>author_flair_text</th>\n",
       "      <th>link_flair_text</th>\n",
       "      <th>locked</th>\n",
       "      <th>over_18</th>\n",
       "      <th>author</th>\n",
       "      <th>link</th>\n",
       "      <th>body</th>\n",
       "      <th>month</th>\n",
       "      <th>year</th>\n",
       "      <th>month_year</th>\n",
       "    </tr>\n",
       "  </thead>\n",
       "  <tbody>\n",
       "    <tr>\n",
       "      <th>0</th>\n",
       "      <td>1</td>\n",
       "      <td>2013-06-18</td>\n",
       "      <td>What's the point of this sub?</td>\n",
       "      <td>NaN</td>\n",
       "      <td>NaN</td>\n",
       "      <td>False</td>\n",
       "      <td>False</td>\n",
       "      <td>u/ienjoyzaandda</td>\n",
       "      <td>https://www.reddit.com/r/RedPillWomen/comments...</td>\n",
       "      <td>NaN</td>\n",
       "      <td>6</td>\n",
       "      <td>2013</td>\n",
       "      <td>2013-06</td>\n",
       "    </tr>\n",
       "    <tr>\n",
       "      <th>1</th>\n",
       "      <td>1</td>\n",
       "      <td>2013-06-17</td>\n",
       "      <td>What do you ladies feed your hamsters?</td>\n",
       "      <td>NaN</td>\n",
       "      <td>NaN</td>\n",
       "      <td>False</td>\n",
       "      <td>False</td>\n",
       "      <td>u/lauratheredditor</td>\n",
       "      <td>https://www.reddit.com/r/RedPillWomen/comments...</td>\n",
       "      <td>NaN</td>\n",
       "      <td>6</td>\n",
       "      <td>2013</td>\n",
       "      <td>2013-06</td>\n",
       "    </tr>\n",
       "    <tr>\n",
       "      <th>2</th>\n",
       "      <td>2</td>\n",
       "      <td>2013-06-17</td>\n",
       "      <td>How can I get ugly betas to pay for my things ...</td>\n",
       "      <td>NaN</td>\n",
       "      <td>NaN</td>\n",
       "      <td>False</td>\n",
       "      <td>False</td>\n",
       "      <td>u/[deleted]</td>\n",
       "      <td>https://www.reddit.com/r/RedPillWomen/comments...</td>\n",
       "      <td>NaN</td>\n",
       "      <td>6</td>\n",
       "      <td>2013</td>\n",
       "      <td>2013-06</td>\n",
       "    </tr>\n",
       "    <tr>\n",
       "      <th>3</th>\n",
       "      <td>8</td>\n",
       "      <td>2013-06-17</td>\n",
       "      <td>Suggested Reading List?</td>\n",
       "      <td>Endorsed Woman</td>\n",
       "      <td>NaN</td>\n",
       "      <td>False</td>\n",
       "      <td>False</td>\n",
       "      <td>u/margerym</td>\n",
       "      <td>https://www.reddit.com/r/RedPillWomen/comments...</td>\n",
       "      <td>(I'm new to reddit and the Red Pill community ...</td>\n",
       "      <td>6</td>\n",
       "      <td>2013</td>\n",
       "      <td>2013-06</td>\n",
       "    </tr>\n",
       "    <tr>\n",
       "      <th>4</th>\n",
       "      <td>7</td>\n",
       "      <td>2013-06-17</td>\n",
       "      <td>Best way to Convince Man He's the Father?</td>\n",
       "      <td>NaN</td>\n",
       "      <td>NaN</td>\n",
       "      <td>False</td>\n",
       "      <td>False</td>\n",
       "      <td>u/Dramatological</td>\n",
       "      <td>https://www.reddit.com/r/RedPillWomen/comments...</td>\n",
       "      <td>NaN</td>\n",
       "      <td>6</td>\n",
       "      <td>2013</td>\n",
       "      <td>2013-06</td>\n",
       "    </tr>\n",
       "  </tbody>\n",
       "</table>\n",
       "</div>"
      ],
      "text/plain": [
       "   score       date                                              title  \\\n",
       "0      1 2013-06-18                      What's the point of this sub?   \n",
       "1      1 2013-06-17             What do you ladies feed your hamsters?   \n",
       "2      2 2013-06-17  How can I get ugly betas to pay for my things ...   \n",
       "3      8 2013-06-17                            Suggested Reading List?   \n",
       "4      7 2013-06-17          Best way to Convince Man He's the Father?   \n",
       "\n",
       "  author_flair_text link_flair_text  locked  over_18              author  \\\n",
       "0               NaN             NaN   False    False     u/ienjoyzaandda   \n",
       "1               NaN             NaN   False    False  u/lauratheredditor   \n",
       "2               NaN             NaN   False    False         u/[deleted]   \n",
       "3    Endorsed Woman             NaN   False    False          u/margerym   \n",
       "4               NaN             NaN   False    False    u/Dramatological   \n",
       "\n",
       "                                                link  \\\n",
       "0  https://www.reddit.com/r/RedPillWomen/comments...   \n",
       "1  https://www.reddit.com/r/RedPillWomen/comments...   \n",
       "2  https://www.reddit.com/r/RedPillWomen/comments...   \n",
       "3  https://www.reddit.com/r/RedPillWomen/comments...   \n",
       "4  https://www.reddit.com/r/RedPillWomen/comments...   \n",
       "\n",
       "                                                body  month  year month_year  \n",
       "0                                                NaN      6  2013    2013-06  \n",
       "1                                                NaN      6  2013    2013-06  \n",
       "2                                                NaN      6  2013    2013-06  \n",
       "3  (I'm new to reddit and the Red Pill community ...      6  2013    2013-06  \n",
       "4                                                NaN      6  2013    2013-06  "
      ]
     },
     "execution_count": 13,
     "metadata": {},
     "output_type": "execute_result"
    }
   ],
   "source": [
    "submission_redpill.head()"
   ]
  },
  {
   "cell_type": "code",
   "execution_count": 14,
   "metadata": {},
   "outputs": [
    {
     "data": {
      "text/plain": [
       "score                    0\n",
       "date                     0\n",
       "title                    0\n",
       "author_flair_text    20380\n",
       "link_flair_text      10839\n",
       "locked                   0\n",
       "over_18                  0\n",
       "author                   0\n",
       "link                     0\n",
       "body                  1396\n",
       "month                    0\n",
       "year                     0\n",
       "month_year               0\n",
       "dtype: int64"
      ]
     },
     "execution_count": 14,
     "metadata": {},
     "output_type": "execute_result"
    }
   ],
   "source": [
    "# get NAs\n",
    "submission_redpill.isna().sum()"
   ]
  },
  {
   "cell_type": "markdown",
   "metadata": {},
   "source": [
    "Plot avergae length of body text"
   ]
  },
  {
   "cell_type": "code",
   "execution_count": 15,
   "metadata": {},
   "outputs": [
    {
     "data": {
      "text/plain": [
       "Text(0.5, 1.0, 'Distribution of body text length for submissions')"
      ]
     },
     "execution_count": 15,
     "metadata": {},
     "output_type": "execute_result"
    },
    {
     "data": {
      "image/png": "[encoded data removed]",
      "text/plain": [
       "<Figure size 640x480 with 1 Axes>"
      ]
     },
     "metadata": {},
     "output_type": "display_data"
    }
   ],
   "source": [
    "submission_redpill.body.str.len().hist(\n",
    "    bins=100    \n",
    ").set_title(\"Distribution of body text length for submissions\")"
   ]
  },
  {
   "cell_type": "markdown",
   "metadata": {},
   "source": [
    "Plot posts over time:"
   ]
  },
  {
   "cell_type": "code",
   "execution_count": 16,
   "metadata": {},
   "outputs": [
    {
     "data": {
      "text/plain": [
       "<matplotlib.legend.Legend at 0x174b0cca0>"
      ]
     },
     "execution_count": 16,
     "metadata": {},
     "output_type": "execute_result"
    },
    {
     "data": {
      "image/png": "[encoded data removed]",
      "text/plain": [
       "<Figure size 1500x500 with 1 Axes>"
      ]
     },
     "metadata": {},
     "output_type": "display_data"
    }
   ],
   "source": [
    "#Plot posts over time:\n",
    "submission_redpill.date.value_counts().sort_index().plot(\n",
    "    kind='line',\n",
    "    title=\"Number of posts per day\",\n",
    "    figsize=(15, 5),\n",
    "    # color\n",
    "    color='b',\n",
    ")\n",
    "\n",
    "# add average line\n",
    "plt.axhline(submission_redpill.date.value_counts().mean(), color='r', linestyle='--')\n",
    "\n",
    "# convert date to ordinal\n",
    "submission_redpill['date_ordinal'] = pd.to_datetime(submission_redpill['date']).apply(lambda date: date.toordinal())\n",
    "\n",
    "# add trend line\n",
    "z = np.polyfit(submission_redpill['date_ordinal'], submission_redpill['score'], 10)\n",
    "p = np.poly1d(z)\n",
    "plt.plot(submission_redpill['date'],p(submission_redpill['date_ordinal']),\"g--\")\n",
    "\n",
    "# add legend\n",
    "plt.legend(['Posts per day', 'Global avg.', 'Global trend'])"
   ]
  },
  {
   "cell_type": "markdown",
   "metadata": {},
   "source": [
    "Get date with 3-highest number of posts for manual inspection"
   ]
  },
  {
   "cell_type": "code",
   "execution_count": 17,
   "metadata": {},
   "outputs": [
    {
     "data": {
      "text/html": [
       "<div>\n",
       "<style scoped>\n",
       "    .dataframe tbody tr th:only-of-type {\n",
       "        vertical-align: middle;\n",
       "    }\n",
       "\n",
       "    .dataframe tbody tr th {\n",
       "        vertical-align: top;\n",
       "    }\n",
       "\n",
       "    .dataframe thead th {\n",
       "        text-align: right;\n",
       "    }\n",
       "</style>\n",
       "<table border=\"1\" class=\"dataframe\">\n",
       "  <thead>\n",
       "    <tr style=\"text-align: right;\">\n",
       "      <th></th>\n",
       "      <th>score</th>\n",
       "      <th>title</th>\n",
       "      <th>author_flair_text</th>\n",
       "      <th>link_flair_text</th>\n",
       "      <th>locked</th>\n",
       "      <th>over_18</th>\n",
       "      <th>author</th>\n",
       "      <th>link</th>\n",
       "      <th>body</th>\n",
       "      <th>month</th>\n",
       "      <th>year</th>\n",
       "      <th>month_year</th>\n",
       "      <th>date_ordinal</th>\n",
       "    </tr>\n",
       "    <tr>\n",
       "      <th>date</th>\n",
       "      <th></th>\n",
       "      <th></th>\n",
       "      <th></th>\n",
       "      <th></th>\n",
       "      <th></th>\n",
       "      <th></th>\n",
       "      <th></th>\n",
       "      <th></th>\n",
       "      <th></th>\n",
       "      <th></th>\n",
       "      <th></th>\n",
       "      <th></th>\n",
       "      <th></th>\n",
       "    </tr>\n",
       "  </thead>\n",
       "  <tbody>\n",
       "    <tr>\n",
       "      <th>2018-09-18</th>\n",
       "      <td>40</td>\n",
       "      <td>40</td>\n",
       "      <td>4</td>\n",
       "      <td>21</td>\n",
       "      <td>40</td>\n",
       "      <td>40</td>\n",
       "      <td>40</td>\n",
       "      <td>40</td>\n",
       "      <td>39</td>\n",
       "      <td>40</td>\n",
       "      <td>40</td>\n",
       "      <td>40</td>\n",
       "      <td>40</td>\n",
       "    </tr>\n",
       "    <tr>\n",
       "      <th>2022-06-17</th>\n",
       "      <td>34</td>\n",
       "      <td>34</td>\n",
       "      <td>0</td>\n",
       "      <td>28</td>\n",
       "      <td>34</td>\n",
       "      <td>34</td>\n",
       "      <td>34</td>\n",
       "      <td>34</td>\n",
       "      <td>34</td>\n",
       "      <td>34</td>\n",
       "      <td>34</td>\n",
       "      <td>34</td>\n",
       "      <td>34</td>\n",
       "    </tr>\n",
       "    <tr>\n",
       "      <th>2017-03-01</th>\n",
       "      <td>29</td>\n",
       "      <td>29</td>\n",
       "      <td>1</td>\n",
       "      <td>4</td>\n",
       "      <td>29</td>\n",
       "      <td>29</td>\n",
       "      <td>29</td>\n",
       "      <td>29</td>\n",
       "      <td>29</td>\n",
       "      <td>29</td>\n",
       "      <td>29</td>\n",
       "      <td>29</td>\n",
       "      <td>29</td>\n",
       "    </tr>\n",
       "  </tbody>\n",
       "</table>\n",
       "</div>"
      ],
      "text/plain": [
       "            score  title  author_flair_text  link_flair_text  locked  over_18  \\\n",
       "date                                                                            \n",
       "2018-09-18     40     40                  4               21      40       40   \n",
       "2022-06-17     34     34                  0               28      34       34   \n",
       "2017-03-01     29     29                  1                4      29       29   \n",
       "\n",
       "            author  link  body  month  year  month_year  date_ordinal  \n",
       "date                                                                   \n",
       "2018-09-18      40    40    39     40    40          40            40  \n",
       "2022-06-17      34    34    34     34    34          34            34  \n",
       "2017-03-01      29    29    29     29    29          29            29  "
      ]
     },
     "execution_count": 17,
     "metadata": {},
     "output_type": "execute_result"
    }
   ],
   "source": [
    "submission_redpill.groupby('date').count().sort_values(by='author', ascending=False).head(3)"
   ]
  },
  {
   "cell_type": "markdown",
   "metadata": {},
   "source": [
    "Get deleted posts"
   ]
  },
  {
   "cell_type": "code",
   "execution_count": 18,
   "metadata": {},
   "outputs": [
    {
     "data": {
      "text/plain": [
       "9136"
      ]
     },
     "execution_count": 18,
     "metadata": {},
     "output_type": "execute_result"
    }
   ],
   "source": [
    "submission_redpill.body.str.contains('\\[deleted\\]|\\[removed\\]').sum()"
   ]
  },
  {
   "cell_type": "markdown",
   "metadata": {},
   "source": [
    "### Comments"
   ]
  },
  {
   "cell_type": "code",
   "execution_count": 19,
   "metadata": {},
   "outputs": [
    {
     "data": {
      "text/html": [
       "<div>\n",
       "<style scoped>\n",
       "    .dataframe tbody tr th:only-of-type {\n",
       "        vertical-align: middle;\n",
       "    }\n",
       "\n",
       "    .dataframe tbody tr th {\n",
       "        vertical-align: top;\n",
       "    }\n",
       "\n",
       "    .dataframe thead th {\n",
       "        text-align: right;\n",
       "    }\n",
       "</style>\n",
       "<table border=\"1\" class=\"dataframe\">\n",
       "  <thead>\n",
       "    <tr style=\"text-align: right;\">\n",
       "      <th></th>\n",
       "      <th>score</th>\n",
       "      <th>date</th>\n",
       "      <th>is_submitter</th>\n",
       "      <th>author</th>\n",
       "      <th>link</th>\n",
       "      <th>body</th>\n",
       "    </tr>\n",
       "  </thead>\n",
       "  <tbody>\n",
       "    <tr>\n",
       "      <th>0</th>\n",
       "      <td>2</td>\n",
       "      <td>2017-10-01</td>\n",
       "      <td>False</td>\n",
       "      <td>u/etf42</td>\n",
       "      <td>https://www.reddit.com/r/RedPillWomen/comments...</td>\n",
       "      <td>Men have always been more disposable due to th...</td>\n",
       "    </tr>\n",
       "    <tr>\n",
       "      <th>1</th>\n",
       "      <td>1</td>\n",
       "      <td>2017-10-01</td>\n",
       "      <td>False</td>\n",
       "      <td>u/throwawayklutch</td>\n",
       "      <td>https://www.reddit.com/r/RedPillWomen/comments...</td>\n",
       "      <td>To me, these women seem like they just have no...</td>\n",
       "    </tr>\n",
       "    <tr>\n",
       "      <th>2</th>\n",
       "      <td>2</td>\n",
       "      <td>2017-10-01</td>\n",
       "      <td>False</td>\n",
       "      <td>u/SouthernAthena</td>\n",
       "      <td>https://www.reddit.com/r/RedPillWomen/comments...</td>\n",
       "      <td>That attitude will get them far in life. But y...</td>\n",
       "    </tr>\n",
       "    <tr>\n",
       "      <th>3</th>\n",
       "      <td>8</td>\n",
       "      <td>2017-10-01</td>\n",
       "      <td>False</td>\n",
       "      <td>u/platewrecked</td>\n",
       "      <td>https://www.reddit.com/r/RedPillWomen/comments...</td>\n",
       "      <td>Greg the OP is a suicidal, drug addled, datele...</td>\n",
       "    </tr>\n",
       "    <tr>\n",
       "      <th>4</th>\n",
       "      <td>2</td>\n",
       "      <td>2017-10-01</td>\n",
       "      <td>False</td>\n",
       "      <td>u/thelampshade25</td>\n",
       "      <td>https://www.reddit.com/r/RedPillWomen/comments...</td>\n",
       "      <td>Very funny video i was loling the whole time</td>\n",
       "    </tr>\n",
       "  </tbody>\n",
       "</table>\n",
       "</div>"
      ],
      "text/plain": [
       "   score       date  is_submitter             author  \\\n",
       "0      2 2017-10-01         False            u/etf42   \n",
       "1      1 2017-10-01         False  u/throwawayklutch   \n",
       "2      2 2017-10-01         False   u/SouthernAthena   \n",
       "3      8 2017-10-01         False     u/platewrecked   \n",
       "4      2 2017-10-01         False   u/thelampshade25   \n",
       "\n",
       "                                                link  \\\n",
       "0  https://www.reddit.com/r/RedPillWomen/comments...   \n",
       "1  https://www.reddit.com/r/RedPillWomen/comments...   \n",
       "2  https://www.reddit.com/r/RedPillWomen/comments...   \n",
       "3  https://www.reddit.com/r/RedPillWomen/comments...   \n",
       "4  https://www.reddit.com/r/RedPillWomen/comments...   \n",
       "\n",
       "                                                body  \n",
       "0  Men have always been more disposable due to th...  \n",
       "1  To me, these women seem like they just have no...  \n",
       "2  That attitude will get them far in life. But y...  \n",
       "3  Greg the OP is a suicidal, drug addled, datele...  \n",
       "4       Very funny video i was loling the whole time  "
      ]
     },
     "execution_count": 19,
     "metadata": {},
     "output_type": "execute_result"
    }
   ],
   "source": [
    "comments_redpill.head()"
   ]
  },
  {
   "cell_type": "markdown",
   "metadata": {},
   "source": [
    "Inspecting NAs & drop them"
   ]
  },
  {
   "cell_type": "code",
   "execution_count": 20,
   "metadata": {},
   "outputs": [
    {
     "name": "stdout",
     "output_type": "stream",
     "text": [
      "score           0\n",
      "date            0\n",
      "is_submitter    0\n",
      "author          0\n",
      "link            0\n",
      "body            4\n",
      "dtype: int64\n"
     ]
    }
   ],
   "source": [
    "print(comments_redpill.isna().sum())\n",
    "comments_redpill = comments_redpill.dropna()"
   ]
  },
  {
   "cell_type": "markdown",
   "metadata": {},
   "source": [
    "## Brief Topic modelling using BERTopic"
   ]
  },
  {
   "cell_type": "markdown",
   "metadata": {},
   "source": [
    "Topic-specific preprocessing"
   ]
  },
  {
   "cell_type": "code",
   "execution_count": 21,
   "metadata": {},
   "outputs": [
    {
     "name": "stdout",
     "output_type": "stream",
     "text": [
      "Before processing:\n",
      "(22995, 14)\n",
      "5152.0\n",
      "128.0\n",
      "After processing:\n",
      "(10948, 15)\n"
     ]
    }
   ],
   "source": [
    "submission_redpill_topic = submission_redpill.copy()\n",
    "\n",
    "print(\"Before processing:\")\n",
    "print(submission_redpill_topic.shape)\n",
    "\n",
    "# drop body NAs\n",
    "submission_redpill_topic = submission_redpill_topic.dropna(subset=['body'])\n",
    "\n",
    "# drop link duplicates\n",
    "submission_redpill_topic = submission_redpill_topic.drop_duplicates(subset=['link'])\n",
    "\n",
    "# remove double spaces & new lines from body\n",
    "submission_redpill_topic['body'] = submission_redpill_topic['body'].str.replace('\\n', ' ')\n",
    "submission_redpill_topic['body'] = submission_redpill_topic['body'].str.replace('  ', ' ')\n",
    "\n",
    "# intriduce doc_text column (concat title and body)\n",
    "submission_redpill_topic['doc_text'] = submission_redpill_topic['title'] + ' ' + submission_redpill_topic['body']\n",
    "# set dtype to string\n",
    "submission_redpill_topic['doc_text'] = submission_redpill_topic['doc_text'].astype(str)\n",
    "\n",
    "# remove delted and removed posts\n",
    "# check if body is [deleted] or [removed] in one line\n",
    "submission_redpill_topic = submission_redpill_topic[~submission_redpill_topic['body'].str.contains('\\[deleted\\]|\\[removed\\]')]\n",
    "\n",
    "# based on quantiles, filter out the top and bottom 5% of doc_text length\n",
    "top_quantile_value = submission_redpill_topic['doc_text'].str.len().quantile(0.95)\n",
    "print(top_quantile_value)\n",
    "\n",
    "bottom_quantile_value = submission_redpill_topic['doc_text'].str.len().quantile(0.05)\n",
    "print(bottom_quantile_value)\n",
    "\n",
    "# Filter the DataFrame to keep only rows with doc_text length below the 95th percentile\n",
    "submission_redpill_topic = submission_redpill_topic[submission_redpill_topic['doc_text'].str.len() <= top_quantile_value]\n",
    "submission_redpill_topic = submission_redpill_topic[submission_redpill_topic['doc_text'].str.len() >= bottom_quantile_value]\n",
    "\n",
    "# drop duplicates in doc_text\n",
    "submission_redpill_topic = submission_redpill_topic.drop_duplicates(subset=['doc_text'])\n",
    "\n",
    "# remove links from doc_text\n",
    "url_regex_1 = r'http[s]?://(?:[a-zA-Z]|[0-9]|[$-_@.&+]|[!*\\\\(\\\\),]|(?:%[0-9a-fA-F][0-9a-fA-F]))+'\n",
    "url_regex = r'(?:https?://)?(?:www\\.)?[a-zA-Z0-9-]+\\.[a-zA-Z]{2,}(?:/[^/\\s]*)*'\n",
    "submission_redpill_topic['doc_text'] = submission_redpill_topic['doc_text'].replace(url_regex, '', regex=True)\n",
    "\n",
    "\n",
    "print(\"After processing:\")\n",
    "print(submission_redpill_topic.shape)"
   ]
  },
  {
   "cell_type": "markdown",
   "metadata": {},
   "source": [
    "Checking if the url regex worked:"
   ]
  },
  {
   "cell_type": "code",
   "execution_count": 22,
   "metadata": {},
   "outputs": [
    {
     "name": "stdout",
     "output_type": "stream",
     "text": [
      "0 10\n"
     ]
    }
   ],
   "source": [
    "print(\n",
    "    submission_redpill_topic.doc_text.str.contains(url_regex).sum(),\n",
    "    submission_redpill_topic.doc_text.str.contains(\"http\").sum()\n",
    ")"
   ]
  },
  {
   "cell_type": "code",
   "execution_count": 23,
   "metadata": {},
   "outputs": [
    {
     "data": {
      "text/plain": [
       "Text(0.5, 1.0, 'Distribution of doc-text length for submissions')"
      ]
     },
     "execution_count": 23,
     "metadata": {},
     "output_type": "execute_result"
    },
    {
     "data": {
      "image/png": "[encoded data removed]",
      "text/plain": [
       "<Figure size 640x480 with 1 Axes>"
      ]
     },
     "metadata": {},
     "output_type": "display_data"
    }
   ],
   "source": [
    "submission_redpill_topic.doc_text.str.len().hist(\n",
    "    bins=100    \n",
    ").set_title(\"Distribution of doc-text length for submissions\")"
   ]
  },
  {
   "cell_type": "markdown",
   "metadata": {},
   "source": [
    "Load all titles and bodies as one string in list (one string per post containing title and body)"
   ]
  },
  {
   "cell_type": "code",
   "execution_count": 24,
   "metadata": {},
   "outputs": [],
   "source": [
    "# Load all titles and bodies as one string in list (one string per post containing title and body)\n",
    "topic_ready_docs = submission_redpill_topic['doc_text'].tolist()"
   ]
  },
  {
   "cell_type": "code",
   "execution_count": 25,
   "metadata": {},
   "outputs": [
    {
     "name": "stdout",
     "output_type": "stream",
     "text": [
      "Suggested Reading List? (I'm new to reddit and the Red Pill community so I'm not sure exactly how these things go. I've decided to just jump in. Apologies if I'm overstepping.) I'd love some book recommendations re: Red Pill theory/philosophy as well as the practical aspects of *living* it as a woman; married or otherwise.  As a side but related question: Though I am new to Red Pill itself I was first turned onto the more \"old fashioned\" way of doing things through Fascinating Womanhood and The Surrendered Wife. Any thoughts on how those two books do or don't relate with the philosophy? Thank you! Margery\n"
     ]
    }
   ],
   "source": [
    "print(topic_ready_docs[0])"
   ]
  },
  {
   "cell_type": "code",
   "execution_count": 26,
   "metadata": {},
   "outputs": [],
   "source": [
    "representation_model = KeyBERTInspired() \n",
    "topic_model = BERTopic(representation_model=representation_model, nr_topics=20) # nr_topics=\"auto\""
   ]
  },
  {
   "cell_type": "code",
   "execution_count": 27,
   "metadata": {},
   "outputs": [
    {
     "data": {
      "text/plain": [
       "<bertopic._bertopic.BERTopic at 0x174ca9790>"
      ]
     },
     "execution_count": 27,
     "metadata": {},
     "output_type": "execute_result"
    }
   ],
   "source": [
    "# takes 4.5 min for full\n",
    "topic_model.fit(topic_ready_docs)"
   ]
  },
  {
   "cell_type": "code",
   "execution_count": 28,
   "metadata": {},
   "outputs": [
    {
     "data": {
      "text/html": [
       "<div>\n",
       "<style scoped>\n",
       "    .dataframe tbody tr th:only-of-type {\n",
       "        vertical-align: middle;\n",
       "    }\n",
       "\n",
       "    .dataframe tbody tr th {\n",
       "        vertical-align: top;\n",
       "    }\n",
       "\n",
       "    .dataframe thead th {\n",
       "        text-align: right;\n",
       "    }\n",
       "</style>\n",
       "<table border=\"1\" class=\"dataframe\">\n",
       "  <thead>\n",
       "    <tr style=\"text-align: right;\">\n",
       "      <th></th>\n",
       "      <th>Topic</th>\n",
       "      <th>Count</th>\n",
       "      <th>Name</th>\n",
       "      <th>Representation</th>\n",
       "      <th>Representative_Docs</th>\n",
       "    </tr>\n",
       "  </thead>\n",
       "  <tbody>\n",
       "    <tr>\n",
       "      <th>0</th>\n",
       "      <td>0</td>\n",
       "      <td>10937</td>\n",
       "      <td>0_relationship_love_his_what</td>\n",
       "      <td>[relationship, love, his, what, be, being, him...</td>\n",
       "      <td>[I’m getting a second chance at a relationship...</td>\n",
       "    </tr>\n",
       "    <tr>\n",
       "      <th>1</th>\n",
       "      <td>1</td>\n",
       "      <td>11</td>\n",
       "      <td>1_tarot_tuesday_readings_wednesday</td>\n",
       "      <td>[tarot, tuesday, readings, wednesday, reading,...</td>\n",
       "      <td>[Tarot Tuesday: December Happy Tuesday, ladies...</td>\n",
       "    </tr>\n",
       "  </tbody>\n",
       "</table>\n",
       "</div>"
      ],
      "text/plain": [
       "   Topic  Count                                Name  \\\n",
       "0      0  10937        0_relationship_love_his_what   \n",
       "1      1     11  1_tarot_tuesday_readings_wednesday   \n",
       "\n",
       "                                      Representation  \\\n",
       "0  [relationship, love, his, what, be, being, him...   \n",
       "1  [tarot, tuesday, readings, wednesday, reading,...   \n",
       "\n",
       "                                 Representative_Docs  \n",
       "0  [I’m getting a second chance at a relationship...  \n",
       "1  [Tarot Tuesday: December Happy Tuesday, ladies...  "
      ]
     },
     "execution_count": 28,
     "metadata": {},
     "output_type": "execute_result"
    }
   ],
   "source": [
    "topic_model.get_topic_info()    # Get topic words and their probabilities"
   ]
  },
  {
   "cell_type": "code",
   "execution_count": 29,
   "metadata": {},
   "outputs": [
    {
     "ename": "TypeError",
     "evalue": "'NoneType' object is not iterable",
     "output_type": "error",
     "traceback": [
      "\u001b[0;31m---------------------------------------------------------------------------\u001b[0m",
      "\u001b[0;31mTypeError\u001b[0m                                 Traceback (most recent call last)",
      "Cell \u001b[0;32mIn[29], line 1\u001b[0m\n\u001b[0;32m----> 1\u001b[0m \u001b[39mfor\u001b[39;00m doc \u001b[39min\u001b[39;00m topic_model\u001b[39m.\u001b[39mget_representative_docs(\u001b[39m19\u001b[39m):\n\u001b[1;32m      2\u001b[0m     \u001b[39mprint\u001b[39m(doc)\n",
      "\u001b[0;31mTypeError\u001b[0m: 'NoneType' object is not iterable"
     ]
    }
   ],
   "source": [
    "for doc in topic_model.get_representative_docs(19):\n",
    "    print(doc)"
   ]
  },
  {
   "cell_type": "code",
   "execution_count": null,
   "metadata": {},
   "outputs": [],
   "source": [
    "topic_model.visualize_barchart()"
   ]
  },
  {
   "cell_type": "code",
   "execution_count": null,
   "metadata": {},
   "outputs": [],
   "source": [
    "# submission_redpill_topic[\"date\"].to_list()\n",
    "topics_over_time_yearly = topic_model.topics_over_time(topic_ready_docs, submission_redpill_topic[\"year\"].to_list())"
   ]
  },
  {
   "cell_type": "code",
   "execution_count": null,
   "metadata": {},
   "outputs": [],
   "source": [
    "topics_over_time_monthly = topic_model.topics_over_time(topic_ready_docs, submission_redpill_topic[\"month_year\"].to_list())"
   ]
  },
  {
   "cell_type": "code",
   "execution_count": null,
   "metadata": {},
   "outputs": [],
   "source": [
    "topic_model.visualize_topics_over_time(topics_over_time_yearly, topics=list(range(-1, 13)))"
   ]
  },
  {
   "cell_type": "code",
   "execution_count": null,
   "metadata": {},
   "outputs": [],
   "source": [
    "monthly_df = topics_over_time_monthly[['Topic', 'Frequency', 'Timestamp']]\n",
    "# make topic a column and the frequency the value of the cell\n",
    "monthly_df = monthly_df.pivot(index='Timestamp', columns='Topic', values='Frequency')\n",
    "monthly_df.fillna(0, inplace=True)"
   ]
  },
  {
   "cell_type": "code",
   "execution_count": null,
   "metadata": {},
   "outputs": [],
   "source": [
    "monthly_df"
   ]
  },
  {
   "cell_type": "code",
   "execution_count": null,
   "metadata": {},
   "outputs": [],
   "source": [
    "monthly_df.plot(\n",
    "    kind=\"line\",\n",
    "    title=\"Monthly avg. topic mentions\",\n",
    "    xlabel=\"Date\",\n",
    "    ylabel=\"Avg. topic mentions\",\n",
    "    figsize=(20, 10),\n",
    "    legend=True,\n",
    ")"
   ]
  }
 ],
 "metadata": {
  "kernelspec": {
   "display_name": ".venv",
   "language": "python",
   "name": "python3"
  },
  "language_info": {
   "codemirror_mode": {
    "name": "ipython",
    "version": 3
   },
   "file_extension": ".py",
   "mimetype": "text/x-python",
   "name": "python",
   "nbconvert_exporter": "python",
   "pygments_lexer": "ipython3",
   "version": "3.9.6"
  },
  "orig_nbformat": 4
 },
 "nbformat": 4,
 "nbformat_minor": 2
}
