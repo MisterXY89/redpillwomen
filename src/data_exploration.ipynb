{
 "cells": [
  {
   "cell_type": "markdown",
   "metadata": {},
   "source": [
    "# Exploring r/redpillwomen submisions and comments"
   ]
  },
  {
   "cell_type": "markdown",
   "metadata": {},
   "source": [
    "## Libraries & Setup"
   ]
  },
  {
   "cell_type": "markdown",
   "metadata": {},
   "source": [
    "### Install"
   ]
  },
  {
   "cell_type": "code",
   "execution_count": 1,
   "metadata": {},
   "outputs": [
    {
     "name": "stdout",
     "output_type": "stream",
     "text": [
      "Requirement already satisfied: pandas in /Users/tilmankerl/Documents/UNI/SICSS/reddit-pills/.venv/lib/python3.9/site-packages (2.0.3)\n",
      "Requirement already satisfied: numpy==1.24 in /Users/tilmankerl/Documents/UNI/SICSS/reddit-pills/.venv/lib/python3.9/site-packages (1.24.0)\n",
      "Requirement already satisfied: matplotlib in /Users/tilmankerl/Documents/UNI/SICSS/reddit-pills/.venv/lib/python3.9/site-packages (3.7.2)\n",
      "Requirement already satisfied: seaborn in /Users/tilmankerl/Documents/UNI/SICSS/reddit-pills/.venv/lib/python3.9/site-packages (0.12.1)\n",
      "Requirement already satisfied: python-dateutil>=2.8.2 in /Users/tilmankerl/Documents/UNI/SICSS/reddit-pills/.venv/lib/python3.9/site-packages (from pandas) (2.8.2)\n",
      "Requirement already satisfied: pytz>=2020.1 in /Users/tilmankerl/Documents/UNI/SICSS/reddit-pills/.venv/lib/python3.9/site-packages (from pandas) (2023.3)\n",
      "Requirement already satisfied: tzdata>=2022.1 in /Users/tilmankerl/Documents/UNI/SICSS/reddit-pills/.venv/lib/python3.9/site-packages (from pandas) (2023.3)\n",
      "Requirement already satisfied: contourpy>=1.0.1 in /Users/tilmankerl/Documents/UNI/SICSS/reddit-pills/.venv/lib/python3.9/site-packages (from matplotlib) (1.1.0)\n",
      "Requirement already satisfied: cycler>=0.10 in /Users/tilmankerl/Documents/UNI/SICSS/reddit-pills/.venv/lib/python3.9/site-packages (from matplotlib) (0.11.0)\n",
      "Requirement already satisfied: fonttools>=4.22.0 in /Users/tilmankerl/Documents/UNI/SICSS/reddit-pills/.venv/lib/python3.9/site-packages (from matplotlib) (4.41.1)\n",
      "Requirement already satisfied: kiwisolver>=1.0.1 in /Users/tilmankerl/Documents/UNI/SICSS/reddit-pills/.venv/lib/python3.9/site-packages (from matplotlib) (1.4.4)\n",
      "Requirement already satisfied: packaging>=20.0 in /Users/tilmankerl/Documents/UNI/SICSS/reddit-pills/.venv/lib/python3.9/site-packages (from matplotlib) (23.1)\n",
      "Requirement already satisfied: pillow>=6.2.0 in /Users/tilmankerl/Documents/UNI/SICSS/reddit-pills/.venv/lib/python3.9/site-packages (from matplotlib) (10.0.0)\n",
      "Requirement already satisfied: pyparsing<3.1,>=2.3.1 in /Users/tilmankerl/Documents/UNI/SICSS/reddit-pills/.venv/lib/python3.9/site-packages (from matplotlib) (3.0.9)\n",
      "Requirement already satisfied: importlib-resources>=3.2.0 in /Users/tilmankerl/Documents/UNI/SICSS/reddit-pills/.venv/lib/python3.9/site-packages (from matplotlib) (6.0.0)\n",
      "Requirement already satisfied: zipp>=3.1.0 in /Users/tilmankerl/Documents/UNI/SICSS/reddit-pills/.venv/lib/python3.9/site-packages (from importlib-resources>=3.2.0->matplotlib) (3.16.2)\n",
      "Requirement already satisfied: six>=1.5 in /Users/tilmankerl/Documents/UNI/SICSS/reddit-pills/.venv/lib/python3.9/site-packages (from python-dateutil>=2.8.2->pandas) (1.16.0)\n",
      "Note: you may need to restart the kernel to use updated packages.\n"
     ]
    }
   ],
   "source": [
    "%pip install pandas numpy==1.24 matplotlib seaborn"
   ]
  },
  {
   "cell_type": "code",
   "execution_count": 2,
   "metadata": {},
   "outputs": [
    {
     "name": "stdout",
     "output_type": "stream",
     "text": [
      "Requirement already satisfied: nbformat in /Users/tilmankerl/Documents/UNI/SICSS/reddit-pills/.venv/lib/python3.9/site-packages (5.9.2)\n",
      "Requirement already satisfied: fastjsonschema in /Users/tilmankerl/Documents/UNI/SICSS/reddit-pills/.venv/lib/python3.9/site-packages (from nbformat) (2.18.0)\n",
      "Requirement already satisfied: jsonschema>=2.6 in /Users/tilmankerl/Documents/UNI/SICSS/reddit-pills/.venv/lib/python3.9/site-packages (from nbformat) (4.18.4)\n",
      "Requirement already satisfied: jupyter-core in /Users/tilmankerl/Documents/UNI/SICSS/reddit-pills/.venv/lib/python3.9/site-packages (from nbformat) (5.3.1)\n",
      "Requirement already satisfied: traitlets>=5.1 in /Users/tilmankerl/Documents/UNI/SICSS/reddit-pills/.venv/lib/python3.9/site-packages (from nbformat) (5.9.0)\n",
      "Requirement already satisfied: attrs>=22.2.0 in /Users/tilmankerl/Documents/UNI/SICSS/reddit-pills/.venv/lib/python3.9/site-packages (from jsonschema>=2.6->nbformat) (23.1.0)\n",
      "Requirement already satisfied: jsonschema-specifications>=2023.03.6 in /Users/tilmankerl/Documents/UNI/SICSS/reddit-pills/.venv/lib/python3.9/site-packages (from jsonschema>=2.6->nbformat) (2023.7.1)\n",
      "Requirement already satisfied: referencing>=0.28.4 in /Users/tilmankerl/Documents/UNI/SICSS/reddit-pills/.venv/lib/python3.9/site-packages (from jsonschema>=2.6->nbformat) (0.30.0)\n",
      "Requirement already satisfied: rpds-py>=0.7.1 in /Users/tilmankerl/Documents/UNI/SICSS/reddit-pills/.venv/lib/python3.9/site-packages (from jsonschema>=2.6->nbformat) (0.9.2)\n",
      "Requirement already satisfied: platformdirs>=2.5 in /Users/tilmankerl/Documents/UNI/SICSS/reddit-pills/.venv/lib/python3.9/site-packages (from jupyter-core->nbformat) (3.10.0)\n",
      "Note: you may need to restart the kernel to use updated packages.\n"
     ]
    }
   ],
   "source": [
    "%pip install --upgrade nbformat"
   ]
  },
  {
   "cell_type": "code",
   "execution_count": 3,
   "metadata": {},
   "outputs": [
    {
     "name": "stdout",
     "output_type": "stream",
     "text": [
      "Requirement already satisfied: bertopic in /Users/tilmankerl/Documents/UNI/SICSS/reddit-pills/.venv/lib/python3.9/site-packages (0.15.0)\n",
      "Requirement already satisfied: numpy>=1.20.0 in /Users/tilmankerl/Documents/UNI/SICSS/reddit-pills/.venv/lib/python3.9/site-packages (from bertopic) (1.24.0)\n",
      "Requirement already satisfied: hdbscan>=0.8.29 in /Users/tilmankerl/Documents/UNI/SICSS/reddit-pills/.venv/lib/python3.9/site-packages (from bertopic) (0.8.33)\n",
      "Requirement already satisfied: umap-learn>=0.5.0 in /Users/tilmankerl/Documents/UNI/SICSS/reddit-pills/.venv/lib/python3.9/site-packages (from bertopic) (0.5.3)\n",
      "Requirement already satisfied: pandas>=1.1.5 in /Users/tilmankerl/Documents/UNI/SICSS/reddit-pills/.venv/lib/python3.9/site-packages (from bertopic) (2.0.3)\n",
      "Requirement already satisfied: scikit-learn>=0.22.2.post1 in /Users/tilmankerl/Documents/UNI/SICSS/reddit-pills/.venv/lib/python3.9/site-packages (from bertopic) (1.3.0)\n",
      "Requirement already satisfied: tqdm>=4.41.1 in /Users/tilmankerl/Documents/UNI/SICSS/reddit-pills/.venv/lib/python3.9/site-packages (from bertopic) (4.65.0)\n",
      "Requirement already satisfied: sentence-transformers>=0.4.1 in /Users/tilmankerl/Documents/UNI/SICSS/reddit-pills/.venv/lib/python3.9/site-packages (from bertopic) (2.2.2)\n",
      "Requirement already satisfied: plotly>=4.7.0 in /Users/tilmankerl/Documents/UNI/SICSS/reddit-pills/.venv/lib/python3.9/site-packages (from bertopic) (5.15.0)\n",
      "Requirement already satisfied: cython<3,>=0.27 in /Users/tilmankerl/Documents/UNI/SICSS/reddit-pills/.venv/lib/python3.9/site-packages (from hdbscan>=0.8.29->bertopic) (0.29.36)\n",
      "Requirement already satisfied: scipy>=1.0 in /Users/tilmankerl/Documents/UNI/SICSS/reddit-pills/.venv/lib/python3.9/site-packages (from hdbscan>=0.8.29->bertopic) (1.11.1)\n",
      "Requirement already satisfied: joblib>=1.0 in /Users/tilmankerl/Documents/UNI/SICSS/reddit-pills/.venv/lib/python3.9/site-packages (from hdbscan>=0.8.29->bertopic) (1.3.1)\n",
      "Requirement already satisfied: python-dateutil>=2.8.2 in /Users/tilmankerl/Documents/UNI/SICSS/reddit-pills/.venv/lib/python3.9/site-packages (from pandas>=1.1.5->bertopic) (2.8.2)\n",
      "Requirement already satisfied: pytz>=2020.1 in /Users/tilmankerl/Documents/UNI/SICSS/reddit-pills/.venv/lib/python3.9/site-packages (from pandas>=1.1.5->bertopic) (2023.3)\n",
      "Requirement already satisfied: tzdata>=2022.1 in /Users/tilmankerl/Documents/UNI/SICSS/reddit-pills/.venv/lib/python3.9/site-packages (from pandas>=1.1.5->bertopic) (2023.3)\n",
      "Requirement already satisfied: tenacity>=6.2.0 in /Users/tilmankerl/Documents/UNI/SICSS/reddit-pills/.venv/lib/python3.9/site-packages (from plotly>=4.7.0->bertopic) (8.2.2)\n",
      "Requirement already satisfied: packaging in /Users/tilmankerl/Documents/UNI/SICSS/reddit-pills/.venv/lib/python3.9/site-packages (from plotly>=4.7.0->bertopic) (23.1)\n",
      "Requirement already satisfied: threadpoolctl>=2.0.0 in /Users/tilmankerl/Documents/UNI/SICSS/reddit-pills/.venv/lib/python3.9/site-packages (from scikit-learn>=0.22.2.post1->bertopic) (3.2.0)\n",
      "Requirement already satisfied: transformers<5.0.0,>=4.6.0 in /Users/tilmankerl/Documents/UNI/SICSS/reddit-pills/.venv/lib/python3.9/site-packages (from sentence-transformers>=0.4.1->bertopic) (4.31.0)\n",
      "Requirement already satisfied: torch>=1.6.0 in /Users/tilmankerl/Documents/UNI/SICSS/reddit-pills/.venv/lib/python3.9/site-packages (from sentence-transformers>=0.4.1->bertopic) (2.0.1)\n",
      "Requirement already satisfied: torchvision in /Users/tilmankerl/Documents/UNI/SICSS/reddit-pills/.venv/lib/python3.9/site-packages (from sentence-transformers>=0.4.1->bertopic) (0.15.2)\n",
      "Requirement already satisfied: nltk in /Users/tilmankerl/Documents/UNI/SICSS/reddit-pills/.venv/lib/python3.9/site-packages (from sentence-transformers>=0.4.1->bertopic) (3.8.1)\n",
      "Requirement already satisfied: sentencepiece in /Users/tilmankerl/Documents/UNI/SICSS/reddit-pills/.venv/lib/python3.9/site-packages (from sentence-transformers>=0.4.1->bertopic) (0.1.99)\n",
      "Requirement already satisfied: huggingface-hub>=0.4.0 in /Users/tilmankerl/Documents/UNI/SICSS/reddit-pills/.venv/lib/python3.9/site-packages (from sentence-transformers>=0.4.1->bertopic) (0.16.4)\n",
      "Requirement already satisfied: numba>=0.49 in /Users/tilmankerl/Documents/UNI/SICSS/reddit-pills/.venv/lib/python3.9/site-packages (from umap-learn>=0.5.0->bertopic) (0.57.1)\n",
      "Requirement already satisfied: pynndescent>=0.5 in /Users/tilmankerl/Documents/UNI/SICSS/reddit-pills/.venv/lib/python3.9/site-packages (from umap-learn>=0.5.0->bertopic) (0.5.10)\n",
      "Requirement already satisfied: filelock in /Users/tilmankerl/Documents/UNI/SICSS/reddit-pills/.venv/lib/python3.9/site-packages (from huggingface-hub>=0.4.0->sentence-transformers>=0.4.1->bertopic) (3.12.2)\n",
      "Requirement already satisfied: fsspec in /Users/tilmankerl/Documents/UNI/SICSS/reddit-pills/.venv/lib/python3.9/site-packages (from huggingface-hub>=0.4.0->sentence-transformers>=0.4.1->bertopic) (2023.6.0)\n",
      "Requirement already satisfied: requests in /Users/tilmankerl/Documents/UNI/SICSS/reddit-pills/.venv/lib/python3.9/site-packages (from huggingface-hub>=0.4.0->sentence-transformers>=0.4.1->bertopic) (2.31.0)\n",
      "Requirement already satisfied: pyyaml>=5.1 in /Users/tilmankerl/Documents/UNI/SICSS/reddit-pills/.venv/lib/python3.9/site-packages (from huggingface-hub>=0.4.0->sentence-transformers>=0.4.1->bertopic) (6.0.1)\n",
      "Requirement already satisfied: typing-extensions>=3.7.4.3 in /Users/tilmankerl/Documents/UNI/SICSS/reddit-pills/.venv/lib/python3.9/site-packages (from huggingface-hub>=0.4.0->sentence-transformers>=0.4.1->bertopic) (4.7.1)\n",
      "Requirement already satisfied: llvmlite<0.41,>=0.40.0dev0 in /Users/tilmankerl/Documents/UNI/SICSS/reddit-pills/.venv/lib/python3.9/site-packages (from numba>=0.49->umap-learn>=0.5.0->bertopic) (0.40.1)\n",
      "Requirement already satisfied: six>=1.5 in /Users/tilmankerl/Documents/UNI/SICSS/reddit-pills/.venv/lib/python3.9/site-packages (from python-dateutil>=2.8.2->pandas>=1.1.5->bertopic) (1.16.0)\n",
      "Requirement already satisfied: sympy in /Users/tilmankerl/Documents/UNI/SICSS/reddit-pills/.venv/lib/python3.9/site-packages (from torch>=1.6.0->sentence-transformers>=0.4.1->bertopic) (1.12)\n",
      "Requirement already satisfied: networkx in /Users/tilmankerl/Documents/UNI/SICSS/reddit-pills/.venv/lib/python3.9/site-packages (from torch>=1.6.0->sentence-transformers>=0.4.1->bertopic) (3.1)\n",
      "Requirement already satisfied: jinja2 in /Users/tilmankerl/Documents/UNI/SICSS/reddit-pills/.venv/lib/python3.9/site-packages (from torch>=1.6.0->sentence-transformers>=0.4.1->bertopic) (3.1.2)\n",
      "Requirement already satisfied: regex!=2019.12.17 in /Users/tilmankerl/Documents/UNI/SICSS/reddit-pills/.venv/lib/python3.9/site-packages (from transformers<5.0.0,>=4.6.0->sentence-transformers>=0.4.1->bertopic) (2023.6.3)\n",
      "Requirement already satisfied: tokenizers!=0.11.3,<0.14,>=0.11.1 in /Users/tilmankerl/Documents/UNI/SICSS/reddit-pills/.venv/lib/python3.9/site-packages (from transformers<5.0.0,>=4.6.0->sentence-transformers>=0.4.1->bertopic) (0.13.3)\n",
      "Requirement already satisfied: safetensors>=0.3.1 in /Users/tilmankerl/Documents/UNI/SICSS/reddit-pills/.venv/lib/python3.9/site-packages (from transformers<5.0.0,>=4.6.0->sentence-transformers>=0.4.1->bertopic) (0.3.1)\n",
      "Requirement already satisfied: click in /Users/tilmankerl/Documents/UNI/SICSS/reddit-pills/.venv/lib/python3.9/site-packages (from nltk->sentence-transformers>=0.4.1->bertopic) (8.1.6)\n",
      "Requirement already satisfied: pillow!=8.3.*,>=5.3.0 in /Users/tilmankerl/Documents/UNI/SICSS/reddit-pills/.venv/lib/python3.9/site-packages (from torchvision->sentence-transformers>=0.4.1->bertopic) (10.0.0)\n",
      "Requirement already satisfied: MarkupSafe>=2.0 in /Users/tilmankerl/Documents/UNI/SICSS/reddit-pills/.venv/lib/python3.9/site-packages (from jinja2->torch>=1.6.0->sentence-transformers>=0.4.1->bertopic) (2.1.3)\n",
      "Requirement already satisfied: charset-normalizer<4,>=2 in /Users/tilmankerl/Documents/UNI/SICSS/reddit-pills/.venv/lib/python3.9/site-packages (from requests->huggingface-hub>=0.4.0->sentence-transformers>=0.4.1->bertopic) (3.2.0)\n",
      "Requirement already satisfied: idna<4,>=2.5 in /Users/tilmankerl/Documents/UNI/SICSS/reddit-pills/.venv/lib/python3.9/site-packages (from requests->huggingface-hub>=0.4.0->sentence-transformers>=0.4.1->bertopic) (3.4)\n",
      "Requirement already satisfied: urllib3<3,>=1.21.1 in /Users/tilmankerl/Documents/UNI/SICSS/reddit-pills/.venv/lib/python3.9/site-packages (from requests->huggingface-hub>=0.4.0->sentence-transformers>=0.4.1->bertopic) (2.0.4)\n",
      "Requirement already satisfied: certifi>=2017.4.17 in /Users/tilmankerl/Documents/UNI/SICSS/reddit-pills/.venv/lib/python3.9/site-packages (from requests->huggingface-hub>=0.4.0->sentence-transformers>=0.4.1->bertopic) (2023.7.22)\n",
      "Requirement already satisfied: mpmath>=0.19 in /Users/tilmankerl/Documents/UNI/SICSS/reddit-pills/.venv/lib/python3.9/site-packages (from sympy->torch>=1.6.0->sentence-transformers>=0.4.1->bertopic) (1.3.0)\n",
      "Note: you may need to restart the kernel to use updated packages.\n"
     ]
    }
   ],
   "source": [
    "%pip install bertopic #[spacy]"
   ]
  },
  {
   "cell_type": "code",
   "execution_count": 4,
   "metadata": {},
   "outputs": [],
   "source": [
    "# %pip install NewsSentiment"
   ]
  },
  {
   "cell_type": "code",
   "execution_count": 5,
   "metadata": {},
   "outputs": [
    {
     "name": "stdout",
     "output_type": "stream",
     "text": [
      "Requirement already satisfied: sentence-transformers in /Users/tilmankerl/Documents/UNI/SICSS/reddit-pills/.venv/lib/python3.9/site-packages (2.2.2)\n",
      "Requirement already satisfied: transformers<5.0.0,>=4.6.0 in /Users/tilmankerl/Documents/UNI/SICSS/reddit-pills/.venv/lib/python3.9/site-packages (from sentence-transformers) (4.31.0)\n",
      "Requirement already satisfied: tqdm in /Users/tilmankerl/Documents/UNI/SICSS/reddit-pills/.venv/lib/python3.9/site-packages (from sentence-transformers) (4.65.0)\n",
      "Requirement already satisfied: torch>=1.6.0 in /Users/tilmankerl/Documents/UNI/SICSS/reddit-pills/.venv/lib/python3.9/site-packages (from sentence-transformers) (2.0.1)\n",
      "Requirement already satisfied: torchvision in /Users/tilmankerl/Documents/UNI/SICSS/reddit-pills/.venv/lib/python3.9/site-packages (from sentence-transformers) (0.15.2)\n",
      "Requirement already satisfied: numpy in /Users/tilmankerl/Documents/UNI/SICSS/reddit-pills/.venv/lib/python3.9/site-packages (from sentence-transformers) (1.24.0)\n",
      "Requirement already satisfied: scikit-learn in /Users/tilmankerl/Documents/UNI/SICSS/reddit-pills/.venv/lib/python3.9/site-packages (from sentence-transformers) (1.3.0)\n",
      "Requirement already satisfied: scipy in /Users/tilmankerl/Documents/UNI/SICSS/reddit-pills/.venv/lib/python3.9/site-packages (from sentence-transformers) (1.11.1)\n",
      "Requirement already satisfied: nltk in /Users/tilmankerl/Documents/UNI/SICSS/reddit-pills/.venv/lib/python3.9/site-packages (from sentence-transformers) (3.8.1)\n",
      "Requirement already satisfied: sentencepiece in /Users/tilmankerl/Documents/UNI/SICSS/reddit-pills/.venv/lib/python3.9/site-packages (from sentence-transformers) (0.1.99)\n",
      "Requirement already satisfied: huggingface-hub>=0.4.0 in /Users/tilmankerl/Documents/UNI/SICSS/reddit-pills/.venv/lib/python3.9/site-packages (from sentence-transformers) (0.16.4)\n",
      "Requirement already satisfied: filelock in /Users/tilmankerl/Documents/UNI/SICSS/reddit-pills/.venv/lib/python3.9/site-packages (from huggingface-hub>=0.4.0->sentence-transformers) (3.12.2)\n",
      "Requirement already satisfied: fsspec in /Users/tilmankerl/Documents/UNI/SICSS/reddit-pills/.venv/lib/python3.9/site-packages (from huggingface-hub>=0.4.0->sentence-transformers) (2023.6.0)\n",
      "Requirement already satisfied: requests in /Users/tilmankerl/Documents/UNI/SICSS/reddit-pills/.venv/lib/python3.9/site-packages (from huggingface-hub>=0.4.0->sentence-transformers) (2.31.0)\n",
      "Requirement already satisfied: pyyaml>=5.1 in /Users/tilmankerl/Documents/UNI/SICSS/reddit-pills/.venv/lib/python3.9/site-packages (from huggingface-hub>=0.4.0->sentence-transformers) (6.0.1)\n",
      "Requirement already satisfied: typing-extensions>=3.7.4.3 in /Users/tilmankerl/Documents/UNI/SICSS/reddit-pills/.venv/lib/python3.9/site-packages (from huggingface-hub>=0.4.0->sentence-transformers) (4.7.1)\n",
      "Requirement already satisfied: packaging>=20.9 in /Users/tilmankerl/Documents/UNI/SICSS/reddit-pills/.venv/lib/python3.9/site-packages (from huggingface-hub>=0.4.0->sentence-transformers) (23.1)\n",
      "Requirement already satisfied: sympy in /Users/tilmankerl/Documents/UNI/SICSS/reddit-pills/.venv/lib/python3.9/site-packages (from torch>=1.6.0->sentence-transformers) (1.12)\n",
      "Requirement already satisfied: networkx in /Users/tilmankerl/Documents/UNI/SICSS/reddit-pills/.venv/lib/python3.9/site-packages (from torch>=1.6.0->sentence-transformers) (3.1)\n",
      "Requirement already satisfied: jinja2 in /Users/tilmankerl/Documents/UNI/SICSS/reddit-pills/.venv/lib/python3.9/site-packages (from torch>=1.6.0->sentence-transformers) (3.1.2)\n",
      "Requirement already satisfied: regex!=2019.12.17 in /Users/tilmankerl/Documents/UNI/SICSS/reddit-pills/.venv/lib/python3.9/site-packages (from transformers<5.0.0,>=4.6.0->sentence-transformers) (2023.6.3)\n",
      "Requirement already satisfied: tokenizers!=0.11.3,<0.14,>=0.11.1 in /Users/tilmankerl/Documents/UNI/SICSS/reddit-pills/.venv/lib/python3.9/site-packages (from transformers<5.0.0,>=4.6.0->sentence-transformers) (0.13.3)\n",
      "Requirement already satisfied: safetensors>=0.3.1 in /Users/tilmankerl/Documents/UNI/SICSS/reddit-pills/.venv/lib/python3.9/site-packages (from transformers<5.0.0,>=4.6.0->sentence-transformers) (0.3.1)\n",
      "Requirement already satisfied: click in /Users/tilmankerl/Documents/UNI/SICSS/reddit-pills/.venv/lib/python3.9/site-packages (from nltk->sentence-transformers) (8.1.6)\n",
      "Requirement already satisfied: joblib in /Users/tilmankerl/Documents/UNI/SICSS/reddit-pills/.venv/lib/python3.9/site-packages (from nltk->sentence-transformers) (1.3.1)\n",
      "Requirement already satisfied: threadpoolctl>=2.0.0 in /Users/tilmankerl/Documents/UNI/SICSS/reddit-pills/.venv/lib/python3.9/site-packages (from scikit-learn->sentence-transformers) (3.2.0)\n",
      "Requirement already satisfied: pillow!=8.3.*,>=5.3.0 in /Users/tilmankerl/Documents/UNI/SICSS/reddit-pills/.venv/lib/python3.9/site-packages (from torchvision->sentence-transformers) (10.0.0)\n",
      "Requirement already satisfied: MarkupSafe>=2.0 in /Users/tilmankerl/Documents/UNI/SICSS/reddit-pills/.venv/lib/python3.9/site-packages (from jinja2->torch>=1.6.0->sentence-transformers) (2.1.3)\n",
      "Requirement already satisfied: charset-normalizer<4,>=2 in /Users/tilmankerl/Documents/UNI/SICSS/reddit-pills/.venv/lib/python3.9/site-packages (from requests->huggingface-hub>=0.4.0->sentence-transformers) (3.2.0)\n",
      "Requirement already satisfied: idna<4,>=2.5 in /Users/tilmankerl/Documents/UNI/SICSS/reddit-pills/.venv/lib/python3.9/site-packages (from requests->huggingface-hub>=0.4.0->sentence-transformers) (3.4)\n",
      "Requirement already satisfied: urllib3<3,>=1.21.1 in /Users/tilmankerl/Documents/UNI/SICSS/reddit-pills/.venv/lib/python3.9/site-packages (from requests->huggingface-hub>=0.4.0->sentence-transformers) (2.0.4)\n",
      "Requirement already satisfied: certifi>=2017.4.17 in /Users/tilmankerl/Documents/UNI/SICSS/reddit-pills/.venv/lib/python3.9/site-packages (from requests->huggingface-hub>=0.4.0->sentence-transformers) (2023.7.22)\n",
      "Requirement already satisfied: mpmath>=0.19 in /Users/tilmankerl/Documents/UNI/SICSS/reddit-pills/.venv/lib/python3.9/site-packages (from sympy->torch>=1.6.0->sentence-transformers) (1.3.0)\n",
      "Note: you may need to restart the kernel to use updated packages.\n"
     ]
    }
   ],
   "source": [
    "%pip install -U sentence-transformers"
   ]
  },
  {
   "cell_type": "markdown",
   "metadata": {},
   "source": [
    "### Imports"
   ]
  },
  {
   "cell_type": "code",
   "execution_count": 6,
   "metadata": {},
   "outputs": [],
   "source": [
    "import os\n",
    "from pathlib import Path\n",
    "\n",
    "import numpy as np\n",
    "import pandas as pd\n",
    "import matplotlib.pyplot as plt\n",
    "\n",
    "import seaborn as sns"
   ]
  },
  {
   "cell_type": "code",
   "execution_count": 7,
   "metadata": {},
   "outputs": [
    {
     "name": "stderr",
     "output_type": "stream",
     "text": [
      "/Users/tilmankerl/Documents/UNI/SICSS/reddit-pills/.venv/lib/python3.9/site-packages/umap/distances.py:1063: NumbaDeprecationWarning: The 'nopython' keyword argument was not supplied to the 'numba.jit' decorator. The implicit default value for this argument is currently False, but it will be changed to True in Numba 0.59.0. See https://numba.readthedocs.io/en/stable/reference/deprecation.html#deprecation-of-object-mode-fall-back-behaviour-when-using-jit for details.\n",
      "  @numba.jit()\n",
      "/Users/tilmankerl/Documents/UNI/SICSS/reddit-pills/.venv/lib/python3.9/site-packages/umap/distances.py:1071: NumbaDeprecationWarning: The 'nopython' keyword argument was not supplied to the 'numba.jit' decorator. The implicit default value for this argument is currently False, but it will be changed to True in Numba 0.59.0. See https://numba.readthedocs.io/en/stable/reference/deprecation.html#deprecation-of-object-mode-fall-back-behaviour-when-using-jit for details.\n",
      "  @numba.jit()\n",
      "/Users/tilmankerl/Documents/UNI/SICSS/reddit-pills/.venv/lib/python3.9/site-packages/umap/distances.py:1086: NumbaDeprecationWarning: The 'nopython' keyword argument was not supplied to the 'numba.jit' decorator. The implicit default value for this argument is currently False, but it will be changed to True in Numba 0.59.0. See https://numba.readthedocs.io/en/stable/reference/deprecation.html#deprecation-of-object-mode-fall-back-behaviour-when-using-jit for details.\n",
      "  @numba.jit()\n",
      "/Users/tilmankerl/Documents/UNI/SICSS/reddit-pills/.venv/lib/python3.9/site-packages/tqdm/auto.py:21: TqdmWarning: IProgress not found. Please update jupyter and ipywidgets. See https://ipywidgets.readthedocs.io/en/stable/user_install.html\n",
      "  from .autonotebook import tqdm as notebook_tqdm\n",
      "/Users/tilmankerl/Documents/UNI/SICSS/reddit-pills/.venv/lib/python3.9/site-packages/umap/umap_.py:660: NumbaDeprecationWarning: The 'nopython' keyword argument was not supplied to the 'numba.jit' decorator. The implicit default value for this argument is currently False, but it will be changed to True in Numba 0.59.0. See https://numba.readthedocs.io/en/stable/reference/deprecation.html#deprecation-of-object-mode-fall-back-behaviour-when-using-jit for details.\n",
      "  @numba.jit()\n",
      "/Users/tilmankerl/Documents/UNI/SICSS/reddit-pills/.venv/lib/python3.9/site-packages/urllib3/__init__.py:34: NotOpenSSLWarning: urllib3 v2.0 only supports OpenSSL 1.1.1+, currently the 'ssl' module is compiled with 'LibreSSL 2.8.3'. See: https://github.com/urllib3/urllib3/issues/3020\n",
      "  warnings.warn(\n"
     ]
    }
   ],
   "source": [
    "from bertopic import BERTopic\n",
    "from bertopic.representation import KeyBERTInspired"
   ]
  },
  {
   "cell_type": "markdown",
   "metadata": {},
   "source": [
    "### General configs"
   ]
  },
  {
   "cell_type": "code",
   "execution_count": 8,
   "metadata": {},
   "outputs": [],
   "source": [
    "# matplotlib theme\n",
    "plt.style.use('ggplot')"
   ]
  },
  {
   "cell_type": "markdown",
   "metadata": {},
   "source": [
    "### Data loading"
   ]
  },
  {
   "cell_type": "code",
   "execution_count": 9,
   "metadata": {},
   "outputs": [
    {
     "name": "stdout",
     "output_type": "stream",
     "text": [
      "/Users/tilmankerl/Documents/UNI/SICSS/reddit-pills/data\n"
     ]
    }
   ],
   "source": [
    "# get DATA_DIR\n",
    "DATA_DIR = os.path.join(Path(os.path.abspath(\"\")).parent, \"data\")\n",
    "print(DATA_DIR)"
   ]
  },
  {
   "cell_type": "code",
   "execution_count": 10,
   "metadata": {},
   "outputs": [],
   "source": [
    "submission_redpill = pd.read_csv(\n",
    "    f\"{DATA_DIR}/output/RedPillWomen_submissions.csv\",\n",
    "    names=[\"score\", \"date\", \"title\", 'author_flair_text','link_flair_text','locked','over_18', \"author\",\"link\", \"body\"]\n",
    ")\n",
    "comments_redpill = pd.read_csv(\n",
    "    f\"{DATA_DIR}/output/RedPillWomen_comments.csv\",\n",
    "    names=[\"score\", \"date\", \"is_submitter\", \"author\",\"link\", \"body\"]\n",
    ")"
   ]
  },
  {
   "cell_type": "code",
   "execution_count": 11,
   "metadata": {},
   "outputs": [],
   "source": [
    "# feature types\n",
    "submission_redpill.date = pd.to_datetime(submission_redpill.date)\n",
    "comments_redpill.date = pd.to_datetime(comments_redpill.date)\n",
    "\n",
    "# introduce month and year columns + month_year column\n",
    "submission_redpill['month'] = submission_redpill.date.dt.month\n",
    "submission_redpill['year'] = submission_redpill.date.dt.year\n",
    "submission_redpill['month_year'] = submission_redpill.date.dt.to_period('M')"
   ]
  },
  {
   "cell_type": "code",
   "execution_count": 12,
   "metadata": {},
   "outputs": [
    {
     "name": "stdout",
     "output_type": "stream",
     "text": [
      "2013-06-17 00:00:00 2022-12-31 00:00:00\n"
     ]
    }
   ],
   "source": [
    "print(\n",
    "    submission_redpill.date.min(),\n",
    "    submission_redpill.date.max()\n",
    ")"
   ]
  },
  {
   "cell_type": "markdown",
   "metadata": {},
   "source": [
    "## Exploration"
   ]
  },
  {
   "cell_type": "markdown",
   "metadata": {},
   "source": [
    "### Submissions"
   ]
  },
  {
   "cell_type": "markdown",
   "metadata": {},
   "source": [
    "We start our exploraiton by looking into NA values and duplicates."
   ]
  },
  {
   "cell_type": "code",
   "execution_count": 13,
   "metadata": {},
   "outputs": [
    {
     "data": {
      "text/html": [
       "<div>\n",
       "<style scoped>\n",
       "    .dataframe tbody tr th:only-of-type {\n",
       "        vertical-align: middle;\n",
       "    }\n",
       "\n",
       "    .dataframe tbody tr th {\n",
       "        vertical-align: top;\n",
       "    }\n",
       "\n",
       "    .dataframe thead th {\n",
       "        text-align: right;\n",
       "    }\n",
       "</style>\n",
       "<table border=\"1\" class=\"dataframe\">\n",
       "  <thead>\n",
       "    <tr style=\"text-align: right;\">\n",
       "      <th></th>\n",
       "      <th>score</th>\n",
       "      <th>date</th>\n",
       "      <th>title</th>\n",
       "      <th>author_flair_text</th>\n",
       "      <th>link_flair_text</th>\n",
       "      <th>locked</th>\n",
       "      <th>over_18</th>\n",
       "      <th>author</th>\n",
       "      <th>link</th>\n",
       "      <th>body</th>\n",
       "      <th>month</th>\n",
       "      <th>year</th>\n",
       "      <th>month_year</th>\n",
       "    </tr>\n",
       "  </thead>\n",
       "  <tbody>\n",
       "    <tr>\n",
       "      <th>0</th>\n",
       "      <td>1</td>\n",
       "      <td>2013-06-18</td>\n",
       "      <td>What's the point of this sub?</td>\n",
       "      <td>NaN</td>\n",
       "      <td>NaN</td>\n",
       "      <td>False</td>\n",
       "      <td>False</td>\n",
       "      <td>u/ienjoyzaandda</td>\n",
       "      <td>https://www.reddit.com/r/RedPillWomen/comments...</td>\n",
       "      <td>NaN</td>\n",
       "      <td>6</td>\n",
       "      <td>2013</td>\n",
       "      <td>2013-06</td>\n",
       "    </tr>\n",
       "    <tr>\n",
       "      <th>1</th>\n",
       "      <td>1</td>\n",
       "      <td>2013-06-17</td>\n",
       "      <td>What do you ladies feed your hamsters?</td>\n",
       "      <td>NaN</td>\n",
       "      <td>NaN</td>\n",
       "      <td>False</td>\n",
       "      <td>False</td>\n",
       "      <td>u/lauratheredditor</td>\n",
       "      <td>https://www.reddit.com/r/RedPillWomen/comments...</td>\n",
       "      <td>NaN</td>\n",
       "      <td>6</td>\n",
       "      <td>2013</td>\n",
       "      <td>2013-06</td>\n",
       "    </tr>\n",
       "    <tr>\n",
       "      <th>2</th>\n",
       "      <td>2</td>\n",
       "      <td>2013-06-17</td>\n",
       "      <td>How can I get ugly betas to pay for my things ...</td>\n",
       "      <td>NaN</td>\n",
       "      <td>NaN</td>\n",
       "      <td>False</td>\n",
       "      <td>False</td>\n",
       "      <td>u/[deleted]</td>\n",
       "      <td>https://www.reddit.com/r/RedPillWomen/comments...</td>\n",
       "      <td>NaN</td>\n",
       "      <td>6</td>\n",
       "      <td>2013</td>\n",
       "      <td>2013-06</td>\n",
       "    </tr>\n",
       "    <tr>\n",
       "      <th>3</th>\n",
       "      <td>8</td>\n",
       "      <td>2013-06-17</td>\n",
       "      <td>Suggested Reading List?</td>\n",
       "      <td>Endorsed Woman</td>\n",
       "      <td>NaN</td>\n",
       "      <td>False</td>\n",
       "      <td>False</td>\n",
       "      <td>u/margerym</td>\n",
       "      <td>https://www.reddit.com/r/RedPillWomen/comments...</td>\n",
       "      <td>(I'm new to reddit and the Red Pill community ...</td>\n",
       "      <td>6</td>\n",
       "      <td>2013</td>\n",
       "      <td>2013-06</td>\n",
       "    </tr>\n",
       "    <tr>\n",
       "      <th>4</th>\n",
       "      <td>7</td>\n",
       "      <td>2013-06-17</td>\n",
       "      <td>Best way to Convince Man He's the Father?</td>\n",
       "      <td>NaN</td>\n",
       "      <td>NaN</td>\n",
       "      <td>False</td>\n",
       "      <td>False</td>\n",
       "      <td>u/Dramatological</td>\n",
       "      <td>https://www.reddit.com/r/RedPillWomen/comments...</td>\n",
       "      <td>NaN</td>\n",
       "      <td>6</td>\n",
       "      <td>2013</td>\n",
       "      <td>2013-06</td>\n",
       "    </tr>\n",
       "  </tbody>\n",
       "</table>\n",
       "</div>"
      ],
      "text/plain": [
       "   score       date                                              title  \\\n",
       "0      1 2013-06-18                      What's the point of this sub?   \n",
       "1      1 2013-06-17             What do you ladies feed your hamsters?   \n",
       "2      2 2013-06-17  How can I get ugly betas to pay for my things ...   \n",
       "3      8 2013-06-17                            Suggested Reading List?   \n",
       "4      7 2013-06-17          Best way to Convince Man He's the Father?   \n",
       "\n",
       "  author_flair_text link_flair_text  locked  over_18              author  \\\n",
       "0               NaN             NaN   False    False     u/ienjoyzaandda   \n",
       "1               NaN             NaN   False    False  u/lauratheredditor   \n",
       "2               NaN             NaN   False    False         u/[deleted]   \n",
       "3    Endorsed Woman             NaN   False    False          u/margerym   \n",
       "4               NaN             NaN   False    False    u/Dramatological   \n",
       "\n",
       "                                                link  \\\n",
       "0  https://www.reddit.com/r/RedPillWomen/comments...   \n",
       "1  https://www.reddit.com/r/RedPillWomen/comments...   \n",
       "2  https://www.reddit.com/r/RedPillWomen/comments...   \n",
       "3  https://www.reddit.com/r/RedPillWomen/comments...   \n",
       "4  https://www.reddit.com/r/RedPillWomen/comments...   \n",
       "\n",
       "                                                body  month  year month_year  \n",
       "0                                                NaN      6  2013    2013-06  \n",
       "1                                                NaN      6  2013    2013-06  \n",
       "2                                                NaN      6  2013    2013-06  \n",
       "3  (I'm new to reddit and the Red Pill community ...      6  2013    2013-06  \n",
       "4                                                NaN      6  2013    2013-06  "
      ]
     },
     "execution_count": 13,
     "metadata": {},
     "output_type": "execute_result"
    }
   ],
   "source": [
    "submission_redpill.head()"
   ]
  },
  {
   "cell_type": "code",
   "execution_count": 14,
   "metadata": {},
   "outputs": [
    {
     "data": {
      "text/plain": [
       "score                    0\n",
       "date                     0\n",
       "title                    0\n",
       "author_flair_text    20380\n",
       "link_flair_text      10839\n",
       "locked                   0\n",
       "over_18                  0\n",
       "author                   0\n",
       "link                     0\n",
       "body                  1396\n",
       "month                    0\n",
       "year                     0\n",
       "month_year               0\n",
       "dtype: int64"
      ]
     },
     "execution_count": 14,
     "metadata": {},
     "output_type": "execute_result"
    }
   ],
   "source": [
    "# get NAs\n",
    "submission_redpill.isna().sum()"
   ]
  },
  {
   "cell_type": "markdown",
   "metadata": {},
   "source": [
    "Plot avergae length of body text"
   ]
  },
  {
   "cell_type": "code",
   "execution_count": 15,
   "metadata": {},
   "outputs": [
    {
     "data": {
      "text/plain": [
       "Text(0.5, 1.0, 'Distribution of body text length for submissions')"
      ]
     },
     "execution_count": 15,
     "metadata": {},
     "output_type": "execute_result"
    },
    {
     "data": {
      "image/png": "[encoded data removed]",
      "text/plain": [
       "<Figure size 640x480 with 1 Axes>"
      ]
     },
     "metadata": {},
     "output_type": "display_data"
    }
   ],
   "source": [
    "submission_redpill.body.str.len().hist(\n",
    "    bins=100    \n",
    ").set_title(\"Distribution of body text length for submissions\")"
   ]
  },
  {
   "cell_type": "markdown",
   "metadata": {},
   "source": [
    "Plot posts over time:"
   ]
  },
  {
   "cell_type": "code",
   "execution_count": 16,
   "metadata": {},
   "outputs": [
    {
     "data": {
      "text/plain": [
       "<matplotlib.legend.Legend at 0x2b7c13b50>"
      ]
     },
     "execution_count": 16,
     "metadata": {},
     "output_type": "execute_result"
    },
    {
     "data": {
      "image/png": "[encoded data removed]",
      "text/plain": [
       "<Figure size 1500x500 with 1 Axes>"
      ]
     },
     "metadata": {},
     "output_type": "display_data"
    }
   ],
   "source": [
    "#Plot posts over time:\n",
    "submission_redpill.date.value_counts().sort_index().plot(\n",
    "    kind='line',\n",
    "    title=\"Number of posts per day\",\n",
    "    figsize=(15, 5),\n",
    "    # color\n",
    "    color='b',\n",
    ")\n",
    "\n",
    "# add average line\n",
    "plt.axhline(submission_redpill.date.value_counts().mean(), color='r', linestyle='--')\n",
    "\n",
    "# convert date to ordinal\n",
    "submission_redpill['date_ordinal'] = pd.to_datetime(submission_redpill['date']).apply(lambda date: date.toordinal())\n",
    "\n",
    "# add trend line\n",
    "z = np.polyfit(submission_redpill['date_ordinal'], submission_redpill['score'], 10)\n",
    "p = np.poly1d(z)\n",
    "plt.plot(submission_redpill['date'],p(submission_redpill['date_ordinal']),\"g--\")\n",
    "\n",
    "# add legend\n",
    "plt.legend(['Posts per day', 'Global avg.', 'Global trend'])"
   ]
  },
  {
   "cell_type": "markdown",
   "metadata": {},
   "source": [
    "Get date with 3-highest number of posts for manual inspection"
   ]
  },
  {
   "cell_type": "code",
   "execution_count": 17,
   "metadata": {},
   "outputs": [
    {
     "data": {
      "text/html": [
       "<div>\n",
       "<style scoped>\n",
       "    .dataframe tbody tr th:only-of-type {\n",
       "        vertical-align: middle;\n",
       "    }\n",
       "\n",
       "    .dataframe tbody tr th {\n",
       "        vertical-align: top;\n",
       "    }\n",
       "\n",
       "    .dataframe thead th {\n",
       "        text-align: right;\n",
       "    }\n",
       "</style>\n",
       "<table border=\"1\" class=\"dataframe\">\n",
       "  <thead>\n",
       "    <tr style=\"text-align: right;\">\n",
       "      <th></th>\n",
       "      <th>score</th>\n",
       "      <th>title</th>\n",
       "      <th>author_flair_text</th>\n",
       "      <th>link_flair_text</th>\n",
       "      <th>locked</th>\n",
       "      <th>over_18</th>\n",
       "      <th>author</th>\n",
       "      <th>link</th>\n",
       "      <th>body</th>\n",
       "      <th>month</th>\n",
       "      <th>year</th>\n",
       "      <th>month_year</th>\n",
       "      <th>date_ordinal</th>\n",
       "    </tr>\n",
       "    <tr>\n",
       "      <th>date</th>\n",
       "      <th></th>\n",
       "      <th></th>\n",
       "      <th></th>\n",
       "      <th></th>\n",
       "      <th></th>\n",
       "      <th></th>\n",
       "      <th></th>\n",
       "      <th></th>\n",
       "      <th></th>\n",
       "      <th></th>\n",
       "      <th></th>\n",
       "      <th></th>\n",
       "      <th></th>\n",
       "    </tr>\n",
       "  </thead>\n",
       "  <tbody>\n",
       "    <tr>\n",
       "      <th>2018-09-18</th>\n",
       "      <td>40</td>\n",
       "      <td>40</td>\n",
       "      <td>4</td>\n",
       "      <td>21</td>\n",
       "      <td>40</td>\n",
       "      <td>40</td>\n",
       "      <td>40</td>\n",
       "      <td>40</td>\n",
       "      <td>39</td>\n",
       "      <td>40</td>\n",
       "      <td>40</td>\n",
       "      <td>40</td>\n",
       "      <td>40</td>\n",
       "    </tr>\n",
       "    <tr>\n",
       "      <th>2022-06-17</th>\n",
       "      <td>34</td>\n",
       "      <td>34</td>\n",
       "      <td>0</td>\n",
       "      <td>28</td>\n",
       "      <td>34</td>\n",
       "      <td>34</td>\n",
       "      <td>34</td>\n",
       "      <td>34</td>\n",
       "      <td>34</td>\n",
       "      <td>34</td>\n",
       "      <td>34</td>\n",
       "      <td>34</td>\n",
       "      <td>34</td>\n",
       "    </tr>\n",
       "    <tr>\n",
       "      <th>2017-03-01</th>\n",
       "      <td>29</td>\n",
       "      <td>29</td>\n",
       "      <td>1</td>\n",
       "      <td>4</td>\n",
       "      <td>29</td>\n",
       "      <td>29</td>\n",
       "      <td>29</td>\n",
       "      <td>29</td>\n",
       "      <td>29</td>\n",
       "      <td>29</td>\n",
       "      <td>29</td>\n",
       "      <td>29</td>\n",
       "      <td>29</td>\n",
       "    </tr>\n",
       "  </tbody>\n",
       "</table>\n",
       "</div>"
      ],
      "text/plain": [
       "            score  title  author_flair_text  link_flair_text  locked  over_18  \\\n",
       "date                                                                            \n",
       "2018-09-18     40     40                  4               21      40       40   \n",
       "2022-06-17     34     34                  0               28      34       34   \n",
       "2017-03-01     29     29                  1                4      29       29   \n",
       "\n",
       "            author  link  body  month  year  month_year  date_ordinal  \n",
       "date                                                                   \n",
       "2018-09-18      40    40    39     40    40          40            40  \n",
       "2022-06-17      34    34    34     34    34          34            34  \n",
       "2017-03-01      29    29    29     29    29          29            29  "
      ]
     },
     "execution_count": 17,
     "metadata": {},
     "output_type": "execute_result"
    }
   ],
   "source": [
    "submission_redpill.groupby('date').count().sort_values(by='author', ascending=False).head(3)"
   ]
  },
  {
   "cell_type": "markdown",
   "metadata": {},
   "source": [
    "Get deleted posts"
   ]
  },
  {
   "cell_type": "code",
   "execution_count": 18,
   "metadata": {},
   "outputs": [
    {
     "data": {
      "text/plain": [
       "9136"
      ]
     },
     "execution_count": 18,
     "metadata": {},
     "output_type": "execute_result"
    }
   ],
   "source": [
    "submission_redpill.body.str.contains('\\[deleted\\]|\\[removed\\]').sum()"
   ]
  },
  {
   "cell_type": "markdown",
   "metadata": {},
   "source": [
    "### Comments"
   ]
  },
  {
   "cell_type": "code",
   "execution_count": 19,
   "metadata": {},
   "outputs": [
    {
     "data": {
      "text/html": [
       "<div>\n",
       "<style scoped>\n",
       "    .dataframe tbody tr th:only-of-type {\n",
       "        vertical-align: middle;\n",
       "    }\n",
       "\n",
       "    .dataframe tbody tr th {\n",
       "        vertical-align: top;\n",
       "    }\n",
       "\n",
       "    .dataframe thead th {\n",
       "        text-align: right;\n",
       "    }\n",
       "</style>\n",
       "<table border=\"1\" class=\"dataframe\">\n",
       "  <thead>\n",
       "    <tr style=\"text-align: right;\">\n",
       "      <th></th>\n",
       "      <th>score</th>\n",
       "      <th>date</th>\n",
       "      <th>is_submitter</th>\n",
       "      <th>author</th>\n",
       "      <th>link</th>\n",
       "      <th>body</th>\n",
       "    </tr>\n",
       "  </thead>\n",
       "  <tbody>\n",
       "    <tr>\n",
       "      <th>0</th>\n",
       "      <td>2</td>\n",
       "      <td>2017-10-01</td>\n",
       "      <td>False</td>\n",
       "      <td>u/etf42</td>\n",
       "      <td>https://www.reddit.com/r/RedPillWomen/comments...</td>\n",
       "      <td>Men have always been more disposable due to th...</td>\n",
       "    </tr>\n",
       "    <tr>\n",
       "      <th>1</th>\n",
       "      <td>1</td>\n",
       "      <td>2017-10-01</td>\n",
       "      <td>False</td>\n",
       "      <td>u/throwawayklutch</td>\n",
       "      <td>https://www.reddit.com/r/RedPillWomen/comments...</td>\n",
       "      <td>To me, these women seem like they just have no...</td>\n",
       "    </tr>\n",
       "    <tr>\n",
       "      <th>2</th>\n",
       "      <td>2</td>\n",
       "      <td>2017-10-01</td>\n",
       "      <td>False</td>\n",
       "      <td>u/SouthernAthena</td>\n",
       "      <td>https://www.reddit.com/r/RedPillWomen/comments...</td>\n",
       "      <td>That attitude will get them far in life. But y...</td>\n",
       "    </tr>\n",
       "    <tr>\n",
       "      <th>3</th>\n",
       "      <td>8</td>\n",
       "      <td>2017-10-01</td>\n",
       "      <td>False</td>\n",
       "      <td>u/platewrecked</td>\n",
       "      <td>https://www.reddit.com/r/RedPillWomen/comments...</td>\n",
       "      <td>Greg the OP is a suicidal, drug addled, datele...</td>\n",
       "    </tr>\n",
       "    <tr>\n",
       "      <th>4</th>\n",
       "      <td>2</td>\n",
       "      <td>2017-10-01</td>\n",
       "      <td>False</td>\n",
       "      <td>u/thelampshade25</td>\n",
       "      <td>https://www.reddit.com/r/RedPillWomen/comments...</td>\n",
       "      <td>Very funny video i was loling the whole time</td>\n",
       "    </tr>\n",
       "  </tbody>\n",
       "</table>\n",
       "</div>"
      ],
      "text/plain": [
       "   score       date  is_submitter             author  \\\n",
       "0      2 2017-10-01         False            u/etf42   \n",
       "1      1 2017-10-01         False  u/throwawayklutch   \n",
       "2      2 2017-10-01         False   u/SouthernAthena   \n",
       "3      8 2017-10-01         False     u/platewrecked   \n",
       "4      2 2017-10-01         False   u/thelampshade25   \n",
       "\n",
       "                                                link  \\\n",
       "0  https://www.reddit.com/r/RedPillWomen/comments...   \n",
       "1  https://www.reddit.com/r/RedPillWomen/comments...   \n",
       "2  https://www.reddit.com/r/RedPillWomen/comments...   \n",
       "3  https://www.reddit.com/r/RedPillWomen/comments...   \n",
       "4  https://www.reddit.com/r/RedPillWomen/comments...   \n",
       "\n",
       "                                                body  \n",
       "0  Men have always been more disposable due to th...  \n",
       "1  To me, these women seem like they just have no...  \n",
       "2  That attitude will get them far in life. But y...  \n",
       "3  Greg the OP is a suicidal, drug addled, datele...  \n",
       "4       Very funny video i was loling the whole time  "
      ]
     },
     "execution_count": 19,
     "metadata": {},
     "output_type": "execute_result"
    }
   ],
   "source": [
    "comments_redpill.head()"
   ]
  },
  {
   "cell_type": "markdown",
   "metadata": {},
   "source": [
    "Inspecting NAs & drop them"
   ]
  },
  {
   "cell_type": "code",
   "execution_count": 20,
   "metadata": {},
   "outputs": [
    {
     "name": "stdout",
     "output_type": "stream",
     "text": [
      "score           0\n",
      "date            0\n",
      "is_submitter    0\n",
      "author          0\n",
      "link            0\n",
      "body            4\n",
      "dtype: int64\n"
     ]
    }
   ],
   "source": [
    "print(comments_redpill.isna().sum())\n",
    "comments_redpill = comments_redpill.dropna()"
   ]
  },
  {
   "cell_type": "markdown",
   "metadata": {},
   "source": [
    "## Brief Topic modelling using BERTopic"
   ]
  },
  {
   "cell_type": "markdown",
   "metadata": {},
   "source": [
    "### Processing"
   ]
  },
  {
   "cell_type": "markdown",
   "metadata": {},
   "source": [
    "Topic-specific preprocessing"
   ]
  },
  {
   "cell_type": "code",
   "execution_count": 21,
   "metadata": {},
   "outputs": [
    {
     "name": "stdout",
     "output_type": "stream",
     "text": [
      "Before processing:\n",
      "(22995, 14)\n",
      "5152.0\n",
      "128.0\n",
      "After processing:\n",
      "(11223, 15)\n"
     ]
    }
   ],
   "source": [
    "submission_redpill_topic = submission_redpill.copy()\n",
    "\n",
    "print(\"Before processing:\")\n",
    "print(submission_redpill_topic.shape)\n",
    "\n",
    "# drop body NAs\n",
    "submission_redpill_topic = submission_redpill_topic.dropna(subset=['body'])\n",
    "\n",
    "# drop link duplicates\n",
    "submission_redpill_topic = submission_redpill_topic.drop_duplicates(subset=['link'])\n",
    "\n",
    "# remove double spaces & new lines from body\n",
    "submission_redpill_topic['body'] = submission_redpill_topic['body'].str.replace('\\n', ' ')\n",
    "submission_redpill_topic['body'] = submission_redpill_topic['body'].str.replace('  ', ' ')\n",
    "\n",
    "# intriduce doc_text column (concat title and body)\n",
    "submission_redpill_topic['doc_text'] = submission_redpill_topic['title'] + ' ' + submission_redpill_topic['body']\n",
    "# set dtype to string\n",
    "submission_redpill_topic['doc_text'] = submission_redpill_topic['doc_text'].astype(str)\n",
    "\n",
    "# remove delted and removed posts\n",
    "# check if body is [deleted] or [removed] in one line\n",
    "submission_redpill_topic = submission_redpill_topic[~submission_redpill_topic['body'].str.contains('\\[deleted\\]|\\[removed\\]')]\n",
    "\n",
    "# based on quantiles, filter out the top and bottom 5% of doc_text length\n",
    "top_quantile_value = submission_redpill_topic['doc_text'].str.len().quantile(0.95)\n",
    "print(top_quantile_value)\n",
    "\n",
    "bottom_quantile_value = submission_redpill_topic['doc_text'].str.len().quantile(0.05)\n",
    "print(bottom_quantile_value)\n",
    "\n",
    "# Filter the DataFrame to keep only rows with doc_text length below the 95th percentile\n",
    "submission_redpill_topic = submission_redpill_topic[submission_redpill_topic['doc_text'].str.len() <= top_quantile_value]\n",
    "submission_redpill_topic = submission_redpill_topic[submission_redpill_topic['doc_text'].str.len() >= bottom_quantile_value]\n",
    "\n",
    "# drop duplicates in doc_text\n",
    "# submission_redpill_topic = submission_redpill_topic.drop_duplicates(subset=['doc_text'])\n",
    "\n",
    "# remove links from doc_text\n",
    "url_regex_1 = r'http[s]?://(?:[a-zA-Z]|[0-9]|[$-_@.&+]|[!*\\\\(\\\\),]|(?:%[0-9a-fA-F][0-9a-fA-F]))+'\n",
    "url_regex = r'(?:https?://)?(?:www\\.)?[a-zA-Z0-9-]+\\.[a-zA-Z]{2,}(?:/[^/\\s]*)*'\n",
    "submission_redpill_topic['doc_text'] = submission_redpill_topic['doc_text'].replace(url_regex, '', regex=True)\n",
    "\n",
    "\n",
    "print(\"After processing:\")\n",
    "print(submission_redpill_topic.shape)"
   ]
  },
  {
   "cell_type": "markdown",
   "metadata": {},
   "source": [
    "Checking if the url regex worked:"
   ]
  },
  {
   "cell_type": "code",
   "execution_count": 22,
   "metadata": {},
   "outputs": [
    {
     "name": "stdout",
     "output_type": "stream",
     "text": [
      "0 10\n"
     ]
    }
   ],
   "source": [
    "print(\n",
    "    submission_redpill_topic.doc_text.str.contains(url_regex).sum(),\n",
    "    submission_redpill_topic.doc_text.str.contains(\"http\").sum()\n",
    ")"
   ]
  },
  {
   "cell_type": "code",
   "execution_count": 57,
   "metadata": {},
   "outputs": [
    {
     "data": {
      "text/plain": [
       "Text(0.5, 1.0, 'Distribution of doc-text length for submissions')"
      ]
     },
     "execution_count": 57,
     "metadata": {},
     "output_type": "execute_result"
    },
    {
     "data": {
      "image/png": "[encoded data removed]",
      "text/plain": [
       "<Figure size 640x480 with 1 Axes>"
      ]
     },
     "metadata": {},
     "output_type": "display_data"
    }
   ],
   "source": [
    "submission_redpill_topic.doc_text.str.len().hist(\n",
    "    bins=100,\n",
    "    color=\"#d56fa2\",\n",
    ").set_title(\"Distribution of doc-text length for submissions\")"
   ]
  },
  {
   "cell_type": "markdown",
   "metadata": {},
   "source": [
    "Load all titles and bodies as one string in list (one string per post containing title and body)"
   ]
  },
  {
   "cell_type": "code",
   "execution_count": 24,
   "metadata": {},
   "outputs": [],
   "source": [
    "# Load all titles and bodies as one string in list (one string per post containing title and body)\n",
    "topic_ready_docs = submission_redpill_topic['doc_text'].tolist()"
   ]
  },
  {
   "cell_type": "code",
   "execution_count": 25,
   "metadata": {},
   "outputs": [
    {
     "name": "stdout",
     "output_type": "stream",
     "text": [
      "Suggested Reading List? (I'm new to reddit and the Red Pill community so I'm not sure exactly how these things go. I've decided to just jump in. Apologies if I'm overstepping.) I'd love some book recommendations re: Red Pill theory/philosophy as well as the practical aspects of *living* it as a woman; married or otherwise.  As a side but related question: Though I am new to Red Pill itself I was first turned onto the more \"old fashioned\" way of doing things through Fascinating Womanhood and The Surrendered Wife. Any thoughts on how those two books do or don't relate with the philosophy? Thank you! Margery\n"
     ]
    }
   ],
   "source": [
    "print(topic_ready_docs[0])"
   ]
  },
  {
   "cell_type": "markdown",
   "metadata": {},
   "source": [
    "### Modelling"
   ]
  },
  {
   "cell_type": "code",
   "execution_count": 26,
   "metadata": {},
   "outputs": [],
   "source": [
    "representation_model = KeyBERTInspired() \n",
    "topic_model = BERTopic(representation_model=representation_model, nr_topics=20) # nr_topics=\"auto\""
   ]
  },
  {
   "cell_type": "code",
   "execution_count": 27,
   "metadata": {},
   "outputs": [
    {
     "data": {
      "text/plain": [
       "<bertopic._bertopic.BERTopic at 0x2b7c70850>"
      ]
     },
     "execution_count": 27,
     "metadata": {},
     "output_type": "execute_result"
    }
   ],
   "source": [
    "# takes 4.5 min for full\n",
    "topic_model.fit(topic_ready_docs)"
   ]
  },
  {
   "cell_type": "code",
   "execution_count": 28,
   "metadata": {},
   "outputs": [
    {
     "data": {
      "text/html": [
       "<div>\n",
       "<style scoped>\n",
       "    .dataframe tbody tr th:only-of-type {\n",
       "        vertical-align: middle;\n",
       "    }\n",
       "\n",
       "    .dataframe tbody tr th {\n",
       "        vertical-align: top;\n",
       "    }\n",
       "\n",
       "    .dataframe thead th {\n",
       "        text-align: right;\n",
       "    }\n",
       "</style>\n",
       "<table border=\"1\" class=\"dataframe\">\n",
       "  <thead>\n",
       "    <tr style=\"text-align: right;\">\n",
       "      <th></th>\n",
       "      <th>Topic</th>\n",
       "      <th>Count</th>\n",
       "      <th>Name</th>\n",
       "      <th>Representation</th>\n",
       "      <th>Representative_Docs</th>\n",
       "    </tr>\n",
       "  </thead>\n",
       "  <tbody>\n",
       "    <tr>\n",
       "      <th>0</th>\n",
       "      <td>-1</td>\n",
       "      <td>5523</td>\n",
       "      <td>-1_relationship_being_am_get</td>\n",
       "      <td>[relationship, being, am, get, be, love, what,...</td>\n",
       "      <td>[My boyfriend is very beta and I’m starting to...</td>\n",
       "    </tr>\n",
       "    <tr>\n",
       "      <th>1</th>\n",
       "      <td>0</td>\n",
       "      <td>2177</td>\n",
       "      <td>0_relationship_sex_boyfriend_being</td>\n",
       "      <td>[relationship, sex, boyfriend, being, together...</td>\n",
       "      <td>[Mindset is everything: a story about how I’ve...</td>\n",
       "    </tr>\n",
       "    <tr>\n",
       "      <th>2</th>\n",
       "      <td>1</td>\n",
       "      <td>881</td>\n",
       "      <td>1_college_dating_advice_relationship</td>\n",
       "      <td>[college, dating, advice, relationship, be, am...</td>\n",
       "      <td>[Dating is kinda different in my city - need h...</td>\n",
       "    </tr>\n",
       "    <tr>\n",
       "      <th>3</th>\n",
       "      <td>2</td>\n",
       "      <td>572</td>\n",
       "      <td>2_women_rpw_pill_men</td>\n",
       "      <td>[women, rpw, pill, men, woman, sub, her, being...</td>\n",
       "      <td>[The RPW Rules Revisited - Rule Zero In a cont...</td>\n",
       "    </tr>\n",
       "    <tr>\n",
       "      <th>4</th>\n",
       "      <td>3</td>\n",
       "      <td>506</td>\n",
       "      <td>3_feminism_men_women_relationship</td>\n",
       "      <td>[feminism, men, women, relationship, traits, m...</td>\n",
       "      <td>[Buy matching luggage, carry it together Alpha...</td>\n",
       "    </tr>\n",
       "    <tr>\n",
       "      <th>5</th>\n",
       "      <td>4</td>\n",
       "      <td>328</td>\n",
       "      <td>4_fat_healthy_weight_lose</td>\n",
       "      <td>[fat, healthy, weight, lose, makeup, being, th...</td>\n",
       "      <td>[I'm a teen girl who looks very masculine and ...</td>\n",
       "    </tr>\n",
       "    <tr>\n",
       "      <th>6</th>\n",
       "      <td>5</td>\n",
       "      <td>225</td>\n",
       "      <td>5_dinner_recipes_recipe_meal</td>\n",
       "      <td>[dinner, recipes, recipe, meal, meals, cooking...</td>\n",
       "      <td>[What's for dinner? This is an all inclusive m...</td>\n",
       "    </tr>\n",
       "    <tr>\n",
       "      <th>7</th>\n",
       "      <td>6</td>\n",
       "      <td>195</td>\n",
       "      <td>6_self_month_motivated_monthly</td>\n",
       "      <td>[self, month, motivated, monthly, celebrating,...</td>\n",
       "      <td>[Own Your Stuff It's time for confession y'all...</td>\n",
       "    </tr>\n",
       "    <tr>\n",
       "      <th>8</th>\n",
       "      <td>7</td>\n",
       "      <td>187</td>\n",
       "      <td>7_self_care_tending_yourself</td>\n",
       "      <td>[self, care, tending, yourself, responsibiliti...</td>\n",
       "      <td>[Self Care Taking care of your man, home and f...</td>\n",
       "    </tr>\n",
       "    <tr>\n",
       "      <th>9</th>\n",
       "      <td>8</td>\n",
       "      <td>153</td>\n",
       "      <td>8_dress_dresses_fashion_wardrobe</td>\n",
       "      <td>[dress, dresses, fashion, wardrobe, dressing, ...</td>\n",
       "      <td>[Worked on my femininity and I have NEVER felt...</td>\n",
       "    </tr>\n",
       "    <tr>\n",
       "      <th>10</th>\n",
       "      <td>9</td>\n",
       "      <td>110</td>\n",
       "      <td>9_flirt_flirting_shy_dating</td>\n",
       "      <td>[flirt, flirting, shy, dating, conversation, a...</td>\n",
       "      <td>[Men who flirt, how do you act? When in relati...</td>\n",
       "    </tr>\n",
       "    <tr>\n",
       "      <th>11</th>\n",
       "      <td>10</td>\n",
       "      <td>99</td>\n",
       "      <td>10_dating_virginity_sex_relationship</td>\n",
       "      <td>[dating, virginity, sex, relationship, marriag...</td>\n",
       "      <td>[Why is lying about your past frowned upon in ...</td>\n",
       "    </tr>\n",
       "    <tr>\n",
       "      <th>12</th>\n",
       "      <td>11</td>\n",
       "      <td>73</td>\n",
       "      <td>11_hair_haircut_hairstyles_shave</td>\n",
       "      <td>[hair, haircut, hairstyles, shave, shaving, bl...</td>\n",
       "      <td>[Need help with my hair I have long hair dark ...</td>\n",
       "    </tr>\n",
       "    <tr>\n",
       "      <th>13</th>\n",
       "      <td>12</td>\n",
       "      <td>55</td>\n",
       "      <td>12_goals_achieve_month_exercise</td>\n",
       "      <td>[goals, achieve, month, exercise, monthly, goa...</td>\n",
       "      <td>[Monthly Goals Self Improvement can be simple!...</td>\n",
       "    </tr>\n",
       "    <tr>\n",
       "      <th>14</th>\n",
       "      <td>13</td>\n",
       "      <td>52</td>\n",
       "      <td>13_rp_questions_simple_ask</td>\n",
       "      <td>[rp, questions, simple, ask, website, recommen...</td>\n",
       "      <td>[Simple Questions Have a simple question? Ask ...</td>\n",
       "    </tr>\n",
       "    <tr>\n",
       "      <th>15</th>\n",
       "      <td>14</td>\n",
       "      <td>33</td>\n",
       "      <td>14_homemaking_domestic_tips_questions</td>\n",
       "      <td>[homemaking, domestic, tips, questions, tip, o...</td>\n",
       "      <td>[Homemaking: Tips, Tricks &amp;amp; Questions Have...</td>\n",
       "    </tr>\n",
       "    <tr>\n",
       "      <th>16</th>\n",
       "      <td>15</td>\n",
       "      <td>20</td>\n",
       "      <td>15_music_songs_rap_singing</td>\n",
       "      <td>[music, songs, rap, singing, listening, sing, ...</td>\n",
       "      <td>[How to deal with rap music Hi, this is kind o...</td>\n",
       "    </tr>\n",
       "    <tr>\n",
       "      <th>17</th>\n",
       "      <td>16</td>\n",
       "      <td>12</td>\n",
       "      <td>16_flu_quarantine_infection_pandemic</td>\n",
       "      <td>[flu, quarantine, infection, pandemic, covid, ...</td>\n",
       "      <td>[Is one's health the \"universal\" Wall? So whil...</td>\n",
       "    </tr>\n",
       "    <tr>\n",
       "      <th>18</th>\n",
       "      <td>17</td>\n",
       "      <td>11</td>\n",
       "      <td>17_fertility_ovaries_pregnancy_births</td>\n",
       "      <td>[fertility, ovaries, pregnancy, births, pregna...</td>\n",
       "      <td>[Great to see this. Government-sponsored websi...</td>\n",
       "    </tr>\n",
       "    <tr>\n",
       "      <th>19</th>\n",
       "      <td>18</td>\n",
       "      <td>11</td>\n",
       "      <td>18_tarot_tuesday_readings_wednesday</td>\n",
       "      <td>[tarot, tuesday, readings, wednesday, reading,...</td>\n",
       "      <td>[Tarot Tuesday: December Happy Tuesday, ladies...</td>\n",
       "    </tr>\n",
       "  </tbody>\n",
       "</table>\n",
       "</div>"
      ],
      "text/plain": [
       "    Topic  Count                                   Name  \\\n",
       "0      -1   5523           -1_relationship_being_am_get   \n",
       "1       0   2177     0_relationship_sex_boyfriend_being   \n",
       "2       1    881   1_college_dating_advice_relationship   \n",
       "3       2    572                   2_women_rpw_pill_men   \n",
       "4       3    506      3_feminism_men_women_relationship   \n",
       "5       4    328              4_fat_healthy_weight_lose   \n",
       "6       5    225           5_dinner_recipes_recipe_meal   \n",
       "7       6    195         6_self_month_motivated_monthly   \n",
       "8       7    187           7_self_care_tending_yourself   \n",
       "9       8    153       8_dress_dresses_fashion_wardrobe   \n",
       "10      9    110            9_flirt_flirting_shy_dating   \n",
       "11     10     99   10_dating_virginity_sex_relationship   \n",
       "12     11     73       11_hair_haircut_hairstyles_shave   \n",
       "13     12     55        12_goals_achieve_month_exercise   \n",
       "14     13     52             13_rp_questions_simple_ask   \n",
       "15     14     33  14_homemaking_domestic_tips_questions   \n",
       "16     15     20             15_music_songs_rap_singing   \n",
       "17     16     12   16_flu_quarantine_infection_pandemic   \n",
       "18     17     11  17_fertility_ovaries_pregnancy_births   \n",
       "19     18     11    18_tarot_tuesday_readings_wednesday   \n",
       "\n",
       "                                       Representation  \\\n",
       "0   [relationship, being, am, get, be, love, what,...   \n",
       "1   [relationship, sex, boyfriend, being, together...   \n",
       "2   [college, dating, advice, relationship, be, am...   \n",
       "3   [women, rpw, pill, men, woman, sub, her, being...   \n",
       "4   [feminism, men, women, relationship, traits, m...   \n",
       "5   [fat, healthy, weight, lose, makeup, being, th...   \n",
       "6   [dinner, recipes, recipe, meal, meals, cooking...   \n",
       "7   [self, month, motivated, monthly, celebrating,...   \n",
       "8   [self, care, tending, yourself, responsibiliti...   \n",
       "9   [dress, dresses, fashion, wardrobe, dressing, ...   \n",
       "10  [flirt, flirting, shy, dating, conversation, a...   \n",
       "11  [dating, virginity, sex, relationship, marriag...   \n",
       "12  [hair, haircut, hairstyles, shave, shaving, bl...   \n",
       "13  [goals, achieve, month, exercise, monthly, goa...   \n",
       "14  [rp, questions, simple, ask, website, recommen...   \n",
       "15  [homemaking, domestic, tips, questions, tip, o...   \n",
       "16  [music, songs, rap, singing, listening, sing, ...   \n",
       "17  [flu, quarantine, infection, pandemic, covid, ...   \n",
       "18  [fertility, ovaries, pregnancy, births, pregna...   \n",
       "19  [tarot, tuesday, readings, wednesday, reading,...   \n",
       "\n",
       "                                  Representative_Docs  \n",
       "0   [My boyfriend is very beta and I’m starting to...  \n",
       "1   [Mindset is everything: a story about how I’ve...  \n",
       "2   [Dating is kinda different in my city - need h...  \n",
       "3   [The RPW Rules Revisited - Rule Zero In a cont...  \n",
       "4   [Buy matching luggage, carry it together Alpha...  \n",
       "5   [I'm a teen girl who looks very masculine and ...  \n",
       "6   [What's for dinner? This is an all inclusive m...  \n",
       "7   [Own Your Stuff It's time for confession y'all...  \n",
       "8   [Self Care Taking care of your man, home and f...  \n",
       "9   [Worked on my femininity and I have NEVER felt...  \n",
       "10  [Men who flirt, how do you act? When in relati...  \n",
       "11  [Why is lying about your past frowned upon in ...  \n",
       "12  [Need help with my hair I have long hair dark ...  \n",
       "13  [Monthly Goals Self Improvement can be simple!...  \n",
       "14  [Simple Questions Have a simple question? Ask ...  \n",
       "15  [Homemaking: Tips, Tricks &amp; Questions Have...  \n",
       "16  [How to deal with rap music Hi, this is kind o...  \n",
       "17  [Is one's health the \"universal\" Wall? So whil...  \n",
       "18  [Great to see this. Government-sponsored websi...  \n",
       "19  [Tarot Tuesday: December Happy Tuesday, ladies...  "
      ]
     },
     "execution_count": 28,
     "metadata": {},
     "output_type": "execute_result"
    }
   ],
   "source": [
    "topic_model.get_topic_info()    # Get topic words and their probabilities"
   ]
  },
  {
   "cell_type": "code",
   "execution_count": 81,
   "metadata": {},
   "outputs": [
    {
     "name": "stdout",
     "output_type": "stream",
     "text": [
      "Tarot Tuesday: December Happy Tuesday, ladies! (Or Wednesday for the Aussie, Southern Hemisphere Ladies like me) Due to the popularity of the first Tarot post I had, I worked out with the mods to have a Tarot Tuesday held bi-weekly.  **Note:** I apologise for any delay in replies as I have been busy in and out of hospitals as both my family and my SO's family have had emergencies there and I am all over the place until now. Thank you for your patience. So how does it go? &gt;I find that personally the tarot gives a snapshot of situation rather than predicting the future directly and suggests different ways of thinking about or approaching a situation. That's what I believe tarot is about, I also truly enjoy reading for people (if they want) and seeing the tarot give them ideas and fresh perspectives. This is why, after speaking with the mods, I decided to post this and offer just a bit of fun through short, simple (two card or one card) readings to a question **related to your self-improvement or relationship.** Ask away and I'll read for you! :) [This may help if you are unsure how and what to ask. Pro tip: Ask open ended rather than yes/no questions!](  **If you have any more questions or want more elaborate answers and readings, please PM me directly!**\n",
      "Tarot Tuesday: November Happy Tuesday, ladies! (Or Wednesday for the Aussie, Southern Hemisphere Ladies like me) Due to the popularity of the first Tarot post I had, I worked out with the mods to have a Tarot Tuesday held bi-weekly.  So how does it go? &gt;I find that personally the tarot gives a snapshot of situation rather than predicting the future directly and suggests different ways of thinking about or approaching a situation. That's what I believe tarot is about, I also truly enjoy reading for people (if they want) and seeing the tarot give them ideas and fresh perspectives. This is why, after speaking with the mods, I decided to post this and offer just a bit of fun through short, simple (two card or one card) readings to a question **related to your self-improvement or relationship.** Ask away and I'll read for you! :) [This may help if you are unsure how and what to ask](  **If you have any more questions or want more elaborate answers and readings, please PM me directly!**\n",
      "Tarot Tuesday: November Pt. 2 Happy Tuesday, ladies! (Or Wednesday for the Aussie, Southern Hemisphere Ladies like me) Due to the popularity of the first Tarot post I had, I worked out with the mods to have a Tarot Tuesday held bi-weekly.  **Note:** I apologise for having missed the last Tarot post! I have been busy in and out of hospitals as both my family and my SO's family have had emergencies there and I am all over the place until now. Thank you for your patience. So how does it go? &gt;I find that personally the tarot gives a snapshot of situation rather than predicting the future directly and suggests different ways of thinking about or approaching a situation. That's what I believe tarot is about, I also truly enjoy reading for people (if they want) and seeing the tarot give them ideas and fresh perspectives. This is why, after speaking with the mods, I decided to post this and offer just a bit of fun through short, simple (two card or one card) readings to a question **related to your self-improvement or relationship.** Ask away and I'll read for you! :) [This may help if you are unsure how and what to ask](  **If you have any more questions or want more elaborate answers and readings, please PM me directly!**\n"
     ]
    }
   ],
   "source": [
    "for doc in topic_model.get_representative_docs(18):\n",
    "    print(doc)"
   ]
  },
  {
   "cell_type": "code",
   "execution_count": 82,
   "metadata": {},
   "outputs": [],
   "source": [
    "topic_label_map = {\n",
    "    -1: \"Baseline relationship issues\", \n",
    "    0: \"relationship issues: sex\", \n",
    "    1: \"Education and Carreer\",\n",
    "    2: \"RPW: Philispophy and Meta\",\n",
    "    3: \"Gender roles: Alpha/Beta\",\n",
    "    4: \"body image\",\n",
    "    5: \"Recepies (rec.)\",\n",
    "    6: \"personal self improvement (rec.)\",\n",
    "    7: \"self care (rec.)\",\n",
    "    8: \"Fashion \",\n",
    "    9: \"Flirting\",\n",
    "    10: \"sexul experience\",\n",
    "    11: \"hair styles\",\n",
    "    12: \"body self improvement (rec.)\",\n",
    "    13: \"Simple Questions\",\n",
    "    14: \"Homemaking (rec.)\",\n",
    "    15: \"Music\",\n",
    "    16: \"Covid\",\n",
    "    17: \"Fertility\",\n",
    "    18: \"Tarot Tuesday\"\n",
    "}"
   ]
  },
  {
   "cell_type": "code",
   "execution_count": 83,
   "metadata": {},
   "outputs": [],
   "source": [
    "topic_model.set_topic_labels(topic_label_map)"
   ]
  },
  {
   "cell_type": "code",
   "execution_count": 84,
   "metadata": {},
   "outputs": [
    {
     "data": {
      "application/vnd.plotly.v1+json": {
       "config": {
        "plotlyServerURL": "https://plot.ly"
       },
       "data": [
        {
         "marker": {
          "color": "#D55E00"
         },
         "orientation": "h",
         "type": "bar",
         "x": [
          0.17797896265983582,
          0.1936778426170349,
          0.19805803894996643,
          0.21397832036018372,
          0.3078094720840454
         ],
         "xaxis": "x",
         "y": [
          "together  ",
          "being  ",
          "boyfriend  ",
          "sex  ",
          "relationship  "
         ],
         "yaxis": "y"
        },
        {
         "marker": {
          "color": "#0072B2"
         },
         "orientation": "h",
         "type": "bar",
         "x": [
          0.1515776365995407,
          0.17393538355827332,
          0.18589840829372406,
          0.2122732400894165,
          0.2208136022090912
         ],
         "xaxis": "x2",
         "y": [
          "be  ",
          "relationship  ",
          "advice  ",
          "dating  ",
          "college  "
         ],
         "yaxis": "y2"
        },
        {
         "marker": {
          "color": "#CC79A7"
         },
         "orientation": "h",
         "type": "bar",
         "x": [
          0.23509535193443298,
          0.2695975601673126,
          0.287367582321167,
          0.3199250102043152,
          0.3482586145401001
         ],
         "xaxis": "x3",
         "y": [
          "woman  ",
          "men  ",
          "pill  ",
          "rpw  ",
          "women  "
         ],
         "yaxis": "y3"
        },
        {
         "marker": {
          "color": "#E69F00"
         },
         "orientation": "h",
         "type": "bar",
         "x": [
          0.2964097261428833,
          0.3072786331176758,
          0.3189733624458313,
          0.33495861291885376,
          0.4252133071422577
         ],
         "xaxis": "x4",
         "y": [
          "traits  ",
          "relationship  ",
          "women  ",
          "men  ",
          "feminism  "
         ],
         "yaxis": "y4"
        },
        {
         "marker": {
          "color": "#56B4E9"
         },
         "orientation": "h",
         "type": "bar",
         "x": [
          0.13363821804523468,
          0.1655944585800171,
          0.177311971783638,
          0.20066942274570465,
          0.2562090754508972
         ],
         "xaxis": "x5",
         "y": [
          "makeup  ",
          "lose  ",
          "weight  ",
          "healthy  ",
          "fat  "
         ],
         "yaxis": "y5"
        },
        {
         "marker": {
          "color": "#009E73"
         },
         "orientation": "h",
         "type": "bar",
         "x": [
          0.48892396688461304,
          0.5141279697418213,
          0.5235947966575623,
          0.526467502117157,
          0.5471334457397461
         ],
         "xaxis": "x6",
         "y": [
          "meals  ",
          "meal  ",
          "recipe  ",
          "recipes  ",
          "dinner  "
         ],
         "yaxis": "y6"
        },
        {
         "marker": {
          "color": "#F0E442"
         },
         "orientation": "h",
         "type": "bar",
         "x": [
          0.3124268651008606,
          0.3133029341697693,
          0.3254700005054474,
          0.3484913408756256,
          0.3489941954612732
         ],
         "xaxis": "x7",
         "y": [
          "celebrating  ",
          "monthly  ",
          "motivated  ",
          "month  ",
          "self  "
         ],
         "yaxis": "y7"
        },
        {
         "marker": {
          "color": "#D55E00"
         },
         "orientation": "h",
         "type": "bar",
         "x": [
          0.20870304107666016,
          0.22989748418331146,
          0.2640208899974823,
          0.265614777803421,
          0.31611132621765137
         ],
         "xaxis": "x8",
         "y": [
          "responsibilities  ",
          "yourself  ",
          "tending  ",
          "care  ",
          "self  "
         ],
         "yaxis": "y8"
        }
       ],
       "layout": {
        "annotations": [
         {
          "font": {
           "size": 16
          },
          "showarrow": false,
          "text": "Topic 0",
          "x": 0.0875,
          "xanchor": "center",
          "xref": "paper",
          "y": 1,
          "yanchor": "bottom",
          "yref": "paper"
         },
         {
          "font": {
           "size": 16
          },
          "showarrow": false,
          "text": "Topic 1",
          "x": 0.36250000000000004,
          "xanchor": "center",
          "xref": "paper",
          "y": 1,
          "yanchor": "bottom",
          "yref": "paper"
         },
         {
          "font": {
           "size": 16
          },
          "showarrow": false,
          "text": "Topic 2",
          "x": 0.6375000000000001,
          "xanchor": "center",
          "xref": "paper",
          "y": 1,
          "yanchor": "bottom",
          "yref": "paper"
         },
         {
          "font": {
           "size": 16
          },
          "showarrow": false,
          "text": "Topic 3",
          "x": 0.9125,
          "xanchor": "center",
          "xref": "paper",
          "y": 1,
          "yanchor": "bottom",
          "yref": "paper"
         },
         {
          "font": {
           "size": 16
          },
          "showarrow": false,
          "text": "Topic 4",
          "x": 0.0875,
          "xanchor": "center",
          "xref": "paper",
          "y": 0.4,
          "yanchor": "bottom",
          "yref": "paper"
         },
         {
          "font": {
           "size": 16
          },
          "showarrow": false,
          "text": "Topic 5",
          "x": 0.36250000000000004,
          "xanchor": "center",
          "xref": "paper",
          "y": 0.4,
          "yanchor": "bottom",
          "yref": "paper"
         },
         {
          "font": {
           "size": 16
          },
          "showarrow": false,
          "text": "Topic 6",
          "x": 0.6375000000000001,
          "xanchor": "center",
          "xref": "paper",
          "y": 0.4,
          "yanchor": "bottom",
          "yref": "paper"
         },
         {
          "font": {
           "size": 16
          },
          "showarrow": false,
          "text": "Topic 7",
          "x": 0.9125,
          "xanchor": "center",
          "xref": "paper",
          "y": 0.4,
          "yanchor": "bottom",
          "yref": "paper"
         }
        ],
        "height": 500,
        "hoverlabel": {
         "bgcolor": "white",
         "font": {
          "family": "Rockwell",
          "size": 16
         }
        },
        "showlegend": false,
        "template": {
         "data": {
          "bar": [
           {
            "error_x": {
             "color": "#2a3f5f"
            },
            "error_y": {
             "color": "#2a3f5f"
            },
            "marker": {
             "line": {
              "color": "white",
              "width": 0.5
             },
             "pattern": {
              "fillmode": "overlay",
              "size": 10,
              "solidity": 0.2
             }
            },
            "type": "bar"
           }
          ],
          "barpolar": [
           {
            "marker": {
             "line": {
              "color": "white",
              "width": 0.5
             },
             "pattern": {
              "fillmode": "overlay",
              "size": 10,
              "solidity": 0.2
             }
            },
            "type": "barpolar"
           }
          ],
          "carpet": [
           {
            "aaxis": {
             "endlinecolor": "#2a3f5f",
             "gridcolor": "#C8D4E3",
             "linecolor": "#C8D4E3",
             "minorgridcolor": "#C8D4E3",
             "startlinecolor": "#2a3f5f"
            },
            "baxis": {
             "endlinecolor": "#2a3f5f",
             "gridcolor": "#C8D4E3",
             "linecolor": "#C8D4E3",
             "minorgridcolor": "#C8D4E3",
             "startlinecolor": "#2a3f5f"
            },
            "type": "carpet"
           }
          ],
          "choropleth": [
           {
            "colorbar": {
             "outlinewidth": 0,
             "ticks": ""
            },
            "type": "choropleth"
           }
          ],
          "contour": [
           {
            "colorbar": {
             "outlinewidth": 0,
             "ticks": ""
            },
            "colorscale": [
             [
              0,
              "#0d0887"
             ],
             [
              0.1111111111111111,
              "#46039f"
             ],
             [
              0.2222222222222222,
              "#7201a8"
             ],
             [
              0.3333333333333333,
              "#9c179e"
             ],
             [
              0.4444444444444444,
              "#bd3786"
             ],
             [
              0.5555555555555556,
              "#d8576b"
             ],
             [
              0.6666666666666666,
              "#ed7953"
             ],
             [
              0.7777777777777778,
              "#fb9f3a"
             ],
             [
              0.8888888888888888,
              "#fdca26"
             ],
             [
              1,
              "#f0f921"
             ]
            ],
            "type": "contour"
           }
          ],
          "contourcarpet": [
           {
            "colorbar": {
             "outlinewidth": 0,
             "ticks": ""
            },
            "type": "contourcarpet"
           }
          ],
          "heatmap": [
           {
            "colorbar": {
             "outlinewidth": 0,
             "ticks": ""
            },
            "colorscale": [
             [
              0,
              "#0d0887"
             ],
             [
              0.1111111111111111,
              "#46039f"
             ],
             [
              0.2222222222222222,
              "#7201a8"
             ],
             [
              0.3333333333333333,
              "#9c179e"
             ],
             [
              0.4444444444444444,
              "#bd3786"
             ],
             [
              0.5555555555555556,
              "#d8576b"
             ],
             [
              0.6666666666666666,
              "#ed7953"
             ],
             [
              0.7777777777777778,
              "#fb9f3a"
             ],
             [
              0.8888888888888888,
              "#fdca26"
             ],
             [
              1,
              "#f0f921"
             ]
            ],
            "type": "heatmap"
           }
          ],
          "heatmapgl": [
           {
            "colorbar": {
             "outlinewidth": 0,
             "ticks": ""
            },
            "colorscale": [
             [
              0,
              "#0d0887"
             ],
             [
              0.1111111111111111,
              "#46039f"
             ],
             [
              0.2222222222222222,
              "#7201a8"
             ],
             [
              0.3333333333333333,
              "#9c179e"
             ],
             [
              0.4444444444444444,
              "#bd3786"
             ],
             [
              0.5555555555555556,
              "#d8576b"
             ],
             [
              0.6666666666666666,
              "#ed7953"
             ],
             [
              0.7777777777777778,
              "#fb9f3a"
             ],
             [
              0.8888888888888888,
              "#fdca26"
             ],
             [
              1,
              "#f0f921"
             ]
            ],
            "type": "heatmapgl"
           }
          ],
          "histogram": [
           {
            "marker": {
             "pattern": {
              "fillmode": "overlay",
              "size": 10,
              "solidity": 0.2
             }
            },
            "type": "histogram"
           }
          ],
          "histogram2d": [
           {
            "colorbar": {
             "outlinewidth": 0,
             "ticks": ""
            },
            "colorscale": [
             [
              0,
              "#0d0887"
             ],
             [
              0.1111111111111111,
              "#46039f"
             ],
             [
              0.2222222222222222,
              "#7201a8"
             ],
             [
              0.3333333333333333,
              "#9c179e"
             ],
             [
              0.4444444444444444,
              "#bd3786"
             ],
             [
              0.5555555555555556,
              "#d8576b"
             ],
             [
              0.6666666666666666,
              "#ed7953"
             ],
             [
              0.7777777777777778,
              "#fb9f3a"
             ],
             [
              0.8888888888888888,
              "#fdca26"
             ],
             [
              1,
              "#f0f921"
             ]
            ],
            "type": "histogram2d"
           }
          ],
          "histogram2dcontour": [
           {
            "colorbar": {
             "outlinewidth": 0,
             "ticks": ""
            },
            "colorscale": [
             [
              0,
              "#0d0887"
             ],
             [
              0.1111111111111111,
              "#46039f"
             ],
             [
              0.2222222222222222,
              "#7201a8"
             ],
             [
              0.3333333333333333,
              "#9c179e"
             ],
             [
              0.4444444444444444,
              "#bd3786"
             ],
             [
              0.5555555555555556,
              "#d8576b"
             ],
             [
              0.6666666666666666,
              "#ed7953"
             ],
             [
              0.7777777777777778,
              "#fb9f3a"
             ],
             [
              0.8888888888888888,
              "#fdca26"
             ],
             [
              1,
              "#f0f921"
             ]
            ],
            "type": "histogram2dcontour"
           }
          ],
          "mesh3d": [
           {
            "colorbar": {
             "outlinewidth": 0,
             "ticks": ""
            },
            "type": "mesh3d"
           }
          ],
          "parcoords": [
           {
            "line": {
             "colorbar": {
              "outlinewidth": 0,
              "ticks": ""
             }
            },
            "type": "parcoords"
           }
          ],
          "pie": [
           {
            "automargin": true,
            "type": "pie"
           }
          ],
          "scatter": [
           {
            "fillpattern": {
             "fillmode": "overlay",
             "size": 10,
             "solidity": 0.2
            },
            "type": "scatter"
           }
          ],
          "scatter3d": [
           {
            "line": {
             "colorbar": {
              "outlinewidth": 0,
              "ticks": ""
             }
            },
            "marker": {
             "colorbar": {
              "outlinewidth": 0,
              "ticks": ""
             }
            },
            "type": "scatter3d"
           }
          ],
          "scattercarpet": [
           {
            "marker": {
             "colorbar": {
              "outlinewidth": 0,
              "ticks": ""
             }
            },
            "type": "scattercarpet"
           }
          ],
          "scattergeo": [
           {
            "marker": {
             "colorbar": {
              "outlinewidth": 0,
              "ticks": ""
             }
            },
            "type": "scattergeo"
           }
          ],
          "scattergl": [
           {
            "marker": {
             "colorbar": {
              "outlinewidth": 0,
              "ticks": ""
             }
            },
            "type": "scattergl"
           }
          ],
          "scattermapbox": [
           {
            "marker": {
             "colorbar": {
              "outlinewidth": 0,
              "ticks": ""
             }
            },
            "type": "scattermapbox"
           }
          ],
          "scatterpolar": [
           {
            "marker": {
             "colorbar": {
              "outlinewidth": 0,
              "ticks": ""
             }
            },
            "type": "scatterpolar"
           }
          ],
          "scatterpolargl": [
           {
            "marker": {
             "colorbar": {
              "outlinewidth": 0,
              "ticks": ""
             }
            },
            "type": "scatterpolargl"
           }
          ],
          "scatterternary": [
           {
            "marker": {
             "colorbar": {
              "outlinewidth": 0,
              "ticks": ""
             }
            },
            "type": "scatterternary"
           }
          ],
          "surface": [
           {
            "colorbar": {
             "outlinewidth": 0,
             "ticks": ""
            },
            "colorscale": [
             [
              0,
              "#0d0887"
             ],
             [
              0.1111111111111111,
              "#46039f"
             ],
             [
              0.2222222222222222,
              "#7201a8"
             ],
             [
              0.3333333333333333,
              "#9c179e"
             ],
             [
              0.4444444444444444,
              "#bd3786"
             ],
             [
              0.5555555555555556,
              "#d8576b"
             ],
             [
              0.6666666666666666,
              "#ed7953"
             ],
             [
              0.7777777777777778,
              "#fb9f3a"
             ],
             [
              0.8888888888888888,
              "#fdca26"
             ],
             [
              1,
              "#f0f921"
             ]
            ],
            "type": "surface"
           }
          ],
          "table": [
           {
            "cells": {
             "fill": {
              "color": "#EBF0F8"
             },
             "line": {
              "color": "white"
             }
            },
            "header": {
             "fill": {
              "color": "#C8D4E3"
             },
             "line": {
              "color": "white"
             }
            },
            "type": "table"
           }
          ]
         },
         "layout": {
          "annotationdefaults": {
           "arrowcolor": "#2a3f5f",
           "arrowhead": 0,
           "arrowwidth": 1
          },
          "autotypenumbers": "strict",
          "coloraxis": {
           "colorbar": {
            "outlinewidth": 0,
            "ticks": ""
           }
          },
          "colorscale": {
           "diverging": [
            [
             0,
             "#8e0152"
            ],
            [
             0.1,
             "#c51b7d"
            ],
            [
             0.2,
             "#de77ae"
            ],
            [
             0.3,
             "#f1b6da"
            ],
            [
             0.4,
             "#fde0ef"
            ],
            [
             0.5,
             "#f7f7f7"
            ],
            [
             0.6,
             "#e6f5d0"
            ],
            [
             0.7,
             "#b8e186"
            ],
            [
             0.8,
             "#7fbc41"
            ],
            [
             0.9,
             "#4d9221"
            ],
            [
             1,
             "#276419"
            ]
           ],
           "sequential": [
            [
             0,
             "#0d0887"
            ],
            [
             0.1111111111111111,
             "#46039f"
            ],
            [
             0.2222222222222222,
             "#7201a8"
            ],
            [
             0.3333333333333333,
             "#9c179e"
            ],
            [
             0.4444444444444444,
             "#bd3786"
            ],
            [
             0.5555555555555556,
             "#d8576b"
            ],
            [
             0.6666666666666666,
             "#ed7953"
            ],
            [
             0.7777777777777778,
             "#fb9f3a"
            ],
            [
             0.8888888888888888,
             "#fdca26"
            ],
            [
             1,
             "#f0f921"
            ]
           ],
           "sequentialminus": [
            [
             0,
             "#0d0887"
            ],
            [
             0.1111111111111111,
             "#46039f"
            ],
            [
             0.2222222222222222,
             "#7201a8"
            ],
            [
             0.3333333333333333,
             "#9c179e"
            ],
            [
             0.4444444444444444,
             "#bd3786"
            ],
            [
             0.5555555555555556,
             "#d8576b"
            ],
            [
             0.6666666666666666,
             "#ed7953"
            ],
            [
             0.7777777777777778,
             "#fb9f3a"
            ],
            [
             0.8888888888888888,
             "#fdca26"
            ],
            [
             1,
             "#f0f921"
            ]
           ]
          },
          "colorway": [
           "#636efa",
           "#EF553B",
           "#00cc96",
           "#ab63fa",
           "#FFA15A",
           "#19d3f3",
           "#FF6692",
           "#B6E880",
           "#FF97FF",
           "#FECB52"
          ],
          "font": {
           "color": "#2a3f5f"
          },
          "geo": {
           "bgcolor": "white",
           "lakecolor": "white",
           "landcolor": "white",
           "showlakes": true,
           "showland": true,
           "subunitcolor": "#C8D4E3"
          },
          "hoverlabel": {
           "align": "left"
          },
          "hovermode": "closest",
          "mapbox": {
           "style": "light"
          },
          "paper_bgcolor": "white",
          "plot_bgcolor": "white",
          "polar": {
           "angularaxis": {
            "gridcolor": "#EBF0F8",
            "linecolor": "#EBF0F8",
            "ticks": ""
           },
           "bgcolor": "white",
           "radialaxis": {
            "gridcolor": "#EBF0F8",
            "linecolor": "#EBF0F8",
            "ticks": ""
           }
          },
          "scene": {
           "xaxis": {
            "backgroundcolor": "white",
            "gridcolor": "#DFE8F3",
            "gridwidth": 2,
            "linecolor": "#EBF0F8",
            "showbackground": true,
            "ticks": "",
            "zerolinecolor": "#EBF0F8"
           },
           "yaxis": {
            "backgroundcolor": "white",
            "gridcolor": "#DFE8F3",
            "gridwidth": 2,
            "linecolor": "#EBF0F8",
            "showbackground": true,
            "ticks": "",
            "zerolinecolor": "#EBF0F8"
           },
           "zaxis": {
            "backgroundcolor": "white",
            "gridcolor": "#DFE8F3",
            "gridwidth": 2,
            "linecolor": "#EBF0F8",
            "showbackground": true,
            "ticks": "",
            "zerolinecolor": "#EBF0F8"
           }
          },
          "shapedefaults": {
           "line": {
            "color": "#2a3f5f"
           }
          },
          "ternary": {
           "aaxis": {
            "gridcolor": "#DFE8F3",
            "linecolor": "#A2B1C6",
            "ticks": ""
           },
           "baxis": {
            "gridcolor": "#DFE8F3",
            "linecolor": "#A2B1C6",
            "ticks": ""
           },
           "bgcolor": "white",
           "caxis": {
            "gridcolor": "#DFE8F3",
            "linecolor": "#A2B1C6",
            "ticks": ""
           }
          },
          "title": {
           "x": 0.05
          },
          "xaxis": {
           "automargin": true,
           "gridcolor": "#EBF0F8",
           "linecolor": "#EBF0F8",
           "ticks": "",
           "title": {
            "standoff": 15
           },
           "zerolinecolor": "#EBF0F8",
           "zerolinewidth": 2
          },
          "yaxis": {
           "automargin": true,
           "gridcolor": "#EBF0F8",
           "linecolor": "#EBF0F8",
           "ticks": "",
           "title": {
            "standoff": 15
           },
           "zerolinecolor": "#EBF0F8",
           "zerolinewidth": 2
          }
         }
        },
        "title": {
         "font": {
          "color": "Black",
          "size": 22
         },
         "text": "Topic Word Scores",
         "x": 0.5,
         "xanchor": "center",
         "yanchor": "top"
        },
        "width": 1000,
        "xaxis": {
         "anchor": "y",
         "domain": [
          0,
          0.175
         ],
         "showgrid": true
        },
        "xaxis2": {
         "anchor": "y2",
         "domain": [
          0.275,
          0.45
         ],
         "showgrid": true
        },
        "xaxis3": {
         "anchor": "y3",
         "domain": [
          0.55,
          0.7250000000000001
         ],
         "showgrid": true
        },
        "xaxis4": {
         "anchor": "y4",
         "domain": [
          0.825,
          1
         ],
         "showgrid": true
        },
        "xaxis5": {
         "anchor": "y5",
         "domain": [
          0,
          0.175
         ],
         "showgrid": true
        },
        "xaxis6": {
         "anchor": "y6",
         "domain": [
          0.275,
          0.45
         ],
         "showgrid": true
        },
        "xaxis7": {
         "anchor": "y7",
         "domain": [
          0.55,
          0.7250000000000001
         ],
         "showgrid": true
        },
        "xaxis8": {
         "anchor": "y8",
         "domain": [
          0.825,
          1
         ],
         "showgrid": true
        },
        "yaxis": {
         "anchor": "x",
         "domain": [
          0.6000000000000001,
          1
         ],
         "showgrid": true
        },
        "yaxis2": {
         "anchor": "x2",
         "domain": [
          0.6000000000000001,
          1
         ],
         "showgrid": true
        },
        "yaxis3": {
         "anchor": "x3",
         "domain": [
          0.6000000000000001,
          1
         ],
         "showgrid": true
        },
        "yaxis4": {
         "anchor": "x4",
         "domain": [
          0.6000000000000001,
          1
         ],
         "showgrid": true
        },
        "yaxis5": {
         "anchor": "x5",
         "domain": [
          0,
          0.4
         ],
         "showgrid": true
        },
        "yaxis6": {
         "anchor": "x6",
         "domain": [
          0,
          0.4
         ],
         "showgrid": true
        },
        "yaxis7": {
         "anchor": "x7",
         "domain": [
          0,
          0.4
         ],
         "showgrid": true
        },
        "yaxis8": {
         "anchor": "x8",
         "domain": [
          0,
          0.4
         ],
         "showgrid": true
        }
       }
      }
     },
     "metadata": {},
     "output_type": "display_data"
    }
   ],
   "source": [
    "topic_model.visualize_barchart()"
   ]
  },
  {
   "cell_type": "code",
   "execution_count": 31,
   "metadata": {},
   "outputs": [],
   "source": [
    "# submission_redpill_topic[\"date\"].to_list()\n",
    "topics_over_time_yearly = topic_model.topics_over_time(topic_ready_docs, submission_redpill_topic[\"year\"].to_list())"
   ]
  },
  {
   "cell_type": "code",
   "execution_count": 32,
   "metadata": {},
   "outputs": [],
   "source": [
    "topics_over_time_monthly = topic_model.topics_over_time(topic_ready_docs, submission_redpill_topic[\"month_year\"].to_list())"
   ]
  },
  {
   "cell_type": "code",
   "execution_count": 89,
   "metadata": {},
   "outputs": [
    {
     "data": {
      "application/vnd.plotly.v1+json": {
       "config": {
        "plotlyServerURL": "https://plot.ly"
       },
       "data": [
        {
         "hoverinfo": "text",
         "hovertext": [
          "<b>Topic -1</b><br>Words: relationship, being, sex, husband, men",
          "<b>Topic -1</b><br>Words: relationship, husband, love, get, being",
          "<b>Topic -1</b><br>Words: relationship, being, be, get, am",
          "<b>Topic -1</b><br>Words: relationship, being, love, am, what",
          "<b>Topic -1</b><br>Words: relationship, being, get, love, am",
          "<b>Topic -1</b><br>Words: relationship, being, love, am, been",
          "<b>Topic -1</b><br>Words: relationship, being, husband, am, feel",
          "<b>Topic -1</b><br>Words: relationship, love, being, am, get",
          "<b>Topic -1</b><br>Words: relationship, being, husband, sex, be",
          "<b>Topic -1</b><br>Words: relationship, husband, love, am, being"
         ],
         "marker": {
          "color": "#E69F00"
         },
         "mode": "lines",
         "name": "-1_relationship_being_am_get",
         "type": "scatter",
         "x": [
          2013,
          2014,
          2015,
          2016,
          2017,
          2018,
          2019,
          2020,
          2021,
          2022
         ],
         "y": [
          246,
          898,
          571,
          496,
          674,
          622,
          603,
          513,
          388,
          512
         ]
        },
        {
         "hoverinfo": "text",
         "hovertext": [
          "<b>Topic 0</b><br>Words: relationship, sex, love, if, guy",
          "<b>Topic 0</b><br>Words: relationship, sex, together, husband, love",
          "<b>Topic 0</b><br>Words: relationship, boyfriend, advice, together, love",
          "<b>Topic 0</b><br>Words: relationship, advice, love, boyfriend, sex",
          "<b>Topic 0</b><br>Words: relationship, being, boyfriend, sex, together",
          "<b>Topic 0</b><br>Words: relationship, love, advice, boyfriend, together",
          "<b>Topic 0</b><br>Words: relationship, sex, boyfriend, being, love",
          "<b>Topic 0</b><br>Words: relationship, boyfriend, am, being, love",
          "<b>Topic 0</b><br>Words: relationship, advice, boyfriend, being, him",
          "<b>Topic 0</b><br>Words: relationship, sex, boyfriend, being, am"
         ],
         "marker": {
          "color": "#56B4E9"
         },
         "mode": "lines",
         "name": "0_relationship_sex_boyfriend_being",
         "type": "scatter",
         "x": [
          2013,
          2014,
          2015,
          2016,
          2017,
          2018,
          2019,
          2020,
          2021,
          2022
         ],
         "y": [
          51,
          240,
          219,
          182,
          296,
          297,
          268,
          223,
          170,
          231
         ]
        },
        {
         "hoverinfo": "text",
         "hovertext": [
          "<b>Topic 1</b><br>Words: maturity, mature, dating, being, women",
          "<b>Topic 1</b><br>Words: college, relationship, being, dating, am",
          "<b>Topic 1</b><br>Words: dating, be, being, am, go",
          "<b>Topic 1</b><br>Words: dating, feminine, advice, relationship, college",
          "<b>Topic 1</b><br>Words: dating, advice, am, be, feminine",
          "<b>Topic 1</b><br>Words: advice, relationship, dating, be, being",
          "<b>Topic 1</b><br>Words: dating, relationship, advice, being, am",
          "<b>Topic 1</b><br>Words: feminine, being, dating, am, your",
          "<b>Topic 1</b><br>Words: dating, meet, being, feminine, be",
          "<b>Topic 1</b><br>Words: dating, advice, being, relationship, am"
         ],
         "marker": {
          "color": "#009E73"
         },
         "mode": "lines",
         "name": "1_college_dating_advice_relationship",
         "type": "scatter",
         "x": [
          2013,
          2014,
          2015,
          2016,
          2017,
          2018,
          2019,
          2020,
          2021,
          2022
         ],
         "y": [
          22,
          94,
          60,
          75,
          112,
          114,
          126,
          116,
          74,
          88
         ]
        },
        {
         "hoverinfo": "text",
         "hovertext": [
          "<b>Topic 2</b><br>Words: pill, women, relationships, philosophy, society",
          "<b>Topic 2</b><br>Words: women, ladies, men, pill, rpw",
          "<b>Topic 2</b><br>Words: pill, rpw, women, ladies, red",
          "<b>Topic 2</b><br>Words: rpw, women, relationship, pill, sub",
          "<b>Topic 2</b><br>Words: pill, women, men, rpw, reddit",
          "<b>Topic 2</b><br>Words: rpw, sub, reddit, red, members",
          "<b>Topic 2</b><br>Words: redpill, pill, rpw, red, reddit",
          "<b>Topic 2</b><br>Words: pill, rpw, red, mens, read",
          "<b>Topic 2</b><br>Words: womanhood, women, rpw, woman, marriage",
          "<b>Topic 2</b><br>Words: ladies, marriage, mens, women, femininity"
         ],
         "marker": {
          "color": "#F0E442"
         },
         "mode": "lines",
         "name": "2_women_rpw_pill_men",
         "type": "scatter",
         "x": [
          2013,
          2014,
          2015,
          2016,
          2017,
          2018,
          2019,
          2020,
          2021,
          2022
         ],
         "y": [
          60,
          105,
          51,
          65,
          57,
          52,
          48,
          48,
          54,
          32
         ]
        },
        {
         "hoverinfo": "text",
         "hovertext": [
          "<b>Topic 3</b><br>Words: feminism, submissive, women, alpha, traits",
          "<b>Topic 3</b><br>Words: feminism, feminist, feminists, women, female",
          "<b>Topic 3</b><br>Words: feminism, women, marriage, feminine, husband",
          "<b>Topic 3</b><br>Words: relationship, traits, women, female, men",
          "<b>Topic 3</b><br>Words: feminism, women, woman, husband, marriage",
          "<b>Topic 3</b><br>Words: submissive, sexual, male, men, relationship",
          "<b>Topic 3</b><br>Words: femininity, feminism, women, masculine, woman",
          "<b>Topic 3</b><br>Words: ladies, submissive, women, men, relationship",
          "<b>Topic 3</b><br>Words: submissive, femininity, women, woman, relationship",
          "<b>Topic 3</b><br>Words: relationship, women, men, woman, male"
         ],
         "marker": {
          "color": "#D55E00"
         },
         "mode": "lines",
         "name": "3_feminism_men_women_relationship",
         "type": "scatter",
         "x": [
          2013,
          2014,
          2015,
          2016,
          2017,
          2018,
          2019,
          2020,
          2021,
          2022
         ],
         "y": [
          60,
          138,
          48,
          49,
          59,
          53,
          29,
          26,
          21,
          23
         ]
        },
        {
         "hoverinfo": "text",
         "hovertext": [
          "<b>Topic 4</b><br>Words: curvy, thin, fat, diet, weight",
          "<b>Topic 4</b><br>Words: fat, weight, healthy, weights, lose",
          "<b>Topic 4</b><br>Words: routine, gym, makeup, fat, healthy",
          "<b>Topic 4</b><br>Words: fat, weight, healthy, lose, body",
          "<b>Topic 4</b><br>Words: makeup, fat, skin, beauty, weight",
          "<b>Topic 4</b><br>Words: fat, eat, weight, lose, makeup",
          "<b>Topic 4</b><br>Words: diet, makeup, fat, healthy, skin",
          "<b>Topic 4</b><br>Words: fat, weight, makeup, look, skin",
          "<b>Topic 4</b><br>Words: diet, makeup, healthy, exercise, beauty",
          "<b>Topic 4</b><br>Words: attractive, fat, diet, makeup, face"
         ],
         "marker": {
          "color": "#0072B2"
         },
         "mode": "lines",
         "name": "4_fat_healthy_weight_lose",
         "type": "scatter",
         "x": [
          2013,
          2014,
          2015,
          2016,
          2017,
          2018,
          2019,
          2020,
          2021,
          2022
         ],
         "y": [
          13,
          48,
          29,
          29,
          35,
          42,
          39,
          49,
          24,
          20
         ]
        },
        {
         "hoverinfo": "text",
         "hovertext": [
          "<b>Topic 5</b><br>Words: recipe, recipes, cooking, cook, meals",
          "<b>Topic 5</b><br>Words: cooking, recipes, meals, cook, meal",
          "<b>Topic 5</b><br>Words: meals, recipes, meal, recipe, cooking",
          "<b>Topic 5</b><br>Words: meal, meals, recipe, recipes, lunch",
          "<b>Topic 5</b><br>Words: recipes, meals, dinner, recipe, meal",
          "<b>Topic 5</b><br>Words: recipe, recipes, cooking, cook, meals",
          "<b>Topic 5</b><br>Words: recipes, meals, recipe, meal, dinner",
          "<b>Topic 5</b><br>Words: meal, dinner, cooking, recipes, recipe",
          "<b>Topic 5</b><br>Words: recipes, recipe, cooking, meal, cook",
          "<b>Topic 5</b><br>Words: cooking, recipes, cook, dinner, recipe"
         ],
         "marker": {
          "color": "#CC79A7"
         },
         "mode": "lines",
         "name": "5_dinner_recipes_recipe_meal",
         "type": "scatter",
         "x": [
          2013,
          2014,
          2015,
          2016,
          2017,
          2018,
          2019,
          2020,
          2021,
          2022
         ],
         "y": [
          10,
          34,
          30,
          29,
          15,
          21,
          31,
          27,
          9,
          19
         ]
        },
        {
         "hoverinfo": "text",
         "hovertext": [
          "<b>Topic 6</b><br>Words: christmashow, merry, celebrate, celebrating, alpha",
          "<b>Topic 6</b><br>Words: motivated, motivation, week, weekly, goals",
          "<b>Topic 6</b><br>Words: gratitude, thankful, thanksgiving, week, celebrate",
          "<b>Topic 6</b><br>Words: weekly, gratitude, week, happy, reflect",
          "<b>Topic 6</b><br>Words: gratitude, motivated, celebrate, appreciation, self",
          "<b>Topic 6</b><br>Words: gratitude, celebrating, thankful, celebrate, praise",
          "<b>Topic 6</b><br>Words: gratitude, celebrating, celebrate, thankful, self",
          "<b>Topic 6</b><br>Words: celebrating, celebrate, gratitude, goals, thankful",
          "<b>Topic 6</b><br>Words: gratitude, thankful, celebrating, celebrate, happy",
          "<b>Topic 6</b><br>Words: gratitude, thankful, celebrating, celebrate, praise"
         ],
         "marker": {
          "color": "#E69F00"
         },
         "mode": "lines",
         "name": "6_self_month_motivated_monthly",
         "type": "scatter",
         "x": [
          2013,
          2014,
          2015,
          2016,
          2017,
          2018,
          2019,
          2020,
          2021,
          2022
         ],
         "y": [
          1,
          34,
          25,
          21,
          15,
          24,
          36,
          29,
          6,
          4
         ]
        },
        {
         "hoverinfo": "text",
         "hovertext": [
          "<b>Topic 7</b><br>Words: housekeeping, household, housewife, cleaning, house",
          "<b>Topic 7</b><br>Words: sahm, sahms, housewife, house, home",
          "<b>Topic 7</b><br>Words: chores, schedules, home, routine, cleaning",
          "<b>Topic 7</b><br>Words: selfcare, housewife, cleaning, self, wives",
          "<b>Topic 7</b><br>Words: home, house, family, being, career",
          "<b>Topic 7</b><br>Words: cleaning, house, home, tidy, responsibilities",
          "<b>Topic 7</b><br>Words: home, tending, house, self, routine",
          "<b>Topic 7</b><br>Words: tending, home, house, responsibilities, cleaning",
          "<b>Topic 7</b><br>Words: homemaking, home, cleaning, sahm, responsibilities",
          "<b>Topic 7</b><br>Words: cleaning, house, nanny, home, clean"
         ],
         "marker": {
          "color": "#56B4E9"
         },
         "mode": "lines",
         "name": "7_self_care_tending_yourself",
         "type": "scatter",
         "x": [
          2013,
          2014,
          2015,
          2016,
          2017,
          2018,
          2019,
          2020,
          2021,
          2022
         ],
         "y": [
          3,
          25,
          10,
          9,
          17,
          19,
          35,
          22,
          23,
          24
         ]
        },
        {
         "hoverinfo": "text",
         "hovertext": [
          "<b>Topic 8</b><br>Words: slutty, sluttysexy, slut, dress, skirts",
          "<b>Topic 8</b><br>Words: dressed, dressesskirts, dress, dresses, wardrobe",
          "<b>Topic 8</b><br>Words: dress, dresses, lingerie, dressing, wardrobe",
          "<b>Topic 8</b><br>Words: dress, dresses, wear, dressing, fashion",
          "<b>Topic 8</b><br>Words: dress, dresses, dressing, fashion, skirts",
          "<b>Topic 8</b><br>Words: dress, dresses, wardrobe, clothing, clothes",
          "<b>Topic 8</b><br>Words: dress, dresses, wardrobe, dressing, wear",
          "<b>Topic 8</b><br>Words: dress, dresses, wardrobe, skirts, wear",
          "<b>Topic 8</b><br>Words: dresses, dress, outfits, wardrobe, skirts",
          "<b>Topic 8</b><br>Words: lingerie, dresses, wardrobe, apparel, outfits"
         ],
         "marker": {
          "color": "#009E73"
         },
         "mode": "lines",
         "name": "8_dress_dresses_fashion_wardrobe",
         "type": "scatter",
         "x": [
          2013,
          2014,
          2015,
          2016,
          2017,
          2018,
          2019,
          2020,
          2021,
          2022
         ],
         "y": [
          1,
          20,
          16,
          17,
          12,
          10,
          20,
          30,
          13,
          14
         ]
        },
        {
         "hoverinfo": "text",
         "hovertext": [
          "<b>Topic 9</b><br>Words: approached, approaching, flirty, approachable, conversation",
          "<b>Topic 9</b><br>Words: dating, shyness, flirt, advice, drink",
          "<b>Topic 9</b><br>Words: dating, flirt, relationship, tips, flirtatious",
          "<b>Topic 9</b><br>Words: flirt, flirting, dating, relationship, advice",
          "<b>Topic 9</b><br>Words: flirt, flirting, flirtation, dating, approaching",
          "<b>Topic 9</b><br>Words: flirt, flirting, shy, drink, tips",
          "<b>Topic 9</b><br>Words: flirt, dating, approached, advice, approachable",
          "<b>Topic 9</b><br>Words: flirt, flirting, dating, shy, tips",
          "<b>Topic 9</b><br>Words: flirt, dating, shy, relationship, conversation",
          "<b>Topic 9</b><br>Words: flirt, shy, advice, dating, approachable"
         ],
         "marker": {
          "color": "#F0E442"
         },
         "mode": "lines",
         "name": "9_flirt_flirting_shy_dating",
         "type": "scatter",
         "x": [
          2013,
          2014,
          2015,
          2016,
          2017,
          2018,
          2019,
          2020,
          2021,
          2022
         ],
         "y": [
          2,
          16,
          6,
          12,
          10,
          16,
          20,
          9,
          10,
          9
         ]
        },
        {
         "hoverinfo": "text",
         "hovertext": [
          "<b>Topic 10</b><br>Words: marriage, marry, single, dating, married",
          "<b>Topic 10</b><br>Words: virginity, virgin, lying, sex, sexual",
          "<b>Topic 10</b><br>Words: virginity, virgin, sex, marriage, sexual",
          "<b>Topic 10</b><br>Words: virginity, virgin, dating, sex, sexual",
          "<b>Topic 10</b><br>Words: marriage, sex, virgin, sexual, married",
          "<b>Topic 10</b><br>Words: marriage, married, virgin, dating, sex",
          "<b>Topic 10</b><br>Words: marriage, sex, relationship, virgin, sexual",
          "<b>Topic 10</b><br>Words: dating, marriage, virgin, prenup, married",
          "<b>Topic 10</b><br>Words: marriage, married, relationship, sexual, dating",
          "<b>Topic 10</b><br>Words: marrying, prenup, marriages, marriage, couples"
         ],
         "marker": {
          "color": "#D55E00"
         },
         "mode": "lines",
         "name": "10_dating_virginity_sex_relationship",
         "type": "scatter",
         "x": [
          2013,
          2014,
          2015,
          2016,
          2017,
          2018,
          2019,
          2020,
          2021,
          2022
         ],
         "y": [
          7,
          7,
          4,
          11,
          18,
          11,
          15,
          9,
          9,
          8
         ]
        },
        {
         "hoverinfo": "text",
         "hovertext": [
          "<b>Topic 11</b><br>Words: hair, hairstyles, blonde, brunetteblonderedhead, attractive",
          "<b>Topic 11</b><br>Words: hair, hairs, hairy, shaving, shave",
          "<b>Topic 11</b><br>Words: hairstyles, hair, shaved, hairy, shave",
          "<b>Topic 11</b><br>Words: hair, blonde, thinner, curly, frizzy",
          "<b>Topic 11</b><br>Words: shave, shaving, hairs, hairless, hairy",
          "<b>Topic 11</b><br>Words: hair, shave, blonde, feminine, cut",
          "<b>Topic 11</b><br>Words: shaving, shave, hair, hairstyles, waxing",
          "<b>Topic 11</b><br>Words: hairstyles, hair, hairy, shaving, waxing",
          "<b>Topic 11</b><br>Words: hairstyle, hairstyles, haired, hair, haircut",
          "<b>Topic 11</b><br>Words: hair, nails, nail, chubby, cut"
         ],
         "marker": {
          "color": "#0072B2"
         },
         "mode": "lines",
         "name": "11_hair_haircut_hairstyles_shave",
         "type": "scatter",
         "x": [
          2013,
          2014,
          2015,
          2016,
          2017,
          2018,
          2019,
          2020,
          2021,
          2022
         ],
         "y": [
          4,
          18,
          6,
          5,
          4,
          12,
          9,
          8,
          4,
          3
         ]
        },
        {
         "hoverinfo": "text",
         "hovertext": [
          "<b>Topic 12</b><br>Words: exercise, eat, month, monthly, achieve",
          "<b>Topic 12</b><br>Words: goals, achieve, month, exercise, monthly",
          "<b>Topic 12</b><br>Words: goals, achieve, month, exercise, monthly",
          "<b>Topic 12</b><br>Words: goals, achieve, month, exercise, monthly",
          "<b>Topic 12</b><br>Words: goals, achieve, month, exercise, monthly",
          "<b>Topic 12</b><br>Words: goals, month, monthly, plan, achieve",
          "<b>Topic 12</b><br>Words: goals, month, achieve, monthly, goal"
         ],
         "marker": {
          "color": "#CC79A7"
         },
         "mode": "lines",
         "name": "12_goals_achieve_month_exercise",
         "type": "scatter",
         "x": [
          2016,
          2017,
          2018,
          2019,
          2020,
          2021,
          2022
         ],
         "y": [
          7,
          8,
          11,
          11,
          12,
          1,
          5
         ]
        }
       ],
       "layout": {
        "height": 450,
        "hoverlabel": {
         "bgcolor": "white",
         "font": {
          "family": "Rockwell",
          "size": 16
         }
        },
        "legend": {
         "title": {
          "text": "<b>Global Topic Representation"
         }
        },
        "template": {
         "data": {
          "bar": [
           {
            "error_x": {
             "color": "rgb(36,36,36)"
            },
            "error_y": {
             "color": "rgb(36,36,36)"
            },
            "marker": {
             "line": {
              "color": "white",
              "width": 0.5
             },
             "pattern": {
              "fillmode": "overlay",
              "size": 10,
              "solidity": 0.2
             }
            },
            "type": "bar"
           }
          ],
          "barpolar": [
           {
            "marker": {
             "line": {
              "color": "white",
              "width": 0.5
             },
             "pattern": {
              "fillmode": "overlay",
              "size": 10,
              "solidity": 0.2
             }
            },
            "type": "barpolar"
           }
          ],
          "carpet": [
           {
            "aaxis": {
             "endlinecolor": "rgb(36,36,36)",
             "gridcolor": "white",
             "linecolor": "white",
             "minorgridcolor": "white",
             "startlinecolor": "rgb(36,36,36)"
            },
            "baxis": {
             "endlinecolor": "rgb(36,36,36)",
             "gridcolor": "white",
             "linecolor": "white",
             "minorgridcolor": "white",
             "startlinecolor": "rgb(36,36,36)"
            },
            "type": "carpet"
           }
          ],
          "choropleth": [
           {
            "colorbar": {
             "outlinewidth": 1,
             "tickcolor": "rgb(36,36,36)",
             "ticks": "outside"
            },
            "type": "choropleth"
           }
          ],
          "contour": [
           {
            "colorbar": {
             "outlinewidth": 1,
             "tickcolor": "rgb(36,36,36)",
             "ticks": "outside"
            },
            "colorscale": [
             [
              0,
              "#440154"
             ],
             [
              0.1111111111111111,
              "#482878"
             ],
             [
              0.2222222222222222,
              "#3e4989"
             ],
             [
              0.3333333333333333,
              "#31688e"
             ],
             [
              0.4444444444444444,
              "#26828e"
             ],
             [
              0.5555555555555556,
              "#1f9e89"
             ],
             [
              0.6666666666666666,
              "#35b779"
             ],
             [
              0.7777777777777778,
              "#6ece58"
             ],
             [
              0.8888888888888888,
              "#b5de2b"
             ],
             [
              1,
              "#fde725"
             ]
            ],
            "type": "contour"
           }
          ],
          "contourcarpet": [
           {
            "colorbar": {
             "outlinewidth": 1,
             "tickcolor": "rgb(36,36,36)",
             "ticks": "outside"
            },
            "type": "contourcarpet"
           }
          ],
          "heatmap": [
           {
            "colorbar": {
             "outlinewidth": 1,
             "tickcolor": "rgb(36,36,36)",
             "ticks": "outside"
            },
            "colorscale": [
             [
              0,
              "#440154"
             ],
             [
              0.1111111111111111,
              "#482878"
             ],
             [
              0.2222222222222222,
              "#3e4989"
             ],
             [
              0.3333333333333333,
              "#31688e"
             ],
             [
              0.4444444444444444,
              "#26828e"
             ],
             [
              0.5555555555555556,
              "#1f9e89"
             ],
             [
              0.6666666666666666,
              "#35b779"
             ],
             [
              0.7777777777777778,
              "#6ece58"
             ],
             [
              0.8888888888888888,
              "#b5de2b"
             ],
             [
              1,
              "#fde725"
             ]
            ],
            "type": "heatmap"
           }
          ],
          "heatmapgl": [
           {
            "colorbar": {
             "outlinewidth": 1,
             "tickcolor": "rgb(36,36,36)",
             "ticks": "outside"
            },
            "colorscale": [
             [
              0,
              "#440154"
             ],
             [
              0.1111111111111111,
              "#482878"
             ],
             [
              0.2222222222222222,
              "#3e4989"
             ],
             [
              0.3333333333333333,
              "#31688e"
             ],
             [
              0.4444444444444444,
              "#26828e"
             ],
             [
              0.5555555555555556,
              "#1f9e89"
             ],
             [
              0.6666666666666666,
              "#35b779"
             ],
             [
              0.7777777777777778,
              "#6ece58"
             ],
             [
              0.8888888888888888,
              "#b5de2b"
             ],
             [
              1,
              "#fde725"
             ]
            ],
            "type": "heatmapgl"
           }
          ],
          "histogram": [
           {
            "marker": {
             "line": {
              "color": "white",
              "width": 0.6
             }
            },
            "type": "histogram"
           }
          ],
          "histogram2d": [
           {
            "colorbar": {
             "outlinewidth": 1,
             "tickcolor": "rgb(36,36,36)",
             "ticks": "outside"
            },
            "colorscale": [
             [
              0,
              "#440154"
             ],
             [
              0.1111111111111111,
              "#482878"
             ],
             [
              0.2222222222222222,
              "#3e4989"
             ],
             [
              0.3333333333333333,
              "#31688e"
             ],
             [
              0.4444444444444444,
              "#26828e"
             ],
             [
              0.5555555555555556,
              "#1f9e89"
             ],
             [
              0.6666666666666666,
              "#35b779"
             ],
             [
              0.7777777777777778,
              "#6ece58"
             ],
             [
              0.8888888888888888,
              "#b5de2b"
             ],
             [
              1,
              "#fde725"
             ]
            ],
            "type": "histogram2d"
           }
          ],
          "histogram2dcontour": [
           {
            "colorbar": {
             "outlinewidth": 1,
             "tickcolor": "rgb(36,36,36)",
             "ticks": "outside"
            },
            "colorscale": [
             [
              0,
              "#440154"
             ],
             [
              0.1111111111111111,
              "#482878"
             ],
             [
              0.2222222222222222,
              "#3e4989"
             ],
             [
              0.3333333333333333,
              "#31688e"
             ],
             [
              0.4444444444444444,
              "#26828e"
             ],
             [
              0.5555555555555556,
              "#1f9e89"
             ],
             [
              0.6666666666666666,
              "#35b779"
             ],
             [
              0.7777777777777778,
              "#6ece58"
             ],
             [
              0.8888888888888888,
              "#b5de2b"
             ],
             [
              1,
              "#fde725"
             ]
            ],
            "type": "histogram2dcontour"
           }
          ],
          "mesh3d": [
           {
            "colorbar": {
             "outlinewidth": 1,
             "tickcolor": "rgb(36,36,36)",
             "ticks": "outside"
            },
            "type": "mesh3d"
           }
          ],
          "parcoords": [
           {
            "line": {
             "colorbar": {
              "outlinewidth": 1,
              "tickcolor": "rgb(36,36,36)",
              "ticks": "outside"
             }
            },
            "type": "parcoords"
           }
          ],
          "pie": [
           {
            "automargin": true,
            "type": "pie"
           }
          ],
          "scatter": [
           {
            "fillpattern": {
             "fillmode": "overlay",
             "size": 10,
             "solidity": 0.2
            },
            "type": "scatter"
           }
          ],
          "scatter3d": [
           {
            "line": {
             "colorbar": {
              "outlinewidth": 1,
              "tickcolor": "rgb(36,36,36)",
              "ticks": "outside"
             }
            },
            "marker": {
             "colorbar": {
              "outlinewidth": 1,
              "tickcolor": "rgb(36,36,36)",
              "ticks": "outside"
             }
            },
            "type": "scatter3d"
           }
          ],
          "scattercarpet": [
           {
            "marker": {
             "colorbar": {
              "outlinewidth": 1,
              "tickcolor": "rgb(36,36,36)",
              "ticks": "outside"
             }
            },
            "type": "scattercarpet"
           }
          ],
          "scattergeo": [
           {
            "marker": {
             "colorbar": {
              "outlinewidth": 1,
              "tickcolor": "rgb(36,36,36)",
              "ticks": "outside"
             }
            },
            "type": "scattergeo"
           }
          ],
          "scattergl": [
           {
            "marker": {
             "colorbar": {
              "outlinewidth": 1,
              "tickcolor": "rgb(36,36,36)",
              "ticks": "outside"
             }
            },
            "type": "scattergl"
           }
          ],
          "scattermapbox": [
           {
            "marker": {
             "colorbar": {
              "outlinewidth": 1,
              "tickcolor": "rgb(36,36,36)",
              "ticks": "outside"
             }
            },
            "type": "scattermapbox"
           }
          ],
          "scatterpolar": [
           {
            "marker": {
             "colorbar": {
              "outlinewidth": 1,
              "tickcolor": "rgb(36,36,36)",
              "ticks": "outside"
             }
            },
            "type": "scatterpolar"
           }
          ],
          "scatterpolargl": [
           {
            "marker": {
             "colorbar": {
              "outlinewidth": 1,
              "tickcolor": "rgb(36,36,36)",
              "ticks": "outside"
             }
            },
            "type": "scatterpolargl"
           }
          ],
          "scatterternary": [
           {
            "marker": {
             "colorbar": {
              "outlinewidth": 1,
              "tickcolor": "rgb(36,36,36)",
              "ticks": "outside"
             }
            },
            "type": "scatterternary"
           }
          ],
          "surface": [
           {
            "colorbar": {
             "outlinewidth": 1,
             "tickcolor": "rgb(36,36,36)",
             "ticks": "outside"
            },
            "colorscale": [
             [
              0,
              "#440154"
             ],
             [
              0.1111111111111111,
              "#482878"
             ],
             [
              0.2222222222222222,
              "#3e4989"
             ],
             [
              0.3333333333333333,
              "#31688e"
             ],
             [
              0.4444444444444444,
              "#26828e"
             ],
             [
              0.5555555555555556,
              "#1f9e89"
             ],
             [
              0.6666666666666666,
              "#35b779"
             ],
             [
              0.7777777777777778,
              "#6ece58"
             ],
             [
              0.8888888888888888,
              "#b5de2b"
             ],
             [
              1,
              "#fde725"
             ]
            ],
            "type": "surface"
           }
          ],
          "table": [
           {
            "cells": {
             "fill": {
              "color": "rgb(237,237,237)"
             },
             "line": {
              "color": "white"
             }
            },
            "header": {
             "fill": {
              "color": "rgb(217,217,217)"
             },
             "line": {
              "color": "white"
             }
            },
            "type": "table"
           }
          ]
         },
         "layout": {
          "annotationdefaults": {
           "arrowhead": 0,
           "arrowwidth": 1
          },
          "autotypenumbers": "strict",
          "coloraxis": {
           "colorbar": {
            "outlinewidth": 1,
            "tickcolor": "rgb(36,36,36)",
            "ticks": "outside"
           }
          },
          "colorscale": {
           "diverging": [
            [
             0,
             "rgb(103,0,31)"
            ],
            [
             0.1,
             "rgb(178,24,43)"
            ],
            [
             0.2,
             "rgb(214,96,77)"
            ],
            [
             0.3,
             "rgb(244,165,130)"
            ],
            [
             0.4,
             "rgb(253,219,199)"
            ],
            [
             0.5,
             "rgb(247,247,247)"
            ],
            [
             0.6,
             "rgb(209,229,240)"
            ],
            [
             0.7,
             "rgb(146,197,222)"
            ],
            [
             0.8,
             "rgb(67,147,195)"
            ],
            [
             0.9,
             "rgb(33,102,172)"
            ],
            [
             1,
             "rgb(5,48,97)"
            ]
           ],
           "sequential": [
            [
             0,
             "#440154"
            ],
            [
             0.1111111111111111,
             "#482878"
            ],
            [
             0.2222222222222222,
             "#3e4989"
            ],
            [
             0.3333333333333333,
             "#31688e"
            ],
            [
             0.4444444444444444,
             "#26828e"
            ],
            [
             0.5555555555555556,
             "#1f9e89"
            ],
            [
             0.6666666666666666,
             "#35b779"
            ],
            [
             0.7777777777777778,
             "#6ece58"
            ],
            [
             0.8888888888888888,
             "#b5de2b"
            ],
            [
             1,
             "#fde725"
            ]
           ],
           "sequentialminus": [
            [
             0,
             "#440154"
            ],
            [
             0.1111111111111111,
             "#482878"
            ],
            [
             0.2222222222222222,
             "#3e4989"
            ],
            [
             0.3333333333333333,
             "#31688e"
            ],
            [
             0.4444444444444444,
             "#26828e"
            ],
            [
             0.5555555555555556,
             "#1f9e89"
            ],
            [
             0.6666666666666666,
             "#35b779"
            ],
            [
             0.7777777777777778,
             "#6ece58"
            ],
            [
             0.8888888888888888,
             "#b5de2b"
            ],
            [
             1,
             "#fde725"
            ]
           ]
          },
          "colorway": [
           "#1F77B4",
           "#FF7F0E",
           "#2CA02C",
           "#D62728",
           "#9467BD",
           "#8C564B",
           "#E377C2",
           "#7F7F7F",
           "#BCBD22",
           "#17BECF"
          ],
          "font": {
           "color": "rgb(36,36,36)"
          },
          "geo": {
           "bgcolor": "white",
           "lakecolor": "white",
           "landcolor": "white",
           "showlakes": true,
           "showland": true,
           "subunitcolor": "white"
          },
          "hoverlabel": {
           "align": "left"
          },
          "hovermode": "closest",
          "mapbox": {
           "style": "light"
          },
          "paper_bgcolor": "white",
          "plot_bgcolor": "white",
          "polar": {
           "angularaxis": {
            "gridcolor": "rgb(232,232,232)",
            "linecolor": "rgb(36,36,36)",
            "showgrid": false,
            "showline": true,
            "ticks": "outside"
           },
           "bgcolor": "white",
           "radialaxis": {
            "gridcolor": "rgb(232,232,232)",
            "linecolor": "rgb(36,36,36)",
            "showgrid": false,
            "showline": true,
            "ticks": "outside"
           }
          },
          "scene": {
           "xaxis": {
            "backgroundcolor": "white",
            "gridcolor": "rgb(232,232,232)",
            "gridwidth": 2,
            "linecolor": "rgb(36,36,36)",
            "showbackground": true,
            "showgrid": false,
            "showline": true,
            "ticks": "outside",
            "zeroline": false,
            "zerolinecolor": "rgb(36,36,36)"
           },
           "yaxis": {
            "backgroundcolor": "white",
            "gridcolor": "rgb(232,232,232)",
            "gridwidth": 2,
            "linecolor": "rgb(36,36,36)",
            "showbackground": true,
            "showgrid": false,
            "showline": true,
            "ticks": "outside",
            "zeroline": false,
            "zerolinecolor": "rgb(36,36,36)"
           },
           "zaxis": {
            "backgroundcolor": "white",
            "gridcolor": "rgb(232,232,232)",
            "gridwidth": 2,
            "linecolor": "rgb(36,36,36)",
            "showbackground": true,
            "showgrid": false,
            "showline": true,
            "ticks": "outside",
            "zeroline": false,
            "zerolinecolor": "rgb(36,36,36)"
           }
          },
          "shapedefaults": {
           "fillcolor": "black",
           "line": {
            "width": 0
           },
           "opacity": 0.3
          },
          "ternary": {
           "aaxis": {
            "gridcolor": "rgb(232,232,232)",
            "linecolor": "rgb(36,36,36)",
            "showgrid": false,
            "showline": true,
            "ticks": "outside"
           },
           "baxis": {
            "gridcolor": "rgb(232,232,232)",
            "linecolor": "rgb(36,36,36)",
            "showgrid": false,
            "showline": true,
            "ticks": "outside"
           },
           "bgcolor": "white",
           "caxis": {
            "gridcolor": "rgb(232,232,232)",
            "linecolor": "rgb(36,36,36)",
            "showgrid": false,
            "showline": true,
            "ticks": "outside"
           }
          },
          "title": {
           "x": 0.05
          },
          "xaxis": {
           "automargin": true,
           "gridcolor": "rgb(232,232,232)",
           "linecolor": "rgb(36,36,36)",
           "showgrid": false,
           "showline": true,
           "ticks": "outside",
           "title": {
            "standoff": 15
           },
           "zeroline": false,
           "zerolinecolor": "rgb(36,36,36)"
          },
          "yaxis": {
           "automargin": true,
           "gridcolor": "rgb(232,232,232)",
           "linecolor": "rgb(36,36,36)",
           "showgrid": false,
           "showline": true,
           "ticks": "outside",
           "title": {
            "standoff": 15
           },
           "zeroline": false,
           "zerolinecolor": "rgb(36,36,36)"
          }
         }
        },
        "title": {
         "font": {
          "color": "Black",
          "size": 22
         },
         "text": "<b>Topics over Time</b>",
         "x": 0.4,
         "xanchor": "center",
         "y": 0.95,
         "yanchor": "top"
        },
        "width": 1250,
        "xaxis": {
         "showgrid": true
        },
        "yaxis": {
         "showgrid": true,
         "title": {
          "text": "Frequency"
         }
        }
       }
      }
     },
     "metadata": {},
     "output_type": "display_data"
    }
   ],
   "source": [
    "topic_model.visualize_topics_over_time(topics_over_time_yearly, topics=list(range(-1, 13)))"
   ]
  },
  {
   "cell_type": "code",
   "execution_count": 34,
   "metadata": {},
   "outputs": [],
   "source": [
    "monthly_df = topics_over_time_monthly[['Topic', 'Frequency', 'Timestamp']]\n",
    "# make topic a column and the frequency the value of the cell\n",
    "monthly_df = monthly_df.pivot(index='Timestamp', columns='Topic', values='Frequency')\n",
    "monthly_df.fillna(0, inplace=True)"
   ]
  },
  {
   "cell_type": "code",
   "execution_count": 35,
   "metadata": {},
   "outputs": [
    {
     "data": {
      "text/html": [
       "<div>\n",
       "<style scoped>\n",
       "    .dataframe tbody tr th:only-of-type {\n",
       "        vertical-align: middle;\n",
       "    }\n",
       "\n",
       "    .dataframe tbody tr th {\n",
       "        vertical-align: top;\n",
       "    }\n",
       "\n",
       "    .dataframe thead th {\n",
       "        text-align: right;\n",
       "    }\n",
       "</style>\n",
       "<table border=\"1\" class=\"dataframe\">\n",
       "  <thead>\n",
       "    <tr style=\"text-align: right;\">\n",
       "      <th>Topic</th>\n",
       "      <th>-1</th>\n",
       "      <th>0</th>\n",
       "      <th>1</th>\n",
       "      <th>2</th>\n",
       "      <th>3</th>\n",
       "      <th>4</th>\n",
       "      <th>5</th>\n",
       "      <th>6</th>\n",
       "      <th>7</th>\n",
       "      <th>8</th>\n",
       "      <th>9</th>\n",
       "      <th>10</th>\n",
       "      <th>11</th>\n",
       "      <th>12</th>\n",
       "      <th>13</th>\n",
       "      <th>14</th>\n",
       "      <th>15</th>\n",
       "      <th>16</th>\n",
       "      <th>17</th>\n",
       "      <th>18</th>\n",
       "    </tr>\n",
       "    <tr>\n",
       "      <th>Timestamp</th>\n",
       "      <th></th>\n",
       "      <th></th>\n",
       "      <th></th>\n",
       "      <th></th>\n",
       "      <th></th>\n",
       "      <th></th>\n",
       "      <th></th>\n",
       "      <th></th>\n",
       "      <th></th>\n",
       "      <th></th>\n",
       "      <th></th>\n",
       "      <th></th>\n",
       "      <th></th>\n",
       "      <th></th>\n",
       "      <th></th>\n",
       "      <th></th>\n",
       "      <th></th>\n",
       "      <th></th>\n",
       "      <th></th>\n",
       "      <th></th>\n",
       "    </tr>\n",
       "  </thead>\n",
       "  <tbody>\n",
       "    <tr>\n",
       "      <th>2013-06</th>\n",
       "      <td>23.0</td>\n",
       "      <td>2.0</td>\n",
       "      <td>2.0</td>\n",
       "      <td>13.0</td>\n",
       "      <td>2.0</td>\n",
       "      <td>2.0</td>\n",
       "      <td>0.0</td>\n",
       "      <td>0.0</td>\n",
       "      <td>1.0</td>\n",
       "      <td>0.0</td>\n",
       "      <td>0.0</td>\n",
       "      <td>2.0</td>\n",
       "      <td>0.0</td>\n",
       "      <td>0.0</td>\n",
       "      <td>0.0</td>\n",
       "      <td>0.0</td>\n",
       "      <td>0.0</td>\n",
       "      <td>0.0</td>\n",
       "      <td>0.0</td>\n",
       "      <td>0.0</td>\n",
       "    </tr>\n",
       "    <tr>\n",
       "      <th>2013-07</th>\n",
       "      <td>55.0</td>\n",
       "      <td>6.0</td>\n",
       "      <td>2.0</td>\n",
       "      <td>16.0</td>\n",
       "      <td>13.0</td>\n",
       "      <td>2.0</td>\n",
       "      <td>2.0</td>\n",
       "      <td>0.0</td>\n",
       "      <td>0.0</td>\n",
       "      <td>0.0</td>\n",
       "      <td>0.0</td>\n",
       "      <td>1.0</td>\n",
       "      <td>0.0</td>\n",
       "      <td>0.0</td>\n",
       "      <td>0.0</td>\n",
       "      <td>0.0</td>\n",
       "      <td>0.0</td>\n",
       "      <td>0.0</td>\n",
       "      <td>0.0</td>\n",
       "      <td>0.0</td>\n",
       "    </tr>\n",
       "    <tr>\n",
       "      <th>2013-08</th>\n",
       "      <td>37.0</td>\n",
       "      <td>6.0</td>\n",
       "      <td>7.0</td>\n",
       "      <td>11.0</td>\n",
       "      <td>13.0</td>\n",
       "      <td>3.0</td>\n",
       "      <td>2.0</td>\n",
       "      <td>0.0</td>\n",
       "      <td>0.0</td>\n",
       "      <td>0.0</td>\n",
       "      <td>0.0</td>\n",
       "      <td>1.0</td>\n",
       "      <td>0.0</td>\n",
       "      <td>0.0</td>\n",
       "      <td>0.0</td>\n",
       "      <td>0.0</td>\n",
       "      <td>0.0</td>\n",
       "      <td>0.0</td>\n",
       "      <td>1.0</td>\n",
       "      <td>0.0</td>\n",
       "    </tr>\n",
       "    <tr>\n",
       "      <th>2013-09</th>\n",
       "      <td>31.0</td>\n",
       "      <td>7.0</td>\n",
       "      <td>5.0</td>\n",
       "      <td>6.0</td>\n",
       "      <td>9.0</td>\n",
       "      <td>0.0</td>\n",
       "      <td>1.0</td>\n",
       "      <td>0.0</td>\n",
       "      <td>1.0</td>\n",
       "      <td>0.0</td>\n",
       "      <td>1.0</td>\n",
       "      <td>2.0</td>\n",
       "      <td>0.0</td>\n",
       "      <td>0.0</td>\n",
       "      <td>0.0</td>\n",
       "      <td>0.0</td>\n",
       "      <td>0.0</td>\n",
       "      <td>0.0</td>\n",
       "      <td>0.0</td>\n",
       "      <td>0.0</td>\n",
       "    </tr>\n",
       "    <tr>\n",
       "      <th>2013-10</th>\n",
       "      <td>26.0</td>\n",
       "      <td>8.0</td>\n",
       "      <td>0.0</td>\n",
       "      <td>0.0</td>\n",
       "      <td>2.0</td>\n",
       "      <td>0.0</td>\n",
       "      <td>4.0</td>\n",
       "      <td>0.0</td>\n",
       "      <td>1.0</td>\n",
       "      <td>0.0</td>\n",
       "      <td>1.0</td>\n",
       "      <td>1.0</td>\n",
       "      <td>1.0</td>\n",
       "      <td>0.0</td>\n",
       "      <td>0.0</td>\n",
       "      <td>0.0</td>\n",
       "      <td>0.0</td>\n",
       "      <td>0.0</td>\n",
       "      <td>0.0</td>\n",
       "      <td>0.0</td>\n",
       "    </tr>\n",
       "    <tr>\n",
       "      <th>...</th>\n",
       "      <td>...</td>\n",
       "      <td>...</td>\n",
       "      <td>...</td>\n",
       "      <td>...</td>\n",
       "      <td>...</td>\n",
       "      <td>...</td>\n",
       "      <td>...</td>\n",
       "      <td>...</td>\n",
       "      <td>...</td>\n",
       "      <td>...</td>\n",
       "      <td>...</td>\n",
       "      <td>...</td>\n",
       "      <td>...</td>\n",
       "      <td>...</td>\n",
       "      <td>...</td>\n",
       "      <td>...</td>\n",
       "      <td>...</td>\n",
       "      <td>...</td>\n",
       "      <td>...</td>\n",
       "      <td>...</td>\n",
       "    </tr>\n",
       "    <tr>\n",
       "      <th>2022-08</th>\n",
       "      <td>42.0</td>\n",
       "      <td>27.0</td>\n",
       "      <td>6.0</td>\n",
       "      <td>2.0</td>\n",
       "      <td>3.0</td>\n",
       "      <td>2.0</td>\n",
       "      <td>1.0</td>\n",
       "      <td>0.0</td>\n",
       "      <td>4.0</td>\n",
       "      <td>0.0</td>\n",
       "      <td>2.0</td>\n",
       "      <td>1.0</td>\n",
       "      <td>0.0</td>\n",
       "      <td>1.0</td>\n",
       "      <td>0.0</td>\n",
       "      <td>0.0</td>\n",
       "      <td>0.0</td>\n",
       "      <td>0.0</td>\n",
       "      <td>0.0</td>\n",
       "      <td>0.0</td>\n",
       "    </tr>\n",
       "    <tr>\n",
       "      <th>2022-09</th>\n",
       "      <td>59.0</td>\n",
       "      <td>19.0</td>\n",
       "      <td>8.0</td>\n",
       "      <td>6.0</td>\n",
       "      <td>4.0</td>\n",
       "      <td>1.0</td>\n",
       "      <td>2.0</td>\n",
       "      <td>0.0</td>\n",
       "      <td>2.0</td>\n",
       "      <td>2.0</td>\n",
       "      <td>2.0</td>\n",
       "      <td>0.0</td>\n",
       "      <td>0.0</td>\n",
       "      <td>0.0</td>\n",
       "      <td>0.0</td>\n",
       "      <td>0.0</td>\n",
       "      <td>0.0</td>\n",
       "      <td>0.0</td>\n",
       "      <td>0.0</td>\n",
       "      <td>0.0</td>\n",
       "    </tr>\n",
       "    <tr>\n",
       "      <th>2022-10</th>\n",
       "      <td>43.0</td>\n",
       "      <td>18.0</td>\n",
       "      <td>3.0</td>\n",
       "      <td>2.0</td>\n",
       "      <td>3.0</td>\n",
       "      <td>0.0</td>\n",
       "      <td>1.0</td>\n",
       "      <td>0.0</td>\n",
       "      <td>0.0</td>\n",
       "      <td>3.0</td>\n",
       "      <td>1.0</td>\n",
       "      <td>2.0</td>\n",
       "      <td>0.0</td>\n",
       "      <td>0.0</td>\n",
       "      <td>0.0</td>\n",
       "      <td>0.0</td>\n",
       "      <td>0.0</td>\n",
       "      <td>0.0</td>\n",
       "      <td>0.0</td>\n",
       "      <td>0.0</td>\n",
       "    </tr>\n",
       "    <tr>\n",
       "      <th>2022-11</th>\n",
       "      <td>49.0</td>\n",
       "      <td>17.0</td>\n",
       "      <td>6.0</td>\n",
       "      <td>0.0</td>\n",
       "      <td>0.0</td>\n",
       "      <td>3.0</td>\n",
       "      <td>0.0</td>\n",
       "      <td>0.0</td>\n",
       "      <td>2.0</td>\n",
       "      <td>1.0</td>\n",
       "      <td>0.0</td>\n",
       "      <td>0.0</td>\n",
       "      <td>0.0</td>\n",
       "      <td>0.0</td>\n",
       "      <td>0.0</td>\n",
       "      <td>0.0</td>\n",
       "      <td>0.0</td>\n",
       "      <td>0.0</td>\n",
       "      <td>0.0</td>\n",
       "      <td>0.0</td>\n",
       "    </tr>\n",
       "    <tr>\n",
       "      <th>2022-12</th>\n",
       "      <td>38.0</td>\n",
       "      <td>20.0</td>\n",
       "      <td>7.0</td>\n",
       "      <td>2.0</td>\n",
       "      <td>0.0</td>\n",
       "      <td>3.0</td>\n",
       "      <td>2.0</td>\n",
       "      <td>0.0</td>\n",
       "      <td>1.0</td>\n",
       "      <td>3.0</td>\n",
       "      <td>0.0</td>\n",
       "      <td>0.0</td>\n",
       "      <td>0.0</td>\n",
       "      <td>0.0</td>\n",
       "      <td>0.0</td>\n",
       "      <td>0.0</td>\n",
       "      <td>1.0</td>\n",
       "      <td>0.0</td>\n",
       "      <td>0.0</td>\n",
       "      <td>0.0</td>\n",
       "    </tr>\n",
       "  </tbody>\n",
       "</table>\n",
       "<p>115 rows × 20 columns</p>\n",
       "</div>"
      ],
      "text/plain": [
       "Topic       -1     0    1     2     3    4    5    6    7    8    9    10  \\\n",
       "Timestamp                                                                   \n",
       "2013-06    23.0   2.0  2.0  13.0   2.0  2.0  0.0  0.0  1.0  0.0  0.0  2.0   \n",
       "2013-07    55.0   6.0  2.0  16.0  13.0  2.0  2.0  0.0  0.0  0.0  0.0  1.0   \n",
       "2013-08    37.0   6.0  7.0  11.0  13.0  3.0  2.0  0.0  0.0  0.0  0.0  1.0   \n",
       "2013-09    31.0   7.0  5.0   6.0   9.0  0.0  1.0  0.0  1.0  0.0  1.0  2.0   \n",
       "2013-10    26.0   8.0  0.0   0.0   2.0  0.0  4.0  0.0  1.0  0.0  1.0  1.0   \n",
       "...         ...   ...  ...   ...   ...  ...  ...  ...  ...  ...  ...  ...   \n",
       "2022-08    42.0  27.0  6.0   2.0   3.0  2.0  1.0  0.0  4.0  0.0  2.0  1.0   \n",
       "2022-09    59.0  19.0  8.0   6.0   4.0  1.0  2.0  0.0  2.0  2.0  2.0  0.0   \n",
       "2022-10    43.0  18.0  3.0   2.0   3.0  0.0  1.0  0.0  0.0  3.0  1.0  2.0   \n",
       "2022-11    49.0  17.0  6.0   0.0   0.0  3.0  0.0  0.0  2.0  1.0  0.0  0.0   \n",
       "2022-12    38.0  20.0  7.0   2.0   0.0  3.0  2.0  0.0  1.0  3.0  0.0  0.0   \n",
       "\n",
       "Topic       11   12   13   14   15   16   17   18  \n",
       "Timestamp                                          \n",
       "2013-06    0.0  0.0  0.0  0.0  0.0  0.0  0.0  0.0  \n",
       "2013-07    0.0  0.0  0.0  0.0  0.0  0.0  0.0  0.0  \n",
       "2013-08    0.0  0.0  0.0  0.0  0.0  0.0  1.0  0.0  \n",
       "2013-09    0.0  0.0  0.0  0.0  0.0  0.0  0.0  0.0  \n",
       "2013-10    1.0  0.0  0.0  0.0  0.0  0.0  0.0  0.0  \n",
       "...        ...  ...  ...  ...  ...  ...  ...  ...  \n",
       "2022-08    0.0  1.0  0.0  0.0  0.0  0.0  0.0  0.0  \n",
       "2022-09    0.0  0.0  0.0  0.0  0.0  0.0  0.0  0.0  \n",
       "2022-10    0.0  0.0  0.0  0.0  0.0  0.0  0.0  0.0  \n",
       "2022-11    0.0  0.0  0.0  0.0  0.0  0.0  0.0  0.0  \n",
       "2022-12    0.0  0.0  0.0  0.0  1.0  0.0  0.0  0.0  \n",
       "\n",
       "[115 rows x 20 columns]"
      ]
     },
     "execution_count": 35,
     "metadata": {},
     "output_type": "execute_result"
    }
   ],
   "source": [
    "monthly_df"
   ]
  },
  {
   "cell_type": "code",
   "execution_count": 36,
   "metadata": {},
   "outputs": [
    {
     "data": {
      "text/plain": [
       "<Axes: title={'center': 'Monthly avg. topic mentions'}, xlabel='Date', ylabel='Avg. topic mentions'>"
      ]
     },
     "execution_count": 36,
     "metadata": {},
     "output_type": "execute_result"
    },
    {
     "data": {
      "image/png": "[encoded data removed]",
      "text/plain": [
       "<Figure size 2000x1000 with 1 Axes>"
      ]
     },
     "metadata": {},
     "output_type": "display_data"
    }
   ],
   "source": [
    "monthly_df.plot(\n",
    "    kind=\"line\",\n",
    "    title=\"Monthly avg. topic mentions\",\n",
    "    xlabel=\"Date\",\n",
    "    ylabel=\"Avg. topic mentions\",\n",
    "    figsize=(20, 10),\n",
    "    legend=True,\n",
    ")"
   ]
  },
  {
   "cell_type": "markdown",
   "metadata": {},
   "source": [
    "### Saving & Loading"
   ]
  },
  {
   "cell_type": "markdown",
   "metadata": {},
   "source": [
    "#### Saving"
   ]
  },
  {
   "cell_type": "code",
   "execution_count": 38,
   "metadata": {},
   "outputs": [],
   "source": [
    "# Method 1 - safetensors\n",
    "embedding_model = \"sentence-transformers/all-MiniLM-L6-v2\"\n",
    "topic_model.save(\"../models/redPillSubmissions-20\", serialization=\"safetensors\", save_ctfidf=True, save_embedding_model=embedding_model)"
   ]
  },
  {
   "cell_type": "markdown",
   "metadata": {},
   "source": [
    "#### Loading & predicing topics"
   ]
  },
  {
   "cell_type": "code",
   "execution_count": 39,
   "metadata": {},
   "outputs": [],
   "source": [
    "loaded_model = BERTopic.load(\"../models/redPillSubmissions-20\")"
   ]
  },
  {
   "cell_type": "code",
   "execution_count": 42,
   "metadata": {},
   "outputs": [],
   "source": [
    "topics, props = loaded_model.transform(topic_ready_docs)"
   ]
  },
  {
   "cell_type": "markdown",
   "metadata": {},
   "source": [
    "#### Assigning topics & storing"
   ]
  },
  {
   "cell_type": "code",
   "execution_count": 85,
   "metadata": {},
   "outputs": [],
   "source": [
    "submission_redpill_topic_store = submission_redpill_topic.copy()\n",
    "\n",
    "submission_redpill_topic_store[\"topic\"] = topics\n",
    "submission_redpill_topic_store[\"topic\"] = submission_redpill_topic_store[\"topic\"].astype(\"category\")\n",
    "\n",
    "# using the topic from the mapping topic_label_map\n",
    "submission_redpill_topic_store[\"topic_label\"] = submission_redpill_topic_store[\"topic\"].map(topic_label_map)"
   ]
  },
  {
   "cell_type": "code",
   "execution_count": 86,
   "metadata": {},
   "outputs": [
    {
     "data": {
      "text/html": [
       "<div>\n",
       "<style scoped>\n",
       "    .dataframe tbody tr th:only-of-type {\n",
       "        vertical-align: middle;\n",
       "    }\n",
       "\n",
       "    .dataframe tbody tr th {\n",
       "        vertical-align: top;\n",
       "    }\n",
       "\n",
       "    .dataframe thead th {\n",
       "        text-align: right;\n",
       "    }\n",
       "</style>\n",
       "<table border=\"1\" class=\"dataframe\">\n",
       "  <thead>\n",
       "    <tr style=\"text-align: right;\">\n",
       "      <th></th>\n",
       "      <th>score</th>\n",
       "      <th>date</th>\n",
       "      <th>title</th>\n",
       "      <th>author_flair_text</th>\n",
       "      <th>link_flair_text</th>\n",
       "      <th>locked</th>\n",
       "      <th>over_18</th>\n",
       "      <th>author</th>\n",
       "      <th>link</th>\n",
       "      <th>body</th>\n",
       "      <th>month</th>\n",
       "      <th>year</th>\n",
       "      <th>month_year</th>\n",
       "      <th>date_ordinal</th>\n",
       "      <th>doc_text</th>\n",
       "      <th>topic</th>\n",
       "      <th>topic_label</th>\n",
       "    </tr>\n",
       "  </thead>\n",
       "  <tbody>\n",
       "    <tr>\n",
       "      <th>3</th>\n",
       "      <td>8</td>\n",
       "      <td>2013-06-17</td>\n",
       "      <td>Suggested Reading List?</td>\n",
       "      <td>Endorsed Woman</td>\n",
       "      <td>NaN</td>\n",
       "      <td>False</td>\n",
       "      <td>False</td>\n",
       "      <td>u/margerym</td>\n",
       "      <td>https://www.reddit.com/r/RedPillWomen/comments...</td>\n",
       "      <td>(I'm new to reddit and the Red Pill community ...</td>\n",
       "      <td>6</td>\n",
       "      <td>2013</td>\n",
       "      <td>2013-06</td>\n",
       "      <td>735036</td>\n",
       "      <td>Suggested Reading List? (I'm new to reddit and...</td>\n",
       "      <td>2</td>\n",
       "      <td>RPW: Philispophy and Meta</td>\n",
       "    </tr>\n",
       "    <tr>\n",
       "      <th>5</th>\n",
       "      <td>20</td>\n",
       "      <td>2013-06-17</td>\n",
       "      <td>What if you don't want kids, but still desire ...</td>\n",
       "      <td>NaN</td>\n",
       "      <td>NaN</td>\n",
       "      <td>False</td>\n",
       "      <td>False</td>\n",
       "      <td>u/alexkitsune</td>\n",
       "      <td>https://www.reddit.com/r/RedPillWomen/comments...</td>\n",
       "      <td>Basically all I see on TRP is all about having...</td>\n",
       "      <td>6</td>\n",
       "      <td>2013</td>\n",
       "      <td>2013-06</td>\n",
       "      <td>735036</td>\n",
       "      <td>What if you don't want kids, but still desire ...</td>\n",
       "      <td>1</td>\n",
       "      <td>Education and Carreer</td>\n",
       "    </tr>\n",
       "    <tr>\n",
       "      <th>7</th>\n",
       "      <td>54</td>\n",
       "      <td>2013-06-17</td>\n",
       "      <td>What's the point if women are going to hit the...</td>\n",
       "      <td>NaN</td>\n",
       "      <td>NaN</td>\n",
       "      <td>False</td>\n",
       "      <td>False</td>\n",
       "      <td>u/MissCherryPi</td>\n",
       "      <td>https://www.reddit.com/r/RedPillWomen/comments...</td>\n",
       "      <td>According to TRP, men can always build attract...</td>\n",
       "      <td>6</td>\n",
       "      <td>2013</td>\n",
       "      <td>2013-06</td>\n",
       "      <td>735036</td>\n",
       "      <td>What's the point if women are going to hit the...</td>\n",
       "      <td>2</td>\n",
       "      <td>RPW: Philispophy and Meta</td>\n",
       "    </tr>\n",
       "    <tr>\n",
       "      <th>13</th>\n",
       "      <td>13</td>\n",
       "      <td>2013-06-17</td>\n",
       "      <td>[Mod] Posting Rules</td>\n",
       "      <td>NaN</td>\n",
       "      <td>NaN</td>\n",
       "      <td>False</td>\n",
       "      <td>False</td>\n",
       "      <td>u/redpillschool</td>\n",
       "      <td>https://www.reddit.com/r/RedPillWomen/comments...</td>\n",
       "      <td>**Posting Submission Rules** * New submissions...</td>\n",
       "      <td>6</td>\n",
       "      <td>2013</td>\n",
       "      <td>2013-06</td>\n",
       "      <td>735036</td>\n",
       "      <td>[Mod] Posting Rules **Posting Submission Rules...</td>\n",
       "      <td>2</td>\n",
       "      <td>RPW: Philispophy and Meta</td>\n",
       "    </tr>\n",
       "    <tr>\n",
       "      <th>16</th>\n",
       "      <td>8</td>\n",
       "      <td>2013-06-18</td>\n",
       "      <td>Apparently this is the place I should post</td>\n",
       "      <td>NaN</td>\n",
       "      <td>NaN</td>\n",
       "      <td>False</td>\n",
       "      <td>False</td>\n",
       "      <td>u/myfavoritethrowaway9</td>\n",
       "      <td>https://www.reddit.com/r/RedPillWomen/comments...</td>\n",
       "      <td>I made a post in TRP earlier but someone sugge...</td>\n",
       "      <td>6</td>\n",
       "      <td>2013</td>\n",
       "      <td>2013-06</td>\n",
       "      <td>735037</td>\n",
       "      <td>Apparently this is the place I should post I m...</td>\n",
       "      <td>3</td>\n",
       "      <td>Gender roles: Alpha/Beta</td>\n",
       "    </tr>\n",
       "  </tbody>\n",
       "</table>\n",
       "</div>"
      ],
      "text/plain": [
       "    score       date                                              title  \\\n",
       "3       8 2013-06-17                            Suggested Reading List?   \n",
       "5      20 2013-06-17  What if you don't want kids, but still desire ...   \n",
       "7      54 2013-06-17  What's the point if women are going to hit the...   \n",
       "13     13 2013-06-17                                [Mod] Posting Rules   \n",
       "16      8 2013-06-18         Apparently this is the place I should post   \n",
       "\n",
       "   author_flair_text link_flair_text  locked  over_18                  author  \\\n",
       "3     Endorsed Woman             NaN   False    False              u/margerym   \n",
       "5                NaN             NaN   False    False           u/alexkitsune   \n",
       "7                NaN             NaN   False    False          u/MissCherryPi   \n",
       "13               NaN             NaN   False    False         u/redpillschool   \n",
       "16               NaN             NaN   False    False  u/myfavoritethrowaway9   \n",
       "\n",
       "                                                 link  \\\n",
       "3   https://www.reddit.com/r/RedPillWomen/comments...   \n",
       "5   https://www.reddit.com/r/RedPillWomen/comments...   \n",
       "7   https://www.reddit.com/r/RedPillWomen/comments...   \n",
       "13  https://www.reddit.com/r/RedPillWomen/comments...   \n",
       "16  https://www.reddit.com/r/RedPillWomen/comments...   \n",
       "\n",
       "                                                 body  month  year month_year  \\\n",
       "3   (I'm new to reddit and the Red Pill community ...      6  2013    2013-06   \n",
       "5   Basically all I see on TRP is all about having...      6  2013    2013-06   \n",
       "7   According to TRP, men can always build attract...      6  2013    2013-06   \n",
       "13  **Posting Submission Rules** * New submissions...      6  2013    2013-06   \n",
       "16  I made a post in TRP earlier but someone sugge...      6  2013    2013-06   \n",
       "\n",
       "    date_ordinal                                           doc_text topic  \\\n",
       "3         735036  Suggested Reading List? (I'm new to reddit and...     2   \n",
       "5         735036  What if you don't want kids, but still desire ...     1   \n",
       "7         735036  What's the point if women are going to hit the...     2   \n",
       "13        735036  [Mod] Posting Rules **Posting Submission Rules...     2   \n",
       "16        735037  Apparently this is the place I should post I m...     3   \n",
       "\n",
       "                  topic_label  \n",
       "3   RPW: Philispophy and Meta  \n",
       "5       Education and Carreer  \n",
       "7   RPW: Philispophy and Meta  \n",
       "13  RPW: Philispophy and Meta  \n",
       "16   Gender roles: Alpha/Beta  "
      ]
     },
     "execution_count": 86,
     "metadata": {},
     "output_type": "execute_result"
    }
   ],
   "source": [
    "submission_redpill_topic_store.head()"
   ]
  },
  {
   "cell_type": "code",
   "execution_count": 95,
   "metadata": {},
   "outputs": [
    {
     "data": {
      "text/plain": [
       "3    https://www.reddit.com/r/RedPillWomen/comments...\n",
       "Name: link, dtype: object"
      ]
     },
     "execution_count": 95,
     "metadata": {},
     "output_type": "execute_result"
    }
   ],
   "source": [
    "submission_redpill_topic_store.link.head(1)\n",
    "\n",
    "submission_redpill_topic.link.head(1)"
   ]
  },
  {
   "cell_type": "code",
   "execution_count": 90,
   "metadata": {},
   "outputs": [],
   "source": [
    "submission_redpill_topic_store.to_csv('../data/submission_redpill_with_topic.csv', index=False)"
   ]
  },
  {
   "cell_type": "markdown",
   "metadata": {},
   "source": [
    "### Modelling withoug 'relationship'"
   ]
  },
  {
   "cell_type": "code",
   "execution_count": 62,
   "metadata": {},
   "outputs": [],
   "source": [
    "# remove \"relationship\"\n",
    "submission_redpill_topic_no_relationship = submission_redpill_topic.copy()\n",
    "submission_redpill_topic_no_relationship['doc_text'] = submission_redpill_topic_no_relationship['doc_text'].str.replace(\"relationship\", '')\n",
    "\n",
    "topic_ready_docs_no_relationship = submission_redpill_topic_no_relationship['doc_text'].tolist()"
   ]
  },
  {
   "cell_type": "code",
   "execution_count": 63,
   "metadata": {},
   "outputs": [
    {
     "data": {
      "text/html": [
       "<div>\n",
       "<style scoped>\n",
       "    .dataframe tbody tr th:only-of-type {\n",
       "        vertical-align: middle;\n",
       "    }\n",
       "\n",
       "    .dataframe tbody tr th {\n",
       "        vertical-align: top;\n",
       "    }\n",
       "\n",
       "    .dataframe thead th {\n",
       "        text-align: right;\n",
       "    }\n",
       "</style>\n",
       "<table border=\"1\" class=\"dataframe\">\n",
       "  <thead>\n",
       "    <tr style=\"text-align: right;\">\n",
       "      <th></th>\n",
       "      <th>Topic</th>\n",
       "      <th>Count</th>\n",
       "      <th>Name</th>\n",
       "      <th>Representation</th>\n",
       "      <th>Representative_Docs</th>\n",
       "    </tr>\n",
       "  </thead>\n",
       "  <tbody>\n",
       "    <tr>\n",
       "      <th>0</th>\n",
       "      <td>-1</td>\n",
       "      <td>5475</td>\n",
       "      <td>-1_am_hes_love_being</td>\n",
       "      <td>[am, hes, love, being, be, get, what, his, him...</td>\n",
       "      <td>[This is what happens when you can't hold your...</td>\n",
       "    </tr>\n",
       "    <tr>\n",
       "      <th>1</th>\n",
       "      <td>0</td>\n",
       "      <td>2367</td>\n",
       "      <td>0_love_advice_together_sex</td>\n",
       "      <td>[love, advice, together, sex, being, feel, muc...</td>\n",
       "      <td>[Exciting Progress From Communicating! I have ...</td>\n",
       "    </tr>\n",
       "    <tr>\n",
       "      <th>2</th>\n",
       "      <td>1</td>\n",
       "      <td>709</td>\n",
       "      <td>1_pill_rpw_women_red</td>\n",
       "      <td>[pill, rpw, women, red, ladies, woman, her, me...</td>\n",
       "      <td>[Who is Red Pill for, anyway? This may have tu...</td>\n",
       "    </tr>\n",
       "    <tr>\n",
       "      <th>3</th>\n",
       "      <td>2</td>\n",
       "      <td>511</td>\n",
       "      <td>2_feminism_feminist_women_men</td>\n",
       "      <td>[feminism, feminist, women, men, female, woman...</td>\n",
       "      <td>[Raise your standards – a social and cultural ...</td>\n",
       "    </tr>\n",
       "    <tr>\n",
       "      <th>4</th>\n",
       "      <td>3</td>\n",
       "      <td>505</td>\n",
       "      <td>3_dating_be_meet_advice</td>\n",
       "      <td>[dating, be, meet, advice, feminine, being, so...</td>\n",
       "      <td>[Just be Yourself! There was a question posed ...</td>\n",
       "    </tr>\n",
       "    <tr>\n",
       "      <th>5</th>\n",
       "      <td>4</td>\n",
       "      <td>401</td>\n",
       "      <td>4_fat_weight_makeup_lose</td>\n",
       "      <td>[fat, weight, makeup, lose, body, look, looks,...</td>\n",
       "      <td>[Is waiting the right thing to do? Hello,  So ...</td>\n",
       "    </tr>\n",
       "    <tr>\n",
       "      <th>6</th>\n",
       "      <td>5</td>\n",
       "      <td>285</td>\n",
       "      <td>5_self_home_homemaking_house</td>\n",
       "      <td>[self, home, homemaking, house, domestic, bein...</td>\n",
       "      <td>[Self Care Taking care of your man, home and f...</td>\n",
       "    </tr>\n",
       "    <tr>\n",
       "      <th>7</th>\n",
       "      <td>6</td>\n",
       "      <td>204</td>\n",
       "      <td>6_dinner_recipes_recipe_meal</td>\n",
       "      <td>[dinner, recipes, recipe, meal, meals, cooking...</td>\n",
       "      <td>[What's for dinner? This is an all inclusive m...</td>\n",
       "    </tr>\n",
       "    <tr>\n",
       "      <th>8</th>\n",
       "      <td>7</td>\n",
       "      <td>198</td>\n",
       "      <td>7_month_motivated_monthly_celebrating</td>\n",
       "      <td>[month, motivated, monthly, celebrating, confe...</td>\n",
       "      <td>[Own Your Stuff It's time for confession y'all...</td>\n",
       "    </tr>\n",
       "    <tr>\n",
       "      <th>9</th>\n",
       "      <td>8</td>\n",
       "      <td>175</td>\n",
       "      <td>8_dating_marriage_sex_sexual</td>\n",
       "      <td>[dating, marriage, sex, sexual, younger, marri...</td>\n",
       "      <td>[Why is lying about your past frowned upon in ...</td>\n",
       "    </tr>\n",
       "    <tr>\n",
       "      <th>10</th>\n",
       "      <td>9</td>\n",
       "      <td>162</td>\n",
       "      <td>9_dress_dresses_wardrobe_wear</td>\n",
       "      <td>[dress, dresses, wardrobe, wear, fashion, dres...</td>\n",
       "      <td>[Help! How to Dress for Beauty Hi! I'm a 20 ye...</td>\n",
       "    </tr>\n",
       "    <tr>\n",
       "      <th>11</th>\n",
       "      <td>10</td>\n",
       "      <td>58</td>\n",
       "      <td>10_rp_introductory_questions_simple</td>\n",
       "      <td>[rp, introductory, questions, simple, ask, web...</td>\n",
       "      <td>[Simple Questions Have a simple question? Ask ...</td>\n",
       "    </tr>\n",
       "    <tr>\n",
       "      <th>12</th>\n",
       "      <td>11</td>\n",
       "      <td>55</td>\n",
       "      <td>11_goals_achieve_month_exercise</td>\n",
       "      <td>[goals, achieve, month, exercise, monthly, goa...</td>\n",
       "      <td>[Monthly Goals Self Improvement can be simple!...</td>\n",
       "    </tr>\n",
       "    <tr>\n",
       "      <th>13</th>\n",
       "      <td>12</td>\n",
       "      <td>35</td>\n",
       "      <td>12_paying_pay_dating_pays</td>\n",
       "      <td>[paying, pay, dating, pays, dinner, paid, mone...</td>\n",
       "      <td>[May have screwed up by not receiving graceful...</td>\n",
       "    </tr>\n",
       "    <tr>\n",
       "      <th>14</th>\n",
       "      <td>13</td>\n",
       "      <td>18</td>\n",
       "      <td>13_music_songs_rap_singing</td>\n",
       "      <td>[music, songs, rap, singing, listening, sing, ...</td>\n",
       "      <td>[RPW Music I did a quick search and didn't see...</td>\n",
       "    </tr>\n",
       "    <tr>\n",
       "      <th>15</th>\n",
       "      <td>14</td>\n",
       "      <td>17</td>\n",
       "      <td>14_rape_raped_assault_consent</td>\n",
       "      <td>[rape, raped, assault, consent, consented, acc...</td>\n",
       "      <td>[Bill for Student Safety: Sexual Assault This ...</td>\n",
       "    </tr>\n",
       "    <tr>\n",
       "      <th>16</th>\n",
       "      <td>15</td>\n",
       "      <td>14</td>\n",
       "      <td>15_flu_infection_pandemic_quarantine</td>\n",
       "      <td>[flu, infection, pandemic, quarantine, sick, s...</td>\n",
       "      <td>[When he wont accept any help? So my new partn...</td>\n",
       "    </tr>\n",
       "    <tr>\n",
       "      <th>17</th>\n",
       "      <td>16</td>\n",
       "      <td>14</td>\n",
       "      <td>16_nails_nail_polished_toes</td>\n",
       "      <td>[nails, nail, polished, toes, polishes, tip, g...</td>\n",
       "      <td>[What kind of nails do you have? My personal f...</td>\n",
       "    </tr>\n",
       "    <tr>\n",
       "      <th>18</th>\n",
       "      <td>17</td>\n",
       "      <td>10</td>\n",
       "      <td>17_fertility_infertility_pregnant_menopause</td>\n",
       "      <td>[fertility, infertility, pregnant, menopause, ...</td>\n",
       "      <td>[\"Jimmy Fallon reveals he and wife Nancy Juvon...</td>\n",
       "    </tr>\n",
       "    <tr>\n",
       "      <th>19</th>\n",
       "      <td>18</td>\n",
       "      <td>10</td>\n",
       "      <td>18_fragrances_perfume_perfumes_scents</td>\n",
       "      <td>[fragrances, perfume, perfumes, scents, cologn...</td>\n",
       "      <td>[Your favorite fragrance? Hi ladies! I've comm...</td>\n",
       "    </tr>\n",
       "  </tbody>\n",
       "</table>\n",
       "</div>"
      ],
      "text/plain": [
       "    Topic  Count                                         Name  \\\n",
       "0      -1   5475                         -1_am_hes_love_being   \n",
       "1       0   2367                   0_love_advice_together_sex   \n",
       "2       1    709                         1_pill_rpw_women_red   \n",
       "3       2    511                2_feminism_feminist_women_men   \n",
       "4       3    505                      3_dating_be_meet_advice   \n",
       "5       4    401                     4_fat_weight_makeup_lose   \n",
       "6       5    285                 5_self_home_homemaking_house   \n",
       "7       6    204                 6_dinner_recipes_recipe_meal   \n",
       "8       7    198        7_month_motivated_monthly_celebrating   \n",
       "9       8    175                 8_dating_marriage_sex_sexual   \n",
       "10      9    162                9_dress_dresses_wardrobe_wear   \n",
       "11     10     58          10_rp_introductory_questions_simple   \n",
       "12     11     55              11_goals_achieve_month_exercise   \n",
       "13     12     35                    12_paying_pay_dating_pays   \n",
       "14     13     18                   13_music_songs_rap_singing   \n",
       "15     14     17                14_rape_raped_assault_consent   \n",
       "16     15     14         15_flu_infection_pandemic_quarantine   \n",
       "17     16     14                  16_nails_nail_polished_toes   \n",
       "18     17     10  17_fertility_infertility_pregnant_menopause   \n",
       "19     18     10        18_fragrances_perfume_perfumes_scents   \n",
       "\n",
       "                                       Representation  \\\n",
       "0   [am, hes, love, being, be, get, what, his, him...   \n",
       "1   [love, advice, together, sex, being, feel, muc...   \n",
       "2   [pill, rpw, women, red, ladies, woman, her, me...   \n",
       "3   [feminism, feminist, women, men, female, woman...   \n",
       "4   [dating, be, meet, advice, feminine, being, so...   \n",
       "5   [fat, weight, makeup, lose, body, look, looks,...   \n",
       "6   [self, home, homemaking, house, domestic, bein...   \n",
       "7   [dinner, recipes, recipe, meal, meals, cooking...   \n",
       "8   [month, motivated, monthly, celebrating, confe...   \n",
       "9   [dating, marriage, sex, sexual, younger, marri...   \n",
       "10  [dress, dresses, wardrobe, wear, fashion, dres...   \n",
       "11  [rp, introductory, questions, simple, ask, web...   \n",
       "12  [goals, achieve, month, exercise, monthly, goa...   \n",
       "13  [paying, pay, dating, pays, dinner, paid, mone...   \n",
       "14  [music, songs, rap, singing, listening, sing, ...   \n",
       "15  [rape, raped, assault, consent, consented, acc...   \n",
       "16  [flu, infection, pandemic, quarantine, sick, s...   \n",
       "17  [nails, nail, polished, toes, polishes, tip, g...   \n",
       "18  [fertility, infertility, pregnant, menopause, ...   \n",
       "19  [fragrances, perfume, perfumes, scents, cologn...   \n",
       "\n",
       "                                  Representative_Docs  \n",
       "0   [This is what happens when you can't hold your...  \n",
       "1   [Exciting Progress From Communicating! I have ...  \n",
       "2   [Who is Red Pill for, anyway? This may have tu...  \n",
       "3   [Raise your standards – a social and cultural ...  \n",
       "4   [Just be Yourself! There was a question posed ...  \n",
       "5   [Is waiting the right thing to do? Hello,  So ...  \n",
       "6   [Self Care Taking care of your man, home and f...  \n",
       "7   [What's for dinner? This is an all inclusive m...  \n",
       "8   [Own Your Stuff It's time for confession y'all...  \n",
       "9   [Why is lying about your past frowned upon in ...  \n",
       "10  [Help! How to Dress for Beauty Hi! I'm a 20 ye...  \n",
       "11  [Simple Questions Have a simple question? Ask ...  \n",
       "12  [Monthly Goals Self Improvement can be simple!...  \n",
       "13  [May have screwed up by not receiving graceful...  \n",
       "14  [RPW Music I did a quick search and didn't see...  \n",
       "15  [Bill for Student Safety: Sexual Assault This ...  \n",
       "16  [When he wont accept any help? So my new partn...  \n",
       "17  [What kind of nails do you have? My personal f...  \n",
       "18  [\"Jimmy Fallon reveals he and wife Nancy Juvon...  \n",
       "19  [Your favorite fragrance? Hi ladies! I've comm...  "
      ]
     },
     "execution_count": 63,
     "metadata": {},
     "output_type": "execute_result"
    }
   ],
   "source": [
    "representation_model = KeyBERTInspired() \n",
    "topic_model_no_no_relationship = BERTopic(representation_model=representation_model, nr_topics=20) # nr_topics=\"auto\"\n",
    "\n",
    "# takes 4.5 min for full\n",
    "topic_model_no_no_relationship.fit(topic_ready_docs_no_relationship)\n",
    "\n",
    "topic_model_no_no_relationship.get_topic_info()    # Get topic words and their probabilities"
   ]
  },
  {
   "cell_type": "code",
   "execution_count": 64,
   "metadata": {},
   "outputs": [],
   "source": [
    "# safetensors\n",
    "embedding_model = \"sentence-transformers/all-MiniLM-L6-v2\"\n",
    "topic_model.save(\"../models/redPillSubmissions-20-wout-relationship\", serialization=\"safetensors\", save_ctfidf=True, save_embedding_model=embedding_model)"
   ]
  }
 ],
 "metadata": {
  "kernelspec": {
   "display_name": ".venv",
   "language": "python",
   "name": "python3"
  },
  "language_info": {
   "codemirror_mode": {
    "name": "ipython",
    "version": 3
   },
   "file_extension": ".py",
   "mimetype": "text/x-python",
   "name": "python",
   "nbconvert_exporter": "python",
   "pygments_lexer": "ipython3",
   "version": "3.9.6"
  },
  "orig_nbformat": 4
 },
 "nbformat": 4,
 "nbformat_minor": 2
}
